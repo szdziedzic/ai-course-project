{
  "nbformat": 4,
  "nbformat_minor": 0,
  "metadata": {
    "colab": {
      "name": "Untitled0.ipynb",
      "provenance": [],
      "authorship_tag": "ABX9TyMH4fwWL1InMSbBpqZV7913",
      "include_colab_link": true
    },
    "kernelspec": {
      "name": "python3",
      "display_name": "Python 3"
    },
    "language_info": {
      "name": "python"
    }
  },
  "cells": [
    {
      "cell_type": "markdown",
      "metadata": {
        "id": "view-in-github",
        "colab_type": "text"
      },
      "source": [
        "<a href=\"https://colab.research.google.com/github/szdziedzic/ai-course-project/blob/main/flight_prices_predictor.ipynb\" target=\"_parent\"><img src=\"https://colab.research.google.com/assets/colab-badge.svg\" alt=\"Open In Colab\"/></a>"
      ]
    },
    {
      "cell_type": "markdown",
      "source": [
        "# Flight prices predictor\n",
        "\n",
        "The goal of this project is to train couple of machine learning models to predict flight prices based on [this](https://www.kaggle.com/datasets/shubhambathwal/flight-price-prediction?resource=download) dataset and compare the results which they were able to achieve."
      ],
      "metadata": {
        "id": "y6yd5LOVy_gt"
      }
    },
    {
      "cell_type": "markdown",
      "source": [
        "First let's load and analyze the dataset"
      ],
      "metadata": {
        "id": "G14ZRfxvz3VQ"
      }
    },
    {
      "cell_type": "code",
      "source": [
        "import pandas as pd\n",
        "import numpy as np"
      ],
      "metadata": {
        "id": "rB5s-ikF0Fco"
      },
      "execution_count": 136,
      "outputs": []
    },
    {
      "cell_type": "code",
      "source": [
        "data = pd.read_csv('flights_data.csv', index_col=0).sample(5000)"
      ],
      "metadata": {
        "id": "KFr9Fmm60Ml6"
      },
      "execution_count": 137,
      "outputs": []
    },
    {
      "cell_type": "code",
      "source": [
        "data.head()"
      ],
      "metadata": {
        "colab": {
          "base_uri": "https://localhost:8080/",
          "height": 206
        },
        "id": "QsG1DYhI1Dpz",
        "outputId": "20083b8c-8945-4033-c879-f8373ccf04df"
      },
      "execution_count": 138,
      "outputs": [
        {
          "output_type": "execute_result",
          "data": {
            "text/plain": [
              "          airline   flight source_city departure_time stops arrival_time  \\\n",
              "174189     Indigo   6E-425   Hyderabad      Afternoon   one        Night   \n",
              "53848      Indigo  6E-5332      Mumbai  Early_Morning   one    Afternoon   \n",
              "143444     Indigo  6E-6172     Kolkata          Night  zero   Late_Night   \n",
              "126664  Air_India   AI-573     Kolkata        Evening   one    Afternoon   \n",
              "118619    AirAsia  I5-1228   Bangalore  Early_Morning  zero      Morning   \n",
              "\n",
              "       destination_city    class  duration  days_left  price  \n",
              "174189          Kolkata  Economy      6.17         31   9543  \n",
              "53848         Bangalore  Economy      6.92          8   6930  \n",
              "143444        Hyderabad  Economy      2.17         11   6489  \n",
              "126664            Delhi  Economy     18.75         44  11260  \n",
              "118619          Chennai  Economy      1.00         38   1603  "
            ],
            "text/html": [
              "\n",
              "  <div id=\"df-09709d37-d93a-4fee-a2d1-7beb72c2da22\">\n",
              "    <div class=\"colab-df-container\">\n",
              "      <div>\n",
              "<style scoped>\n",
              "    .dataframe tbody tr th:only-of-type {\n",
              "        vertical-align: middle;\n",
              "    }\n",
              "\n",
              "    .dataframe tbody tr th {\n",
              "        vertical-align: top;\n",
              "    }\n",
              "\n",
              "    .dataframe thead th {\n",
              "        text-align: right;\n",
              "    }\n",
              "</style>\n",
              "<table border=\"1\" class=\"dataframe\">\n",
              "  <thead>\n",
              "    <tr style=\"text-align: right;\">\n",
              "      <th></th>\n",
              "      <th>airline</th>\n",
              "      <th>flight</th>\n",
              "      <th>source_city</th>\n",
              "      <th>departure_time</th>\n",
              "      <th>stops</th>\n",
              "      <th>arrival_time</th>\n",
              "      <th>destination_city</th>\n",
              "      <th>class</th>\n",
              "      <th>duration</th>\n",
              "      <th>days_left</th>\n",
              "      <th>price</th>\n",
              "    </tr>\n",
              "  </thead>\n",
              "  <tbody>\n",
              "    <tr>\n",
              "      <th>174189</th>\n",
              "      <td>Indigo</td>\n",
              "      <td>6E-425</td>\n",
              "      <td>Hyderabad</td>\n",
              "      <td>Afternoon</td>\n",
              "      <td>one</td>\n",
              "      <td>Night</td>\n",
              "      <td>Kolkata</td>\n",
              "      <td>Economy</td>\n",
              "      <td>6.17</td>\n",
              "      <td>31</td>\n",
              "      <td>9543</td>\n",
              "    </tr>\n",
              "    <tr>\n",
              "      <th>53848</th>\n",
              "      <td>Indigo</td>\n",
              "      <td>6E-5332</td>\n",
              "      <td>Mumbai</td>\n",
              "      <td>Early_Morning</td>\n",
              "      <td>one</td>\n",
              "      <td>Afternoon</td>\n",
              "      <td>Bangalore</td>\n",
              "      <td>Economy</td>\n",
              "      <td>6.92</td>\n",
              "      <td>8</td>\n",
              "      <td>6930</td>\n",
              "    </tr>\n",
              "    <tr>\n",
              "      <th>143444</th>\n",
              "      <td>Indigo</td>\n",
              "      <td>6E-6172</td>\n",
              "      <td>Kolkata</td>\n",
              "      <td>Night</td>\n",
              "      <td>zero</td>\n",
              "      <td>Late_Night</td>\n",
              "      <td>Hyderabad</td>\n",
              "      <td>Economy</td>\n",
              "      <td>2.17</td>\n",
              "      <td>11</td>\n",
              "      <td>6489</td>\n",
              "    </tr>\n",
              "    <tr>\n",
              "      <th>126664</th>\n",
              "      <td>Air_India</td>\n",
              "      <td>AI-573</td>\n",
              "      <td>Kolkata</td>\n",
              "      <td>Evening</td>\n",
              "      <td>one</td>\n",
              "      <td>Afternoon</td>\n",
              "      <td>Delhi</td>\n",
              "      <td>Economy</td>\n",
              "      <td>18.75</td>\n",
              "      <td>44</td>\n",
              "      <td>11260</td>\n",
              "    </tr>\n",
              "    <tr>\n",
              "      <th>118619</th>\n",
              "      <td>AirAsia</td>\n",
              "      <td>I5-1228</td>\n",
              "      <td>Bangalore</td>\n",
              "      <td>Early_Morning</td>\n",
              "      <td>zero</td>\n",
              "      <td>Morning</td>\n",
              "      <td>Chennai</td>\n",
              "      <td>Economy</td>\n",
              "      <td>1.00</td>\n",
              "      <td>38</td>\n",
              "      <td>1603</td>\n",
              "    </tr>\n",
              "  </tbody>\n",
              "</table>\n",
              "</div>\n",
              "      <button class=\"colab-df-convert\" onclick=\"convertToInteractive('df-09709d37-d93a-4fee-a2d1-7beb72c2da22')\"\n",
              "              title=\"Convert this dataframe to an interactive table.\"\n",
              "              style=\"display:none;\">\n",
              "        \n",
              "  <svg xmlns=\"http://www.w3.org/2000/svg\" height=\"24px\"viewBox=\"0 0 24 24\"\n",
              "       width=\"24px\">\n",
              "    <path d=\"M0 0h24v24H0V0z\" fill=\"none\"/>\n",
              "    <path d=\"M18.56 5.44l.94 2.06.94-2.06 2.06-.94-2.06-.94-.94-2.06-.94 2.06-2.06.94zm-11 1L8.5 8.5l.94-2.06 2.06-.94-2.06-.94L8.5 2.5l-.94 2.06-2.06.94zm10 10l.94 2.06.94-2.06 2.06-.94-2.06-.94-.94-2.06-.94 2.06-2.06.94z\"/><path d=\"M17.41 7.96l-1.37-1.37c-.4-.4-.92-.59-1.43-.59-.52 0-1.04.2-1.43.59L10.3 9.45l-7.72 7.72c-.78.78-.78 2.05 0 2.83L4 21.41c.39.39.9.59 1.41.59.51 0 1.02-.2 1.41-.59l7.78-7.78 2.81-2.81c.8-.78.8-2.07 0-2.86zM5.41 20L4 18.59l7.72-7.72 1.47 1.35L5.41 20z\"/>\n",
              "  </svg>\n",
              "      </button>\n",
              "      \n",
              "  <style>\n",
              "    .colab-df-container {\n",
              "      display:flex;\n",
              "      flex-wrap:wrap;\n",
              "      gap: 12px;\n",
              "    }\n",
              "\n",
              "    .colab-df-convert {\n",
              "      background-color: #E8F0FE;\n",
              "      border: none;\n",
              "      border-radius: 50%;\n",
              "      cursor: pointer;\n",
              "      display: none;\n",
              "      fill: #1967D2;\n",
              "      height: 32px;\n",
              "      padding: 0 0 0 0;\n",
              "      width: 32px;\n",
              "    }\n",
              "\n",
              "    .colab-df-convert:hover {\n",
              "      background-color: #E2EBFA;\n",
              "      box-shadow: 0px 1px 2px rgba(60, 64, 67, 0.3), 0px 1px 3px 1px rgba(60, 64, 67, 0.15);\n",
              "      fill: #174EA6;\n",
              "    }\n",
              "\n",
              "    [theme=dark] .colab-df-convert {\n",
              "      background-color: #3B4455;\n",
              "      fill: #D2E3FC;\n",
              "    }\n",
              "\n",
              "    [theme=dark] .colab-df-convert:hover {\n",
              "      background-color: #434B5C;\n",
              "      box-shadow: 0px 1px 3px 1px rgba(0, 0, 0, 0.15);\n",
              "      filter: drop-shadow(0px 1px 2px rgba(0, 0, 0, 0.3));\n",
              "      fill: #FFFFFF;\n",
              "    }\n",
              "  </style>\n",
              "\n",
              "      <script>\n",
              "        const buttonEl =\n",
              "          document.querySelector('#df-09709d37-d93a-4fee-a2d1-7beb72c2da22 button.colab-df-convert');\n",
              "        buttonEl.style.display =\n",
              "          google.colab.kernel.accessAllowed ? 'block' : 'none';\n",
              "\n",
              "        async function convertToInteractive(key) {\n",
              "          const element = document.querySelector('#df-09709d37-d93a-4fee-a2d1-7beb72c2da22');\n",
              "          const dataTable =\n",
              "            await google.colab.kernel.invokeFunction('convertToInteractive',\n",
              "                                                     [key], {});\n",
              "          if (!dataTable) return;\n",
              "\n",
              "          const docLinkHtml = 'Like what you see? Visit the ' +\n",
              "            '<a target=\"_blank\" href=https://colab.research.google.com/notebooks/data_table.ipynb>data table notebook</a>'\n",
              "            + ' to learn more about interactive tables.';\n",
              "          element.innerHTML = '';\n",
              "          dataTable['output_type'] = 'display_data';\n",
              "          await google.colab.output.renderOutput(dataTable, element);\n",
              "          const docLink = document.createElement('div');\n",
              "          docLink.innerHTML = docLinkHtml;\n",
              "          element.appendChild(docLink);\n",
              "        }\n",
              "      </script>\n",
              "    </div>\n",
              "  </div>\n",
              "  "
            ]
          },
          "metadata": {},
          "execution_count": 138
        }
      ]
    },
    {
      "cell_type": "code",
      "source": [
        "data.shape"
      ],
      "metadata": {
        "colab": {
          "base_uri": "https://localhost:8080/"
        },
        "id": "ZIHrXGyn2UJH",
        "outputId": "ea40bed0-01b3-44c0-fd3e-14f20e593a66"
      },
      "execution_count": 139,
      "outputs": [
        {
          "output_type": "execute_result",
          "data": {
            "text/plain": [
              "(5000, 11)"
            ]
          },
          "metadata": {},
          "execution_count": 139
        }
      ]
    },
    {
      "cell_type": "code",
      "source": [
        "data.info()"
      ],
      "metadata": {
        "colab": {
          "base_uri": "https://localhost:8080/"
        },
        "id": "Hjb8q_c42bq4",
        "outputId": "d350e5eb-7e37-43b5-c51e-3b1ec8ed995e"
      },
      "execution_count": 140,
      "outputs": [
        {
          "output_type": "stream",
          "name": "stdout",
          "text": [
            "<class 'pandas.core.frame.DataFrame'>\n",
            "Int64Index: 5000 entries, 174189 to 168770\n",
            "Data columns (total 11 columns):\n",
            " #   Column            Non-Null Count  Dtype  \n",
            "---  ------            --------------  -----  \n",
            " 0   airline           5000 non-null   object \n",
            " 1   flight            5000 non-null   object \n",
            " 2   source_city       5000 non-null   object \n",
            " 3   departure_time    5000 non-null   object \n",
            " 4   stops             5000 non-null   object \n",
            " 5   arrival_time      5000 non-null   object \n",
            " 6   destination_city  5000 non-null   object \n",
            " 7   class             5000 non-null   object \n",
            " 8   duration          5000 non-null   float64\n",
            " 9   days_left         5000 non-null   int64  \n",
            " 10  price             5000 non-null   int64  \n",
            "dtypes: float64(1), int64(2), object(8)\n",
            "memory usage: 468.8+ KB\n"
          ]
        }
      ]
    },
    {
      "cell_type": "markdown",
      "source": [
        "According to kaggle website asociated with dataset linked above we can see what each of the columns mean:\n",
        "```\n",
        "1) Airline: The name of the airline company is stored in the airline column.\n",
        "2) Flight: Flight stores information regarding the plane's flight code.\n",
        "3) Source City: City from which the flight takes off.\n",
        "4) Departure Time: This is a derived categorical feature obtained created by grouping time periods into bins. It stores information about the departure time.\n",
        "5) Stops: Stores the number of stops between the source and destination cities.\n",
        "6) Arrival Time: This is a derived categorical feature created by grouping time intervals into bins. Keeps information about the arrival time.\n",
        "7) Destination City: City where the flight will land.\n",
        "8) Class: A categorical feature that contains information on seat class; it has two distinct values: Business and Economy.\n",
        "9) Duration: A continuous feature that displays the overall amount of time it takes to travel between cities in hours.\n",
        "10)Days Left: This is a derived characteristic that is calculated by subtracting the trip date by the booking date.\n",
        "11) Price: Target variable stores information of the ticket price.\n",
        "```"
      ],
      "metadata": {
        "id": "01ifblMZ1cxh"
      }
    },
    {
      "cell_type": "code",
      "source": [
        "for col in data.columns:\n",
        "  print(f\"Column: {col}\")\n",
        "  print(data[col].value_counts())\n",
        "  print(f\"Number of null values: {data[col].isnull().sum()}\")\n",
        "  print(f\"Number of unique values in column: {data[col].nunique()}\")\n",
        "  print()"
      ],
      "metadata": {
        "colab": {
          "base_uri": "https://localhost:8080/"
        },
        "id": "sHSMjbU31kzv",
        "outputId": "360a4afe-b3ab-431b-9ef4-5eb285163659"
      },
      "execution_count": 141,
      "outputs": [
        {
          "output_type": "stream",
          "name": "stdout",
          "text": [
            "Column: airline\n",
            "Vistara      2088\n",
            "Air_India    1388\n",
            "Indigo        726\n",
            "GO_FIRST      359\n",
            "AirAsia       288\n",
            "SpiceJet      151\n",
            "Name: airline, dtype: int64\n",
            "Number of null values: 0\n",
            "Number of unique values in column: 6\n",
            "\n",
            "Column: flight\n",
            "UK-772     51\n",
            "UK-826     51\n",
            "UK-878     46\n",
            "UK-720     45\n",
            "UK-822     43\n",
            "           ..\n",
            "G8-422      1\n",
            "6E-6513     1\n",
            "6E-6215     1\n",
            "6E-268      1\n",
            "6E-2616     1\n",
            "Name: flight, Length: 932, dtype: int64\n",
            "Number of null values: 0\n",
            "Number of unique values in column: 932\n",
            "\n",
            "Column: source_city\n",
            "Delhi        1060\n",
            "Mumbai        996\n",
            "Bangalore     894\n",
            "Kolkata       786\n",
            "Hyderabad     644\n",
            "Chennai       620\n",
            "Name: source_city, dtype: int64\n",
            "Number of null values: 0\n",
            "Number of unique values in column: 6\n",
            "\n",
            "Column: departure_time\n",
            "Morning          1157\n",
            "Evening          1105\n",
            "Early_Morning    1089\n",
            "Night             830\n",
            "Afternoon         803\n",
            "Late_Night         16\n",
            "Name: departure_time, dtype: int64\n",
            "Number of null values: 0\n",
            "Number of unique values in column: 6\n",
            "\n",
            "Column: stops\n",
            "one            4132\n",
            "zero            653\n",
            "two_or_more     215\n",
            "Name: stops, dtype: int64\n",
            "Number of null values: 0\n",
            "Number of unique values in column: 3\n",
            "\n",
            "Column: arrival_time\n",
            "Night            1489\n",
            "Evening          1319\n",
            "Morning          1066\n",
            "Afternoon         638\n",
            "Early_Morning     259\n",
            "Late_Night        229\n",
            "Name: arrival_time, dtype: int64\n",
            "Number of null values: 0\n",
            "Number of unique values in column: 6\n",
            "\n",
            "Column: destination_city\n",
            "Delhi        955\n",
            "Mumbai       943\n",
            "Bangalore    912\n",
            "Kolkata      830\n",
            "Chennai      681\n",
            "Hyderabad    679\n",
            "Name: destination_city, dtype: int64\n",
            "Number of null values: 0\n",
            "Number of unique values in column: 6\n",
            "\n",
            "Column: class\n",
            "Economy     3456\n",
            "Business    1544\n",
            "Name: class, dtype: int64\n",
            "Number of null values: 0\n",
            "Number of unique values in column: 2\n",
            "\n",
            "Column: duration\n",
            "2.25     87\n",
            "2.17     83\n",
            "2.75     59\n",
            "2.08     47\n",
            "8.00     41\n",
            "         ..\n",
            "37.00     1\n",
            "34.00     1\n",
            "19.83     1\n",
            "35.33     1\n",
            "31.58     1\n",
            "Name: duration, Length: 361, dtype: int64\n",
            "Number of null values: 0\n",
            "Number of unique values in column: 361\n",
            "\n",
            "Column: days_left\n",
            "23    129\n",
            "25    128\n",
            "27    128\n",
            "30    121\n",
            "40    120\n",
            "11    118\n",
            "18    117\n",
            "24    117\n",
            "33    117\n",
            "12    116\n",
            "22    113\n",
            "36    113\n",
            "14    112\n",
            "39    111\n",
            "20    110\n",
            "16    110\n",
            "21    108\n",
            "45    108\n",
            "28    107\n",
            "43    106\n",
            "42    105\n",
            "37    105\n",
            "8     103\n",
            "32    103\n",
            "31    103\n",
            "38    103\n",
            "41    102\n",
            "35    102\n",
            "6     101\n",
            "34    100\n",
            "10    100\n",
            "7      98\n",
            "29     98\n",
            "15     98\n",
            "44     96\n",
            "17     96\n",
            "19     95\n",
            "5      94\n",
            "26     94\n",
            "47     93\n",
            "46     92\n",
            "49     92\n",
            "4      91\n",
            "48     90\n",
            "9      89\n",
            "13     88\n",
            "3      70\n",
            "2      57\n",
            "1      33\n",
            "Name: days_left, dtype: int64\n",
            "Number of null values: 0\n",
            "Number of unique values in column: 49\n",
            "\n",
            "Column: price\n",
            "54684    30\n",
            "5955     26\n",
            "54608    26\n",
            "6489     24\n",
            "50271    24\n",
            "         ..\n",
            "7313      1\n",
            "7345      1\n",
            "29622     1\n",
            "13840     1\n",
            "44583     1\n",
            "Name: price, Length: 2028, dtype: int64\n",
            "Number of null values: 0\n",
            "Number of unique values in column: 2028\n",
            "\n"
          ]
        }
      ]
    },
    {
      "cell_type": "markdown",
      "source": [
        "As we can see non of the columns have any missing data so it looks like dataset is pretty clean.\n",
        "\n",
        "Let's analyze data in each column:\n",
        "- `airline`: this column contains categorical data with 6 unique values\n",
        "- `flight`:  this column contains categorical data with 1561 unique values\n",
        "- `source_city`: this column contains categorical data with 6 unique values\n",
        "- `departure_time`: this column contains categorical data with 6 unique values\n",
        "- `stops`: this column contains categorical data with 3 unique values\n",
        "- `arrival_time`: this column contains categorical data with 6 unique values\n",
        "- `destination_city`: this column contains categorical data with 6 unique values\n",
        "- `class`: this column contains categorical data with 2 unique values\n",
        "- `durration`: this is numerical feature\n",
        "- `price`: this is numerical feature\n",
        "- `days_left`: this is numerical feature"
      ],
      "metadata": {
        "id": "wjKg4qnn5SWc"
      }
    },
    {
      "cell_type": "code",
      "source": [
        "import matplotlib.pyplot as plt"
      ],
      "metadata": {
        "id": "4onIBfdq9Gyx"
      },
      "execution_count": 142,
      "outputs": []
    },
    {
      "cell_type": "code",
      "source": [
        "for col in [\"airline\", \"source_city\", \"departure_time\", \"stops\", \"arrival_time\", \"destination_city\", \"class\"]:\n",
        "  data[col].value_counts().plot(kind=\"bar\", title=col)\n",
        "  plt.show()\n",
        "  print()"
      ],
      "metadata": {
        "colab": {
          "base_uri": "https://localhost:8080/",
          "height": 1000
        },
        "id": "0mJYZVIf5UQz",
        "outputId": "65947fa8-1952-4534-c9ba-7a7166e1d4cb"
      },
      "execution_count": 143,
      "outputs": [
        {
          "output_type": "display_data",
          "data": {
            "text/plain": [
              "<Figure size 432x288 with 1 Axes>"
            ],
            "image/png": "[encoded data removed]"
          },
          "metadata": {
            "needs_background": "light"
          }
        },
        {
          "output_type": "stream",
          "name": "stdout",
          "text": [
            "\n"
          ]
        },
        {
          "output_type": "display_data",
          "data": {
            "text/plain": [
              "<Figure size 432x288 with 1 Axes>"
            ],
            "image/png": "[encoded data removed]"
          },
          "metadata": {
            "needs_background": "light"
          }
        },
        {
          "output_type": "stream",
          "name": "stdout",
          "text": [
            "\n"
          ]
        },
        {
          "output_type": "display_data",
          "data": {
            "text/plain": [
              "<Figure size 432x288 with 1 Axes>"
            ],
            "image/png": "[encoded data removed]"
          },
          "metadata": {
            "needs_background": "light"
          }
        },
        {
          "output_type": "stream",
          "name": "stdout",
          "text": [
            "\n"
          ]
        },
        {
          "output_type": "display_data",
          "data": {
            "text/plain": [
              "<Figure size 432x288 with 1 Axes>"
            ],
            "image/png": "[encoded data removed]"
          },
          "metadata": {
            "needs_background": "light"
          }
        },
        {
          "output_type": "stream",
          "name": "stdout",
          "text": [
            "\n"
          ]
        },
        {
          "output_type": "display_data",
          "data": {
            "text/plain": [
              "<Figure size 432x288 with 1 Axes>"
            ],
            "image/png": "[encoded data removed]"
          },
          "metadata": {
            "needs_background": "light"
          }
        },
        {
          "output_type": "stream",
          "name": "stdout",
          "text": [
            "\n"
          ]
        },
        {
          "output_type": "display_data",
          "data": {
            "text/plain": [
              "<Figure size 432x288 with 1 Axes>"
            ],
            "image/png": "[encoded data removed]"
          },
          "metadata": {
            "needs_background": "light"
          }
        },
        {
          "output_type": "stream",
          "name": "stdout",
          "text": [
            "\n"
          ]
        },
        {
          "output_type": "display_data",
          "data": {
            "text/plain": [
              "<Figure size 432x288 with 1 Axes>"
            ],
            "image/png": "[encoded data removed]"
          },
          "metadata": {
            "needs_background": "light"
          }
        },
        {
          "output_type": "stream",
          "name": "stdout",
          "text": [
            "\n"
          ]
        }
      ]
    },
    {
      "cell_type": "code",
      "source": [
        "data[\"flight\"].value_counts().nlargest(60).plot(kind=\"bar\", title=\"flight\", figsize=(10, 10))\n",
        "plt.show()"
      ],
      "metadata": {
        "colab": {
          "base_uri": "https://localhost:8080/",
          "height": 633
        },
        "id": "vZZBldyX9tJB",
        "outputId": "17fb8bdb-6b20-442b-acf5-715072e613b5"
      },
      "execution_count": 144,
      "outputs": [
        {
          "output_type": "display_data",
          "data": {
            "text/plain": [
              "<Figure size 720x720 with 1 Axes>"
            ],
            "image/png": "[encoded data removed]"
          },
          "metadata": {
            "needs_background": "light"
          }
        }
      ]
    },
    {
      "cell_type": "markdown",
      "source": [
        "We have ton of categories in `flight` column. Let's try to limit this number"
      ],
      "metadata": {
        "id": "jgEnx1c1icVM"
      }
    },
    {
      "cell_type": "code",
      "source": [
        "flight_value_counts = data[\"flight\"].value_counts()\n",
        "values_to_be_squashed = []\n",
        "for value in flight_value_counts.keys():\n",
        "  # set flight category for those which occure less then 100 times to OTHER\n",
        "  # to limit number of categories\n",
        "  if flight_value_counts[value] < 20:\n",
        "    values_to_be_squashed.append(value)\n",
        "print(len(values_to_be_squashed))"
      ],
      "metadata": {
        "colab": {
          "base_uri": "https://localhost:8080/"
        },
        "id": "oZiigCjXjaW-",
        "outputId": "0c40d6fa-221c-4073-9aeb-81e743b8515e"
      },
      "execution_count": 145,
      "outputs": [
        {
          "output_type": "stream",
          "name": "stdout",
          "text": [
            "869\n"
          ]
        }
      ]
    },
    {
      "cell_type": "code",
      "source": [
        "data[\"flight\"] = data[\"flight\"].replace(values_to_be_squashed, \"OTHER\")\n",
        "\n",
        "print(data[\"flight\"].value_counts())"
      ],
      "metadata": {
        "colab": {
          "base_uri": "https://localhost:8080/"
        },
        "id": "ngw-G0__mEb2",
        "outputId": "1f5f2992-7cc4-4fbb-8b9b-688aebf6ceae"
      },
      "execution_count": 146,
      "outputs": [
        {
          "output_type": "stream",
          "name": "stdout",
          "text": [
            "OTHER     3116\n",
            "UK-772      51\n",
            "UK-826      51\n",
            "UK-878      46\n",
            "UK-720      45\n",
            "          ... \n",
            "AI-809      21\n",
            "AI-430      20\n",
            "UK-955      20\n",
            "AI-507      20\n",
            "AI-505      20\n",
            "Name: flight, Length: 64, dtype: int64\n"
          ]
        }
      ]
    },
    {
      "cell_type": "markdown",
      "source": [
        "We don't have any missing data in columns and we don't have columns which only have one value, so fortunately we can skip step of fixing it."
      ],
      "metadata": {
        "id": "FCBvUBH5_UF-"
      }
    },
    {
      "cell_type": "markdown",
      "source": [
        "Let's make sure that all of the values in our columns are represented by numbers instead of the text"
      ],
      "metadata": {
        "id": "gDORvkOb_iTE"
      }
    },
    {
      "cell_type": "code",
      "source": [
        "print(\"Data types and their frequency:\")\n",
        "data.dtypes.value_counts()"
      ],
      "metadata": {
        "colab": {
          "base_uri": "https://localhost:8080/"
        },
        "id": "eBCc3P7Z_zLR",
        "outputId": "147bcdcc-a2e1-42a3-d04f-de79091ea83e"
      },
      "execution_count": 12,
      "outputs": [
        {
          "output_type": "stream",
          "name": "stdout",
          "text": [
            "Data types and their frequency:\n"
          ]
        },
        {
          "output_type": "execute_result",
          "data": {
            "text/plain": [
              "object     8\n",
              "int64      2\n",
              "float64    1\n",
              "dtype: int64"
            ]
          },
          "metadata": {},
          "execution_count": 12
        }
      ]
    },
    {
      "cell_type": "markdown",
      "source": [
        "We have 8 columns containing text values, let's change it"
      ],
      "metadata": {
        "id": "kd-l8TtdAISY"
      }
    },
    {
      "cell_type": "markdown",
      "source": [
        "Data in `airline`, `flight`, `source_city` and `destination_city` is unordered data, so let's use `get_dummies` method to create separate column for each of the values in these columns"
      ],
      "metadata": {
        "id": "07s5y8yYBJR8"
      }
    },
    {
      "cell_type": "code",
      "source": [
        "unordered_data_columns = [\"airline\", \"flight\", \"source_city\", \"destination_city\"]\n",
        "dummy_df = pd.get_dummies(data[unordered_data_columns])\n",
        "dummy_df.head()"
      ],
      "metadata": {
        "colab": {
          "base_uri": "https://localhost:8080/",
          "height": 317
        },
        "id": "Hj0Y1g7HAM6n",
        "outputId": "82dca550-bc3e-4464-9bf4-a1fa651335b7"
      },
      "execution_count": 13,
      "outputs": [
        {
          "output_type": "execute_result",
          "data": {
            "text/plain": [
              "        airline_AirAsia  airline_Air_India  airline_GO_FIRST  airline_Indigo  \\\n",
              "259119                0                  0                 0               0   \n",
              "196329                0                  0                 0               0   \n",
              "83816                 0                  0                 0               1   \n",
              "61408                 0                  0                 0               1   \n",
              "25662                 1                  0                 0               0   \n",
              "\n",
              "        airline_SpiceJet  airline_Vistara  flight_AI-430  flight_AI-440  \\\n",
              "259119                 0                1              0              0   \n",
              "196329                 0                1              0              0   \n",
              "83816                  0                0              0              0   \n",
              "61408                  0                0              0              0   \n",
              "25662                  0                0              0              0   \n",
              "\n",
              "        flight_AI-442  flight_AI-501  ...  source_city_Delhi  \\\n",
              "259119              0              0  ...                  0   \n",
              "196329              0              0  ...                  0   \n",
              "83816               0              0  ...                  0   \n",
              "61408               0              0  ...                  0   \n",
              "25662               0              0  ...                  1   \n",
              "\n",
              "        source_city_Hyderabad  source_city_Kolkata  source_city_Mumbai  \\\n",
              "259119                      0                    0                   0   \n",
              "196329                      0                    0                   0   \n",
              "83816                       0                    0                   1   \n",
              "61408                       0                    0                   1   \n",
              "25662                       0                    0                   0   \n",
              "\n",
              "        destination_city_Bangalore  destination_city_Chennai  \\\n",
              "259119                           0                         1   \n",
              "196329                           1                         0   \n",
              "83816                            0                         1   \n",
              "61408                            1                         0   \n",
              "25662                            0                         0   \n",
              "\n",
              "        destination_city_Delhi  destination_city_Hyderabad  \\\n",
              "259119                       0                           0   \n",
              "196329                       0                           0   \n",
              "83816                        0                           0   \n",
              "61408                        0                           0   \n",
              "25662                        0                           0   \n",
              "\n",
              "        destination_city_Kolkata  destination_city_Mumbai  \n",
              "259119                         0                        0  \n",
              "196329                         0                        0  \n",
              "83816                          0                        0  \n",
              "61408                          0                        0  \n",
              "25662                          1                        0  \n",
              "\n",
              "[5 rows x 86 columns]"
            ],
            "text/html": [
              "\n",
              "  <div id=\"df-d9084df6-2ca7-45c5-ab12-0822b41e7291\">\n",
              "    <div class=\"colab-df-container\">\n",
              "      <div>\n",
              "<style scoped>\n",
              "    .dataframe tbody tr th:only-of-type {\n",
              "        vertical-align: middle;\n",
              "    }\n",
              "\n",
              "    .dataframe tbody tr th {\n",
              "        vertical-align: top;\n",
              "    }\n",
              "\n",
              "    .dataframe thead th {\n",
              "        text-align: right;\n",
              "    }\n",
              "</style>\n",
              "<table border=\"1\" class=\"dataframe\">\n",
              "  <thead>\n",
              "    <tr style=\"text-align: right;\">\n",
              "      <th></th>\n",
              "      <th>airline_AirAsia</th>\n",
              "      <th>airline_Air_India</th>\n",
              "      <th>airline_GO_FIRST</th>\n",
              "      <th>airline_Indigo</th>\n",
              "      <th>airline_SpiceJet</th>\n",
              "      <th>airline_Vistara</th>\n",
              "      <th>flight_AI-430</th>\n",
              "      <th>flight_AI-440</th>\n",
              "      <th>flight_AI-442</th>\n",
              "      <th>flight_AI-501</th>\n",
              "      <th>...</th>\n",
              "      <th>source_city_Delhi</th>\n",
              "      <th>source_city_Hyderabad</th>\n",
              "      <th>source_city_Kolkata</th>\n",
              "      <th>source_city_Mumbai</th>\n",
              "      <th>destination_city_Bangalore</th>\n",
              "      <th>destination_city_Chennai</th>\n",
              "      <th>destination_city_Delhi</th>\n",
              "      <th>destination_city_Hyderabad</th>\n",
              "      <th>destination_city_Kolkata</th>\n",
              "      <th>destination_city_Mumbai</th>\n",
              "    </tr>\n",
              "  </thead>\n",
              "  <tbody>\n",
              "    <tr>\n",
              "      <th>259119</th>\n",
              "      <td>0</td>\n",
              "      <td>0</td>\n",
              "      <td>0</td>\n",
              "      <td>0</td>\n",
              "      <td>0</td>\n",
              "      <td>1</td>\n",
              "      <td>0</td>\n",
              "      <td>0</td>\n",
              "      <td>0</td>\n",
              "      <td>0</td>\n",
              "      <td>...</td>\n",
              "      <td>0</td>\n",
              "      <td>0</td>\n",
              "      <td>0</td>\n",
              "      <td>0</td>\n",
              "      <td>0</td>\n",
              "      <td>1</td>\n",
              "      <td>0</td>\n",
              "      <td>0</td>\n",
              "      <td>0</td>\n",
              "      <td>0</td>\n",
              "    </tr>\n",
              "    <tr>\n",
              "      <th>196329</th>\n",
              "      <td>0</td>\n",
              "      <td>0</td>\n",
              "      <td>0</td>\n",
              "      <td>0</td>\n",
              "      <td>0</td>\n",
              "      <td>1</td>\n",
              "      <td>0</td>\n",
              "      <td>0</td>\n",
              "      <td>0</td>\n",
              "      <td>0</td>\n",
              "      <td>...</td>\n",
              "      <td>0</td>\n",
              "      <td>0</td>\n",
              "      <td>0</td>\n",
              "      <td>0</td>\n",
              "      <td>1</td>\n",
              "      <td>0</td>\n",
              "      <td>0</td>\n",
              "      <td>0</td>\n",
              "      <td>0</td>\n",
              "      <td>0</td>\n",
              "    </tr>\n",
              "    <tr>\n",
              "      <th>83816</th>\n",
              "      <td>0</td>\n",
              "      <td>0</td>\n",
              "      <td>0</td>\n",
              "      <td>1</td>\n",
              "      <td>0</td>\n",
              "      <td>0</td>\n",
              "      <td>0</td>\n",
              "      <td>0</td>\n",
              "      <td>0</td>\n",
              "      <td>0</td>\n",
              "      <td>...</td>\n",
              "      <td>0</td>\n",
              "      <td>0</td>\n",
              "      <td>0</td>\n",
              "      <td>1</td>\n",
              "      <td>0</td>\n",
              "      <td>1</td>\n",
              "      <td>0</td>\n",
              "      <td>0</td>\n",
              "      <td>0</td>\n",
              "      <td>0</td>\n",
              "    </tr>\n",
              "    <tr>\n",
              "      <th>61408</th>\n",
              "      <td>0</td>\n",
              "      <td>0</td>\n",
              "      <td>0</td>\n",
              "      <td>1</td>\n",
              "      <td>0</td>\n",
              "      <td>0</td>\n",
              "      <td>0</td>\n",
              "      <td>0</td>\n",
              "      <td>0</td>\n",
              "      <td>0</td>\n",
              "      <td>...</td>\n",
              "      <td>0</td>\n",
              "      <td>0</td>\n",
              "      <td>0</td>\n",
              "      <td>1</td>\n",
              "      <td>1</td>\n",
              "      <td>0</td>\n",
              "      <td>0</td>\n",
              "      <td>0</td>\n",
              "      <td>0</td>\n",
              "      <td>0</td>\n",
              "    </tr>\n",
              "    <tr>\n",
              "      <th>25662</th>\n",
              "      <td>1</td>\n",
              "      <td>0</td>\n",
              "      <td>0</td>\n",
              "      <td>0</td>\n",
              "      <td>0</td>\n",
              "      <td>0</td>\n",
              "      <td>0</td>\n",
              "      <td>0</td>\n",
              "      <td>0</td>\n",
              "      <td>0</td>\n",
              "      <td>...</td>\n",
              "      <td>1</td>\n",
              "      <td>0</td>\n",
              "      <td>0</td>\n",
              "      <td>0</td>\n",
              "      <td>0</td>\n",
              "      <td>0</td>\n",
              "      <td>0</td>\n",
              "      <td>0</td>\n",
              "      <td>1</td>\n",
              "      <td>0</td>\n",
              "    </tr>\n",
              "  </tbody>\n",
              "</table>\n",
              "<p>5 rows × 86 columns</p>\n",
              "</div>\n",
              "      <button class=\"colab-df-convert\" onclick=\"convertToInteractive('df-d9084df6-2ca7-45c5-ab12-0822b41e7291')\"\n",
              "              title=\"Convert this dataframe to an interactive table.\"\n",
              "              style=\"display:none;\">\n",
              "        \n",
              "  <svg xmlns=\"http://www.w3.org/2000/svg\" height=\"24px\"viewBox=\"0 0 24 24\"\n",
              "       width=\"24px\">\n",
              "    <path d=\"M0 0h24v24H0V0z\" fill=\"none\"/>\n",
              "    <path d=\"M18.56 5.44l.94 2.06.94-2.06 2.06-.94-2.06-.94-.94-2.06-.94 2.06-2.06.94zm-11 1L8.5 8.5l.94-2.06 2.06-.94-2.06-.94L8.5 2.5l-.94 2.06-2.06.94zm10 10l.94 2.06.94-2.06 2.06-.94-2.06-.94-.94-2.06-.94 2.06-2.06.94z\"/><path d=\"M17.41 7.96l-1.37-1.37c-.4-.4-.92-.59-1.43-.59-.52 0-1.04.2-1.43.59L10.3 9.45l-7.72 7.72c-.78.78-.78 2.05 0 2.83L4 21.41c.39.39.9.59 1.41.59.51 0 1.02-.2 1.41-.59l7.78-7.78 2.81-2.81c.8-.78.8-2.07 0-2.86zM5.41 20L4 18.59l7.72-7.72 1.47 1.35L5.41 20z\"/>\n",
              "  </svg>\n",
              "      </button>\n",
              "      \n",
              "  <style>\n",
              "    .colab-df-container {\n",
              "      display:flex;\n",
              "      flex-wrap:wrap;\n",
              "      gap: 12px;\n",
              "    }\n",
              "\n",
              "    .colab-df-convert {\n",
              "      background-color: #E8F0FE;\n",
              "      border: none;\n",
              "      border-radius: 50%;\n",
              "      cursor: pointer;\n",
              "      display: none;\n",
              "      fill: #1967D2;\n",
              "      height: 32px;\n",
              "      padding: 0 0 0 0;\n",
              "      width: 32px;\n",
              "    }\n",
              "\n",
              "    .colab-df-convert:hover {\n",
              "      background-color: #E2EBFA;\n",
              "      box-shadow: 0px 1px 2px rgba(60, 64, 67, 0.3), 0px 1px 3px 1px rgba(60, 64, 67, 0.15);\n",
              "      fill: #174EA6;\n",
              "    }\n",
              "\n",
              "    [theme=dark] .colab-df-convert {\n",
              "      background-color: #3B4455;\n",
              "      fill: #D2E3FC;\n",
              "    }\n",
              "\n",
              "    [theme=dark] .colab-df-convert:hover {\n",
              "      background-color: #434B5C;\n",
              "      box-shadow: 0px 1px 3px 1px rgba(0, 0, 0, 0.15);\n",
              "      filter: drop-shadow(0px 1px 2px rgba(0, 0, 0, 0.3));\n",
              "      fill: #FFFFFF;\n",
              "    }\n",
              "  </style>\n",
              "\n",
              "      <script>\n",
              "        const buttonEl =\n",
              "          document.querySelector('#df-d9084df6-2ca7-45c5-ab12-0822b41e7291 button.colab-df-convert');\n",
              "        buttonEl.style.display =\n",
              "          google.colab.kernel.accessAllowed ? 'block' : 'none';\n",
              "\n",
              "        async function convertToInteractive(key) {\n",
              "          const element = document.querySelector('#df-d9084df6-2ca7-45c5-ab12-0822b41e7291');\n",
              "          const dataTable =\n",
              "            await google.colab.kernel.invokeFunction('convertToInteractive',\n",
              "                                                     [key], {});\n",
              "          if (!dataTable) return;\n",
              "\n",
              "          const docLinkHtml = 'Like what you see? Visit the ' +\n",
              "            '<a target=\"_blank\" href=https://colab.research.google.com/notebooks/data_table.ipynb>data table notebook</a>'\n",
              "            + ' to learn more about interactive tables.';\n",
              "          element.innerHTML = '';\n",
              "          dataTable['output_type'] = 'display_data';\n",
              "          await google.colab.output.renderOutput(dataTable, element);\n",
              "          const docLink = document.createElement('div');\n",
              "          docLink.innerHTML = docLinkHtml;\n",
              "          element.appendChild(docLink);\n",
              "        }\n",
              "      </script>\n",
              "    </div>\n",
              "  </div>\n",
              "  "
            ]
          },
          "metadata": {},
          "execution_count": 13
        }
      ]
    },
    {
      "cell_type": "code",
      "source": [
        "data = pd.concat([data, dummy_df], axis=1)\n",
        "data.head()"
      ],
      "metadata": {
        "colab": {
          "base_uri": "https://localhost:8080/",
          "height": 300
        },
        "id": "WU9ABMXaCv6D",
        "outputId": "f2097b3b-918f-4cbc-94ae-0442533981d1"
      },
      "execution_count": 14,
      "outputs": [
        {
          "output_type": "execute_result",
          "data": {
            "text/plain": [
              "        airline  flight source_city departure_time        stops  \\\n",
              "259119  Vistara   OTHER   Bangalore      Afternoon  two_or_more   \n",
              "196329  Vistara  UK-824     Chennai          Night          one   \n",
              "83816    Indigo   OTHER      Mumbai      Afternoon          one   \n",
              "61408    Indigo   OTHER      Mumbai        Evening          one   \n",
              "25662   AirAsia   OTHER       Delhi          Night          one   \n",
              "\n",
              "         arrival_time destination_city     class  duration  days_left  ...  \\\n",
              "259119        Evening          Chennai  Business     31.17          5  ...   \n",
              "196329  Early_Morning        Bangalore   Economy     11.33         33  ...   \n",
              "83816           Night          Chennai   Economy      6.08         48  ...   \n",
              "61408      Late_Night        Bangalore   Economy      8.08         49  ...   \n",
              "25662         Morning          Kolkata   Economy     12.25         33  ...   \n",
              "\n",
              "        source_city_Delhi  source_city_Hyderabad  source_city_Kolkata  \\\n",
              "259119                  0                      0                    0   \n",
              "196329                  0                      0                    0   \n",
              "83816                   0                      0                    0   \n",
              "61408                   0                      0                    0   \n",
              "25662                   1                      0                    0   \n",
              "\n",
              "        source_city_Mumbai  destination_city_Bangalore  \\\n",
              "259119                   0                           0   \n",
              "196329                   0                           1   \n",
              "83816                    1                           0   \n",
              "61408                    1                           1   \n",
              "25662                    0                           0   \n",
              "\n",
              "        destination_city_Chennai  destination_city_Delhi  \\\n",
              "259119                         1                       0   \n",
              "196329                         0                       0   \n",
              "83816                          1                       0   \n",
              "61408                          0                       0   \n",
              "25662                          0                       0   \n",
              "\n",
              "        destination_city_Hyderabad  destination_city_Kolkata  \\\n",
              "259119                           0                         0   \n",
              "196329                           0                         0   \n",
              "83816                            0                         0   \n",
              "61408                            0                         0   \n",
              "25662                            0                         1   \n",
              "\n",
              "        destination_city_Mumbai  \n",
              "259119                        0  \n",
              "196329                        0  \n",
              "83816                         0  \n",
              "61408                         0  \n",
              "25662                         0  \n",
              "\n",
              "[5 rows x 97 columns]"
            ],
            "text/html": [
              "\n",
              "  <div id=\"df-1b02e847-866e-4dc4-bdeb-6b96f541dc76\">\n",
              "    <div class=\"colab-df-container\">\n",
              "      <div>\n",
              "<style scoped>\n",
              "    .dataframe tbody tr th:only-of-type {\n",
              "        vertical-align: middle;\n",
              "    }\n",
              "\n",
              "    .dataframe tbody tr th {\n",
              "        vertical-align: top;\n",
              "    }\n",
              "\n",
              "    .dataframe thead th {\n",
              "        text-align: right;\n",
              "    }\n",
              "</style>\n",
              "<table border=\"1\" class=\"dataframe\">\n",
              "  <thead>\n",
              "    <tr style=\"text-align: right;\">\n",
              "      <th></th>\n",
              "      <th>airline</th>\n",
              "      <th>flight</th>\n",
              "      <th>source_city</th>\n",
              "      <th>departure_time</th>\n",
              "      <th>stops</th>\n",
              "      <th>arrival_time</th>\n",
              "      <th>destination_city</th>\n",
              "      <th>class</th>\n",
              "      <th>duration</th>\n",
              "      <th>days_left</th>\n",
              "      <th>...</th>\n",
              "      <th>source_city_Delhi</th>\n",
              "      <th>source_city_Hyderabad</th>\n",
              "      <th>source_city_Kolkata</th>\n",
              "      <th>source_city_Mumbai</th>\n",
              "      <th>destination_city_Bangalore</th>\n",
              "      <th>destination_city_Chennai</th>\n",
              "      <th>destination_city_Delhi</th>\n",
              "      <th>destination_city_Hyderabad</th>\n",
              "      <th>destination_city_Kolkata</th>\n",
              "      <th>destination_city_Mumbai</th>\n",
              "    </tr>\n",
              "  </thead>\n",
              "  <tbody>\n",
              "    <tr>\n",
              "      <th>259119</th>\n",
              "      <td>Vistara</td>\n",
              "      <td>OTHER</td>\n",
              "      <td>Bangalore</td>\n",
              "      <td>Afternoon</td>\n",
              "      <td>two_or_more</td>\n",
              "      <td>Evening</td>\n",
              "      <td>Chennai</td>\n",
              "      <td>Business</td>\n",
              "      <td>31.17</td>\n",
              "      <td>5</td>\n",
              "      <td>...</td>\n",
              "      <td>0</td>\n",
              "      <td>0</td>\n",
              "      <td>0</td>\n",
              "      <td>0</td>\n",
              "      <td>0</td>\n",
              "      <td>1</td>\n",
              "      <td>0</td>\n",
              "      <td>0</td>\n",
              "      <td>0</td>\n",
              "      <td>0</td>\n",
              "    </tr>\n",
              "    <tr>\n",
              "      <th>196329</th>\n",
              "      <td>Vistara</td>\n",
              "      <td>UK-824</td>\n",
              "      <td>Chennai</td>\n",
              "      <td>Night</td>\n",
              "      <td>one</td>\n",
              "      <td>Early_Morning</td>\n",
              "      <td>Bangalore</td>\n",
              "      <td>Economy</td>\n",
              "      <td>11.33</td>\n",
              "      <td>33</td>\n",
              "      <td>...</td>\n",
              "      <td>0</td>\n",
              "      <td>0</td>\n",
              "      <td>0</td>\n",
              "      <td>0</td>\n",
              "      <td>1</td>\n",
              "      <td>0</td>\n",
              "      <td>0</td>\n",
              "      <td>0</td>\n",
              "      <td>0</td>\n",
              "      <td>0</td>\n",
              "    </tr>\n",
              "    <tr>\n",
              "      <th>83816</th>\n",
              "      <td>Indigo</td>\n",
              "      <td>OTHER</td>\n",
              "      <td>Mumbai</td>\n",
              "      <td>Afternoon</td>\n",
              "      <td>one</td>\n",
              "      <td>Night</td>\n",
              "      <td>Chennai</td>\n",
              "      <td>Economy</td>\n",
              "      <td>6.08</td>\n",
              "      <td>48</td>\n",
              "      <td>...</td>\n",
              "      <td>0</td>\n",
              "      <td>0</td>\n",
              "      <td>0</td>\n",
              "      <td>1</td>\n",
              "      <td>0</td>\n",
              "      <td>1</td>\n",
              "      <td>0</td>\n",
              "      <td>0</td>\n",
              "      <td>0</td>\n",
              "      <td>0</td>\n",
              "    </tr>\n",
              "    <tr>\n",
              "      <th>61408</th>\n",
              "      <td>Indigo</td>\n",
              "      <td>OTHER</td>\n",
              "      <td>Mumbai</td>\n",
              "      <td>Evening</td>\n",
              "      <td>one</td>\n",
              "      <td>Late_Night</td>\n",
              "      <td>Bangalore</td>\n",
              "      <td>Economy</td>\n",
              "      <td>8.08</td>\n",
              "      <td>49</td>\n",
              "      <td>...</td>\n",
              "      <td>0</td>\n",
              "      <td>0</td>\n",
              "      <td>0</td>\n",
              "      <td>1</td>\n",
              "      <td>1</td>\n",
              "      <td>0</td>\n",
              "      <td>0</td>\n",
              "      <td>0</td>\n",
              "      <td>0</td>\n",
              "      <td>0</td>\n",
              "    </tr>\n",
              "    <tr>\n",
              "      <th>25662</th>\n",
              "      <td>AirAsia</td>\n",
              "      <td>OTHER</td>\n",
              "      <td>Delhi</td>\n",
              "      <td>Night</td>\n",
              "      <td>one</td>\n",
              "      <td>Morning</td>\n",
              "      <td>Kolkata</td>\n",
              "      <td>Economy</td>\n",
              "      <td>12.25</td>\n",
              "      <td>33</td>\n",
              "      <td>...</td>\n",
              "      <td>1</td>\n",
              "      <td>0</td>\n",
              "      <td>0</td>\n",
              "      <td>0</td>\n",
              "      <td>0</td>\n",
              "      <td>0</td>\n",
              "      <td>0</td>\n",
              "      <td>0</td>\n",
              "      <td>1</td>\n",
              "      <td>0</td>\n",
              "    </tr>\n",
              "  </tbody>\n",
              "</table>\n",
              "<p>5 rows × 97 columns</p>\n",
              "</div>\n",
              "      <button class=\"colab-df-convert\" onclick=\"convertToInteractive('df-1b02e847-866e-4dc4-bdeb-6b96f541dc76')\"\n",
              "              title=\"Convert this dataframe to an interactive table.\"\n",
              "              style=\"display:none;\">\n",
              "        \n",
              "  <svg xmlns=\"http://www.w3.org/2000/svg\" height=\"24px\"viewBox=\"0 0 24 24\"\n",
              "       width=\"24px\">\n",
              "    <path d=\"M0 0h24v24H0V0z\" fill=\"none\"/>\n",
              "    <path d=\"M18.56 5.44l.94 2.06.94-2.06 2.06-.94-2.06-.94-.94-2.06-.94 2.06-2.06.94zm-11 1L8.5 8.5l.94-2.06 2.06-.94-2.06-.94L8.5 2.5l-.94 2.06-2.06.94zm10 10l.94 2.06.94-2.06 2.06-.94-2.06-.94-.94-2.06-.94 2.06-2.06.94z\"/><path d=\"M17.41 7.96l-1.37-1.37c-.4-.4-.92-.59-1.43-.59-.52 0-1.04.2-1.43.59L10.3 9.45l-7.72 7.72c-.78.78-.78 2.05 0 2.83L4 21.41c.39.39.9.59 1.41.59.51 0 1.02-.2 1.41-.59l7.78-7.78 2.81-2.81c.8-.78.8-2.07 0-2.86zM5.41 20L4 18.59l7.72-7.72 1.47 1.35L5.41 20z\"/>\n",
              "  </svg>\n",
              "      </button>\n",
              "      \n",
              "  <style>\n",
              "    .colab-df-container {\n",
              "      display:flex;\n",
              "      flex-wrap:wrap;\n",
              "      gap: 12px;\n",
              "    }\n",
              "\n",
              "    .colab-df-convert {\n",
              "      background-color: #E8F0FE;\n",
              "      border: none;\n",
              "      border-radius: 50%;\n",
              "      cursor: pointer;\n",
              "      display: none;\n",
              "      fill: #1967D2;\n",
              "      height: 32px;\n",
              "      padding: 0 0 0 0;\n",
              "      width: 32px;\n",
              "    }\n",
              "\n",
              "    .colab-df-convert:hover {\n",
              "      background-color: #E2EBFA;\n",
              "      box-shadow: 0px 1px 2px rgba(60, 64, 67, 0.3), 0px 1px 3px 1px rgba(60, 64, 67, 0.15);\n",
              "      fill: #174EA6;\n",
              "    }\n",
              "\n",
              "    [theme=dark] .colab-df-convert {\n",
              "      background-color: #3B4455;\n",
              "      fill: #D2E3FC;\n",
              "    }\n",
              "\n",
              "    [theme=dark] .colab-df-convert:hover {\n",
              "      background-color: #434B5C;\n",
              "      box-shadow: 0px 1px 3px 1px rgba(0, 0, 0, 0.15);\n",
              "      filter: drop-shadow(0px 1px 2px rgba(0, 0, 0, 0.3));\n",
              "      fill: #FFFFFF;\n",
              "    }\n",
              "  </style>\n",
              "\n",
              "      <script>\n",
              "        const buttonEl =\n",
              "          document.querySelector('#df-1b02e847-866e-4dc4-bdeb-6b96f541dc76 button.colab-df-convert');\n",
              "        buttonEl.style.display =\n",
              "          google.colab.kernel.accessAllowed ? 'block' : 'none';\n",
              "\n",
              "        async function convertToInteractive(key) {\n",
              "          const element = document.querySelector('#df-1b02e847-866e-4dc4-bdeb-6b96f541dc76');\n",
              "          const dataTable =\n",
              "            await google.colab.kernel.invokeFunction('convertToInteractive',\n",
              "                                                     [key], {});\n",
              "          if (!dataTable) return;\n",
              "\n",
              "          const docLinkHtml = 'Like what you see? Visit the ' +\n",
              "            '<a target=\"_blank\" href=https://colab.research.google.com/notebooks/data_table.ipynb>data table notebook</a>'\n",
              "            + ' to learn more about interactive tables.';\n",
              "          element.innerHTML = '';\n",
              "          dataTable['output_type'] = 'display_data';\n",
              "          await google.colab.output.renderOutput(dataTable, element);\n",
              "          const docLink = document.createElement('div');\n",
              "          docLink.innerHTML = docLinkHtml;\n",
              "          element.appendChild(docLink);\n",
              "        }\n",
              "      </script>\n",
              "    </div>\n",
              "  </div>\n",
              "  "
            ]
          },
          "metadata": {},
          "execution_count": 14
        }
      ]
    },
    {
      "cell_type": "markdown",
      "source": [
        "Let's drop old columns"
      ],
      "metadata": {
        "id": "JpYhLViMC-qv"
      }
    },
    {
      "cell_type": "code",
      "source": [
        "data = data.drop(unordered_data_columns, axis=1)"
      ],
      "metadata": {
        "id": "ODD7k0fCDCZv"
      },
      "execution_count": 15,
      "outputs": []
    },
    {
      "cell_type": "code",
      "source": [
        "data.head()"
      ],
      "metadata": {
        "colab": {
          "base_uri": "https://localhost:8080/",
          "height": 300
        },
        "id": "TdkR7guYDJp6",
        "outputId": "0212700e-9314-43be-dab5-fc32d147251e"
      },
      "execution_count": 16,
      "outputs": [
        {
          "output_type": "execute_result",
          "data": {
            "text/plain": [
              "       departure_time        stops   arrival_time     class  duration  \\\n",
              "259119      Afternoon  two_or_more        Evening  Business     31.17   \n",
              "196329          Night          one  Early_Morning   Economy     11.33   \n",
              "83816       Afternoon          one          Night   Economy      6.08   \n",
              "61408         Evening          one     Late_Night   Economy      8.08   \n",
              "25662           Night          one        Morning   Economy     12.25   \n",
              "\n",
              "        days_left  price  airline_AirAsia  airline_Air_India  \\\n",
              "259119          5  59106                0                  0   \n",
              "196329         33   4755                0                  0   \n",
              "83816          48   1890                0                  0   \n",
              "61408          49   2124                0                  0   \n",
              "25662          33   2480                1                  0   \n",
              "\n",
              "        airline_GO_FIRST  ...  source_city_Delhi  source_city_Hyderabad  \\\n",
              "259119                 0  ...                  0                      0   \n",
              "196329                 0  ...                  0                      0   \n",
              "83816                  0  ...                  0                      0   \n",
              "61408                  0  ...                  0                      0   \n",
              "25662                  0  ...                  1                      0   \n",
              "\n",
              "        source_city_Kolkata  source_city_Mumbai  destination_city_Bangalore  \\\n",
              "259119                    0                   0                           0   \n",
              "196329                    0                   0                           1   \n",
              "83816                     0                   1                           0   \n",
              "61408                     0                   1                           1   \n",
              "25662                     0                   0                           0   \n",
              "\n",
              "        destination_city_Chennai  destination_city_Delhi  \\\n",
              "259119                         1                       0   \n",
              "196329                         0                       0   \n",
              "83816                          1                       0   \n",
              "61408                          0                       0   \n",
              "25662                          0                       0   \n",
              "\n",
              "        destination_city_Hyderabad  destination_city_Kolkata  \\\n",
              "259119                           0                         0   \n",
              "196329                           0                         0   \n",
              "83816                            0                         0   \n",
              "61408                            0                         0   \n",
              "25662                            0                         1   \n",
              "\n",
              "        destination_city_Mumbai  \n",
              "259119                        0  \n",
              "196329                        0  \n",
              "83816                         0  \n",
              "61408                         0  \n",
              "25662                         0  \n",
              "\n",
              "[5 rows x 93 columns]"
            ],
            "text/html": [
              "\n",
              "  <div id=\"df-e95b8bf9-1e5c-4dba-a716-345850c788a3\">\n",
              "    <div class=\"colab-df-container\">\n",
              "      <div>\n",
              "<style scoped>\n",
              "    .dataframe tbody tr th:only-of-type {\n",
              "        vertical-align: middle;\n",
              "    }\n",
              "\n",
              "    .dataframe tbody tr th {\n",
              "        vertical-align: top;\n",
              "    }\n",
              "\n",
              "    .dataframe thead th {\n",
              "        text-align: right;\n",
              "    }\n",
              "</style>\n",
              "<table border=\"1\" class=\"dataframe\">\n",
              "  <thead>\n",
              "    <tr style=\"text-align: right;\">\n",
              "      <th></th>\n",
              "      <th>departure_time</th>\n",
              "      <th>stops</th>\n",
              "      <th>arrival_time</th>\n",
              "      <th>class</th>\n",
              "      <th>duration</th>\n",
              "      <th>days_left</th>\n",
              "      <th>price</th>\n",
              "      <th>airline_AirAsia</th>\n",
              "      <th>airline_Air_India</th>\n",
              "      <th>airline_GO_FIRST</th>\n",
              "      <th>...</th>\n",
              "      <th>source_city_Delhi</th>\n",
              "      <th>source_city_Hyderabad</th>\n",
              "      <th>source_city_Kolkata</th>\n",
              "      <th>source_city_Mumbai</th>\n",
              "      <th>destination_city_Bangalore</th>\n",
              "      <th>destination_city_Chennai</th>\n",
              "      <th>destination_city_Delhi</th>\n",
              "      <th>destination_city_Hyderabad</th>\n",
              "      <th>destination_city_Kolkata</th>\n",
              "      <th>destination_city_Mumbai</th>\n",
              "    </tr>\n",
              "  </thead>\n",
              "  <tbody>\n",
              "    <tr>\n",
              "      <th>259119</th>\n",
              "      <td>Afternoon</td>\n",
              "      <td>two_or_more</td>\n",
              "      <td>Evening</td>\n",
              "      <td>Business</td>\n",
              "      <td>31.17</td>\n",
              "      <td>5</td>\n",
              "      <td>59106</td>\n",
              "      <td>0</td>\n",
              "      <td>0</td>\n",
              "      <td>0</td>\n",
              "      <td>...</td>\n",
              "      <td>0</td>\n",
              "      <td>0</td>\n",
              "      <td>0</td>\n",
              "      <td>0</td>\n",
              "      <td>0</td>\n",
              "      <td>1</td>\n",
              "      <td>0</td>\n",
              "      <td>0</td>\n",
              "      <td>0</td>\n",
              "      <td>0</td>\n",
              "    </tr>\n",
              "    <tr>\n",
              "      <th>196329</th>\n",
              "      <td>Night</td>\n",
              "      <td>one</td>\n",
              "      <td>Early_Morning</td>\n",
              "      <td>Economy</td>\n",
              "      <td>11.33</td>\n",
              "      <td>33</td>\n",
              "      <td>4755</td>\n",
              "      <td>0</td>\n",
              "      <td>0</td>\n",
              "      <td>0</td>\n",
              "      <td>...</td>\n",
              "      <td>0</td>\n",
              "      <td>0</td>\n",
              "      <td>0</td>\n",
              "      <td>0</td>\n",
              "      <td>1</td>\n",
              "      <td>0</td>\n",
              "      <td>0</td>\n",
              "      <td>0</td>\n",
              "      <td>0</td>\n",
              "      <td>0</td>\n",
              "    </tr>\n",
              "    <tr>\n",
              "      <th>83816</th>\n",
              "      <td>Afternoon</td>\n",
              "      <td>one</td>\n",
              "      <td>Night</td>\n",
              "      <td>Economy</td>\n",
              "      <td>6.08</td>\n",
              "      <td>48</td>\n",
              "      <td>1890</td>\n",
              "      <td>0</td>\n",
              "      <td>0</td>\n",
              "      <td>0</td>\n",
              "      <td>...</td>\n",
              "      <td>0</td>\n",
              "      <td>0</td>\n",
              "      <td>0</td>\n",
              "      <td>1</td>\n",
              "      <td>0</td>\n",
              "      <td>1</td>\n",
              "      <td>0</td>\n",
              "      <td>0</td>\n",
              "      <td>0</td>\n",
              "      <td>0</td>\n",
              "    </tr>\n",
              "    <tr>\n",
              "      <th>61408</th>\n",
              "      <td>Evening</td>\n",
              "      <td>one</td>\n",
              "      <td>Late_Night</td>\n",
              "      <td>Economy</td>\n",
              "      <td>8.08</td>\n",
              "      <td>49</td>\n",
              "      <td>2124</td>\n",
              "      <td>0</td>\n",
              "      <td>0</td>\n",
              "      <td>0</td>\n",
              "      <td>...</td>\n",
              "      <td>0</td>\n",
              "      <td>0</td>\n",
              "      <td>0</td>\n",
              "      <td>1</td>\n",
              "      <td>1</td>\n",
              "      <td>0</td>\n",
              "      <td>0</td>\n",
              "      <td>0</td>\n",
              "      <td>0</td>\n",
              "      <td>0</td>\n",
              "    </tr>\n",
              "    <tr>\n",
              "      <th>25662</th>\n",
              "      <td>Night</td>\n",
              "      <td>one</td>\n",
              "      <td>Morning</td>\n",
              "      <td>Economy</td>\n",
              "      <td>12.25</td>\n",
              "      <td>33</td>\n",
              "      <td>2480</td>\n",
              "      <td>1</td>\n",
              "      <td>0</td>\n",
              "      <td>0</td>\n",
              "      <td>...</td>\n",
              "      <td>1</td>\n",
              "      <td>0</td>\n",
              "      <td>0</td>\n",
              "      <td>0</td>\n",
              "      <td>0</td>\n",
              "      <td>0</td>\n",
              "      <td>0</td>\n",
              "      <td>0</td>\n",
              "      <td>1</td>\n",
              "      <td>0</td>\n",
              "    </tr>\n",
              "  </tbody>\n",
              "</table>\n",
              "<p>5 rows × 93 columns</p>\n",
              "</div>\n",
              "      <button class=\"colab-df-convert\" onclick=\"convertToInteractive('df-e95b8bf9-1e5c-4dba-a716-345850c788a3')\"\n",
              "              title=\"Convert this dataframe to an interactive table.\"\n",
              "              style=\"display:none;\">\n",
              "        \n",
              "  <svg xmlns=\"http://www.w3.org/2000/svg\" height=\"24px\"viewBox=\"0 0 24 24\"\n",
              "       width=\"24px\">\n",
              "    <path d=\"M0 0h24v24H0V0z\" fill=\"none\"/>\n",
              "    <path d=\"M18.56 5.44l.94 2.06.94-2.06 2.06-.94-2.06-.94-.94-2.06-.94 2.06-2.06.94zm-11 1L8.5 8.5l.94-2.06 2.06-.94-2.06-.94L8.5 2.5l-.94 2.06-2.06.94zm10 10l.94 2.06.94-2.06 2.06-.94-2.06-.94-.94-2.06-.94 2.06-2.06.94z\"/><path d=\"M17.41 7.96l-1.37-1.37c-.4-.4-.92-.59-1.43-.59-.52 0-1.04.2-1.43.59L10.3 9.45l-7.72 7.72c-.78.78-.78 2.05 0 2.83L4 21.41c.39.39.9.59 1.41.59.51 0 1.02-.2 1.41-.59l7.78-7.78 2.81-2.81c.8-.78.8-2.07 0-2.86zM5.41 20L4 18.59l7.72-7.72 1.47 1.35L5.41 20z\"/>\n",
              "  </svg>\n",
              "      </button>\n",
              "      \n",
              "  <style>\n",
              "    .colab-df-container {\n",
              "      display:flex;\n",
              "      flex-wrap:wrap;\n",
              "      gap: 12px;\n",
              "    }\n",
              "\n",
              "    .colab-df-convert {\n",
              "      background-color: #E8F0FE;\n",
              "      border: none;\n",
              "      border-radius: 50%;\n",
              "      cursor: pointer;\n",
              "      display: none;\n",
              "      fill: #1967D2;\n",
              "      height: 32px;\n",
              "      padding: 0 0 0 0;\n",
              "      width: 32px;\n",
              "    }\n",
              "\n",
              "    .colab-df-convert:hover {\n",
              "      background-color: #E2EBFA;\n",
              "      box-shadow: 0px 1px 2px rgba(60, 64, 67, 0.3), 0px 1px 3px 1px rgba(60, 64, 67, 0.15);\n",
              "      fill: #174EA6;\n",
              "    }\n",
              "\n",
              "    [theme=dark] .colab-df-convert {\n",
              "      background-color: #3B4455;\n",
              "      fill: #D2E3FC;\n",
              "    }\n",
              "\n",
              "    [theme=dark] .colab-df-convert:hover {\n",
              "      background-color: #434B5C;\n",
              "      box-shadow: 0px 1px 3px 1px rgba(0, 0, 0, 0.15);\n",
              "      filter: drop-shadow(0px 1px 2px rgba(0, 0, 0, 0.3));\n",
              "      fill: #FFFFFF;\n",
              "    }\n",
              "  </style>\n",
              "\n",
              "      <script>\n",
              "        const buttonEl =\n",
              "          document.querySelector('#df-e95b8bf9-1e5c-4dba-a716-345850c788a3 button.colab-df-convert');\n",
              "        buttonEl.style.display =\n",
              "          google.colab.kernel.accessAllowed ? 'block' : 'none';\n",
              "\n",
              "        async function convertToInteractive(key) {\n",
              "          const element = document.querySelector('#df-e95b8bf9-1e5c-4dba-a716-345850c788a3');\n",
              "          const dataTable =\n",
              "            await google.colab.kernel.invokeFunction('convertToInteractive',\n",
              "                                                     [key], {});\n",
              "          if (!dataTable) return;\n",
              "\n",
              "          const docLinkHtml = 'Like what you see? Visit the ' +\n",
              "            '<a target=\"_blank\" href=https://colab.research.google.com/notebooks/data_table.ipynb>data table notebook</a>'\n",
              "            + ' to learn more about interactive tables.';\n",
              "          element.innerHTML = '';\n",
              "          dataTable['output_type'] = 'display_data';\n",
              "          await google.colab.output.renderOutput(dataTable, element);\n",
              "          const docLink = document.createElement('div');\n",
              "          docLink.innerHTML = docLinkHtml;\n",
              "          element.appendChild(docLink);\n",
              "        }\n",
              "      </script>\n",
              "    </div>\n",
              "  </div>\n",
              "  "
            ]
          },
          "metadata": {},
          "execution_count": 16
        }
      ]
    },
    {
      "cell_type": "markdown",
      "source": [
        "Now let's focus on categorical columns with ordered data like `departure_time`, `stops`, `arrival_time` and `class`. We can change data in these columns into numerical type using the data's order."
      ],
      "metadata": {
        "id": "BY6PeSLtDWai"
      }
    },
    {
      "cell_type": "code",
      "source": [
        "mapping_dict = {\n",
        "    \"departure_time\": {\n",
        "        \"Early_Morning\": 1,\n",
        "        \"Morning\": 2,\n",
        "        \"Afternoon\": 3,\n",
        "        \"Evening\": 4,\n",
        "        \"Night\": 5,\n",
        "        \"Late_Night\": 6,\n",
        "    },\n",
        "    \"stops\": {\n",
        "        \"zero\": 0,\n",
        "        \"one\": 1,\n",
        "        \"two_or_more\": 2\n",
        "    },\n",
        "    \"arrival_time\": {\n",
        "        \"Early_Morning\": 1,\n",
        "        \"Morning\": 2,\n",
        "        \"Afternoon\": 3,\n",
        "        \"Evening\": 4,\n",
        "        \"Night\": 5,\n",
        "        \"Late_Night\": 6,\n",
        "    },\n",
        "    \"class\": {\n",
        "         \"Economy\": 1,\n",
        "         \"Business\": 2\n",
        "    }\n",
        "}\n",
        "data = data.replace(mapping_dict)\n",
        "data[[\"departure_time\",\"stops\", \"arrival_time\", \"class\"]].head()"
      ],
      "metadata": {
        "colab": {
          "base_uri": "https://localhost:8080/",
          "height": 206
        },
        "id": "6aGXDfm6ERIL",
        "outputId": "59950958-0b22-46f6-9ad2-ece48e2f4892"
      },
      "execution_count": 17,
      "outputs": [
        {
          "output_type": "execute_result",
          "data": {
            "text/plain": [
              "        departure_time  stops  arrival_time  class\n",
              "259119               3      2             4      2\n",
              "196329               5      1             1      1\n",
              "83816                3      1             5      1\n",
              "61408                4      1             6      1\n",
              "25662                5      1             2      1"
            ],
            "text/html": [
              "\n",
              "  <div id=\"df-f498ba8e-29cb-4c60-b56f-d25a94bfc7b6\">\n",
              "    <div class=\"colab-df-container\">\n",
              "      <div>\n",
              "<style scoped>\n",
              "    .dataframe tbody tr th:only-of-type {\n",
              "        vertical-align: middle;\n",
              "    }\n",
              "\n",
              "    .dataframe tbody tr th {\n",
              "        vertical-align: top;\n",
              "    }\n",
              "\n",
              "    .dataframe thead th {\n",
              "        text-align: right;\n",
              "    }\n",
              "</style>\n",
              "<table border=\"1\" class=\"dataframe\">\n",
              "  <thead>\n",
              "    <tr style=\"text-align: right;\">\n",
              "      <th></th>\n",
              "      <th>departure_time</th>\n",
              "      <th>stops</th>\n",
              "      <th>arrival_time</th>\n",
              "      <th>class</th>\n",
              "    </tr>\n",
              "  </thead>\n",
              "  <tbody>\n",
              "    <tr>\n",
              "      <th>259119</th>\n",
              "      <td>3</td>\n",
              "      <td>2</td>\n",
              "      <td>4</td>\n",
              "      <td>2</td>\n",
              "    </tr>\n",
              "    <tr>\n",
              "      <th>196329</th>\n",
              "      <td>5</td>\n",
              "      <td>1</td>\n",
              "      <td>1</td>\n",
              "      <td>1</td>\n",
              "    </tr>\n",
              "    <tr>\n",
              "      <th>83816</th>\n",
              "      <td>3</td>\n",
              "      <td>1</td>\n",
              "      <td>5</td>\n",
              "      <td>1</td>\n",
              "    </tr>\n",
              "    <tr>\n",
              "      <th>61408</th>\n",
              "      <td>4</td>\n",
              "      <td>1</td>\n",
              "      <td>6</td>\n",
              "      <td>1</td>\n",
              "    </tr>\n",
              "    <tr>\n",
              "      <th>25662</th>\n",
              "      <td>5</td>\n",
              "      <td>1</td>\n",
              "      <td>2</td>\n",
              "      <td>1</td>\n",
              "    </tr>\n",
              "  </tbody>\n",
              "</table>\n",
              "</div>\n",
              "      <button class=\"colab-df-convert\" onclick=\"convertToInteractive('df-f498ba8e-29cb-4c60-b56f-d25a94bfc7b6')\"\n",
              "              title=\"Convert this dataframe to an interactive table.\"\n",
              "              style=\"display:none;\">\n",
              "        \n",
              "  <svg xmlns=\"http://www.w3.org/2000/svg\" height=\"24px\"viewBox=\"0 0 24 24\"\n",
              "       width=\"24px\">\n",
              "    <path d=\"M0 0h24v24H0V0z\" fill=\"none\"/>\n",
              "    <path d=\"M18.56 5.44l.94 2.06.94-2.06 2.06-.94-2.06-.94-.94-2.06-.94 2.06-2.06.94zm-11 1L8.5 8.5l.94-2.06 2.06-.94-2.06-.94L8.5 2.5l-.94 2.06-2.06.94zm10 10l.94 2.06.94-2.06 2.06-.94-2.06-.94-.94-2.06-.94 2.06-2.06.94z\"/><path d=\"M17.41 7.96l-1.37-1.37c-.4-.4-.92-.59-1.43-.59-.52 0-1.04.2-1.43.59L10.3 9.45l-7.72 7.72c-.78.78-.78 2.05 0 2.83L4 21.41c.39.39.9.59 1.41.59.51 0 1.02-.2 1.41-.59l7.78-7.78 2.81-2.81c.8-.78.8-2.07 0-2.86zM5.41 20L4 18.59l7.72-7.72 1.47 1.35L5.41 20z\"/>\n",
              "  </svg>\n",
              "      </button>\n",
              "      \n",
              "  <style>\n",
              "    .colab-df-container {\n",
              "      display:flex;\n",
              "      flex-wrap:wrap;\n",
              "      gap: 12px;\n",
              "    }\n",
              "\n",
              "    .colab-df-convert {\n",
              "      background-color: #E8F0FE;\n",
              "      border: none;\n",
              "      border-radius: 50%;\n",
              "      cursor: pointer;\n",
              "      display: none;\n",
              "      fill: #1967D2;\n",
              "      height: 32px;\n",
              "      padding: 0 0 0 0;\n",
              "      width: 32px;\n",
              "    }\n",
              "\n",
              "    .colab-df-convert:hover {\n",
              "      background-color: #E2EBFA;\n",
              "      box-shadow: 0px 1px 2px rgba(60, 64, 67, 0.3), 0px 1px 3px 1px rgba(60, 64, 67, 0.15);\n",
              "      fill: #174EA6;\n",
              "    }\n",
              "\n",
              "    [theme=dark] .colab-df-convert {\n",
              "      background-color: #3B4455;\n",
              "      fill: #D2E3FC;\n",
              "    }\n",
              "\n",
              "    [theme=dark] .colab-df-convert:hover {\n",
              "      background-color: #434B5C;\n",
              "      box-shadow: 0px 1px 3px 1px rgba(0, 0, 0, 0.15);\n",
              "      filter: drop-shadow(0px 1px 2px rgba(0, 0, 0, 0.3));\n",
              "      fill: #FFFFFF;\n",
              "    }\n",
              "  </style>\n",
              "\n",
              "      <script>\n",
              "        const buttonEl =\n",
              "          document.querySelector('#df-f498ba8e-29cb-4c60-b56f-d25a94bfc7b6 button.colab-df-convert');\n",
              "        buttonEl.style.display =\n",
              "          google.colab.kernel.accessAllowed ? 'block' : 'none';\n",
              "\n",
              "        async function convertToInteractive(key) {\n",
              "          const element = document.querySelector('#df-f498ba8e-29cb-4c60-b56f-d25a94bfc7b6');\n",
              "          const dataTable =\n",
              "            await google.colab.kernel.invokeFunction('convertToInteractive',\n",
              "                                                     [key], {});\n",
              "          if (!dataTable) return;\n",
              "\n",
              "          const docLinkHtml = 'Like what you see? Visit the ' +\n",
              "            '<a target=\"_blank\" href=https://colab.research.google.com/notebooks/data_table.ipynb>data table notebook</a>'\n",
              "            + ' to learn more about interactive tables.';\n",
              "          element.innerHTML = '';\n",
              "          dataTable['output_type'] = 'display_data';\n",
              "          await google.colab.output.renderOutput(dataTable, element);\n",
              "          const docLink = document.createElement('div');\n",
              "          docLink.innerHTML = docLinkHtml;\n",
              "          element.appendChild(docLink);\n",
              "        }\n",
              "      </script>\n",
              "    </div>\n",
              "  </div>\n",
              "  "
            ]
          },
          "metadata": {},
          "execution_count": 17
        }
      ]
    },
    {
      "cell_type": "code",
      "source": [
        "print(\"Data types and their frequency:\")\n",
        "data.dtypes.value_counts()"
      ],
      "metadata": {
        "colab": {
          "base_uri": "https://localhost:8080/"
        },
        "id": "PUgcH2BHF_G-",
        "outputId": "6ee18133-8d41-4ebb-8179-3db780ca27a8"
      },
      "execution_count": 18,
      "outputs": [
        {
          "output_type": "stream",
          "name": "stdout",
          "text": [
            "Data types and their frequency:\n"
          ]
        },
        {
          "output_type": "execute_result",
          "data": {
            "text/plain": [
              "uint8      86\n",
              "int64       6\n",
              "float64     1\n",
              "dtype: int64"
            ]
          },
          "metadata": {},
          "execution_count": 18
        }
      ]
    },
    {
      "cell_type": "code",
      "source": [
        "for col in [\"departure_time\", \"stops\", \"arrival_time\", \"class\"]:\n",
        "  print(f\"Column: {col}\")\n",
        "  print(data[col].value_counts())\n",
        "  data[col].value_counts().plot(kind=\"bar\", title=col)\n",
        "  plt.show()\n",
        "  print()"
      ],
      "metadata": {
        "colab": {
          "base_uri": "https://localhost:8080/",
          "height": 1000
        },
        "id": "-1SRWuQbG07q",
        "outputId": "c822c096-50e6-437d-d430-eaeafe0e1acc"
      },
      "execution_count": 19,
      "outputs": [
        {
          "output_type": "stream",
          "name": "stdout",
          "text": [
            "Column: departure_time\n",
            "2    1206\n",
            "4    1130\n",
            "1    1082\n",
            "3     820\n",
            "5     747\n",
            "6      15\n",
            "Name: departure_time, dtype: int64\n"
          ]
        },
        {
          "output_type": "display_data",
          "data": {
            "text/plain": [
              "<Figure size 432x288 with 1 Axes>"
            ],
            "image/png": "[encoded data removed]"
          },
          "metadata": {
            "needs_background": "light"
          }
        },
        {
          "output_type": "stream",
          "name": "stdout",
          "text": [
            "\n",
            "Column: stops\n",
            "1    4206\n",
            "0     568\n",
            "2     226\n",
            "Name: stops, dtype: int64\n"
          ]
        },
        {
          "output_type": "display_data",
          "data": {
            "text/plain": [
              "<Figure size 432x288 with 1 Axes>"
            ],
            "image/png": "[encoded data removed]"
          },
          "metadata": {
            "needs_background": "light"
          }
        },
        {
          "output_type": "stream",
          "name": "stdout",
          "text": [
            "\n",
            "Column: arrival_time\n",
            "5    1596\n",
            "4    1355\n",
            "2     996\n",
            "3     602\n",
            "1     248\n",
            "6     203\n",
            "Name: arrival_time, dtype: int64\n"
          ]
        },
        {
          "output_type": "display_data",
          "data": {
            "text/plain": [
              "<Figure size 432x288 with 1 Axes>"
            ],
            "image/png": "[encoded data removed]"
          },
          "metadata": {
            "needs_background": "light"
          }
        },
        {
          "output_type": "stream",
          "name": "stdout",
          "text": [
            "\n",
            "Column: class\n",
            "1    3441\n",
            "2    1559\n",
            "Name: class, dtype: int64\n"
          ]
        },
        {
          "output_type": "display_data",
          "data": {
            "text/plain": [
              "<Figure size 432x288 with 1 Axes>"
            ],
            "image/png": "[encoded data removed]"
          },
          "metadata": {
            "needs_background": "light"
          }
        },
        {
          "output_type": "stream",
          "name": "stdout",
          "text": [
            "\n"
          ]
        }
      ]
    },
    {
      "cell_type": "markdown",
      "source": [
        "Now we have successfully converted all of the columns into numerical type data. Let's save the data."
      ],
      "metadata": {
        "id": "JjRYDIhOHaWL"
      }
    },
    {
      "cell_type": "code",
      "source": [
        "data.head()"
      ],
      "metadata": {
        "colab": {
          "base_uri": "https://localhost:8080/",
          "height": 300
        },
        "id": "fM14E8iuHm9M",
        "outputId": "9f0ffc36-9436-40ac-8d10-5daafa772861"
      },
      "execution_count": 20,
      "outputs": [
        {
          "output_type": "execute_result",
          "data": {
            "text/plain": [
              "        departure_time  stops  arrival_time  class  duration  days_left  \\\n",
              "259119               3      2             4      2     31.17          5   \n",
              "196329               5      1             1      1     11.33         33   \n",
              "83816                3      1             5      1      6.08         48   \n",
              "61408                4      1             6      1      8.08         49   \n",
              "25662                5      1             2      1     12.25         33   \n",
              "\n",
              "        price  airline_AirAsia  airline_Air_India  airline_GO_FIRST  ...  \\\n",
              "259119  59106                0                  0                 0  ...   \n",
              "196329   4755                0                  0                 0  ...   \n",
              "83816    1890                0                  0                 0  ...   \n",
              "61408    2124                0                  0                 0  ...   \n",
              "25662    2480                1                  0                 0  ...   \n",
              "\n",
              "        source_city_Delhi  source_city_Hyderabad  source_city_Kolkata  \\\n",
              "259119                  0                      0                    0   \n",
              "196329                  0                      0                    0   \n",
              "83816                   0                      0                    0   \n",
              "61408                   0                      0                    0   \n",
              "25662                   1                      0                    0   \n",
              "\n",
              "        source_city_Mumbai  destination_city_Bangalore  \\\n",
              "259119                   0                           0   \n",
              "196329                   0                           1   \n",
              "83816                    1                           0   \n",
              "61408                    1                           1   \n",
              "25662                    0                           0   \n",
              "\n",
              "        destination_city_Chennai  destination_city_Delhi  \\\n",
              "259119                         1                       0   \n",
              "196329                         0                       0   \n",
              "83816                          1                       0   \n",
              "61408                          0                       0   \n",
              "25662                          0                       0   \n",
              "\n",
              "        destination_city_Hyderabad  destination_city_Kolkata  \\\n",
              "259119                           0                         0   \n",
              "196329                           0                         0   \n",
              "83816                            0                         0   \n",
              "61408                            0                         0   \n",
              "25662                            0                         1   \n",
              "\n",
              "        destination_city_Mumbai  \n",
              "259119                        0  \n",
              "196329                        0  \n",
              "83816                         0  \n",
              "61408                         0  \n",
              "25662                         0  \n",
              "\n",
              "[5 rows x 93 columns]"
            ],
            "text/html": [
              "\n",
              "  <div id=\"df-a512a0cd-431c-4c9c-afb9-89f73b2a16ff\">\n",
              "    <div class=\"colab-df-container\">\n",
              "      <div>\n",
              "<style scoped>\n",
              "    .dataframe tbody tr th:only-of-type {\n",
              "        vertical-align: middle;\n",
              "    }\n",
              "\n",
              "    .dataframe tbody tr th {\n",
              "        vertical-align: top;\n",
              "    }\n",
              "\n",
              "    .dataframe thead th {\n",
              "        text-align: right;\n",
              "    }\n",
              "</style>\n",
              "<table border=\"1\" class=\"dataframe\">\n",
              "  <thead>\n",
              "    <tr style=\"text-align: right;\">\n",
              "      <th></th>\n",
              "      <th>departure_time</th>\n",
              "      <th>stops</th>\n",
              "      <th>arrival_time</th>\n",
              "      <th>class</th>\n",
              "      <th>duration</th>\n",
              "      <th>days_left</th>\n",
              "      <th>price</th>\n",
              "      <th>airline_AirAsia</th>\n",
              "      <th>airline_Air_India</th>\n",
              "      <th>airline_GO_FIRST</th>\n",
              "      <th>...</th>\n",
              "      <th>source_city_Delhi</th>\n",
              "      <th>source_city_Hyderabad</th>\n",
              "      <th>source_city_Kolkata</th>\n",
              "      <th>source_city_Mumbai</th>\n",
              "      <th>destination_city_Bangalore</th>\n",
              "      <th>destination_city_Chennai</th>\n",
              "      <th>destination_city_Delhi</th>\n",
              "      <th>destination_city_Hyderabad</th>\n",
              "      <th>destination_city_Kolkata</th>\n",
              "      <th>destination_city_Mumbai</th>\n",
              "    </tr>\n",
              "  </thead>\n",
              "  <tbody>\n",
              "    <tr>\n",
              "      <th>259119</th>\n",
              "      <td>3</td>\n",
              "      <td>2</td>\n",
              "      <td>4</td>\n",
              "      <td>2</td>\n",
              "      <td>31.17</td>\n",
              "      <td>5</td>\n",
              "      <td>59106</td>\n",
              "      <td>0</td>\n",
              "      <td>0</td>\n",
              "      <td>0</td>\n",
              "      <td>...</td>\n",
              "      <td>0</td>\n",
              "      <td>0</td>\n",
              "      <td>0</td>\n",
              "      <td>0</td>\n",
              "      <td>0</td>\n",
              "      <td>1</td>\n",
              "      <td>0</td>\n",
              "      <td>0</td>\n",
              "      <td>0</td>\n",
              "      <td>0</td>\n",
              "    </tr>\n",
              "    <tr>\n",
              "      <th>196329</th>\n",
              "      <td>5</td>\n",
              "      <td>1</td>\n",
              "      <td>1</td>\n",
              "      <td>1</td>\n",
              "      <td>11.33</td>\n",
              "      <td>33</td>\n",
              "      <td>4755</td>\n",
              "      <td>0</td>\n",
              "      <td>0</td>\n",
              "      <td>0</td>\n",
              "      <td>...</td>\n",
              "      <td>0</td>\n",
              "      <td>0</td>\n",
              "      <td>0</td>\n",
              "      <td>0</td>\n",
              "      <td>1</td>\n",
              "      <td>0</td>\n",
              "      <td>0</td>\n",
              "      <td>0</td>\n",
              "      <td>0</td>\n",
              "      <td>0</td>\n",
              "    </tr>\n",
              "    <tr>\n",
              "      <th>83816</th>\n",
              "      <td>3</td>\n",
              "      <td>1</td>\n",
              "      <td>5</td>\n",
              "      <td>1</td>\n",
              "      <td>6.08</td>\n",
              "      <td>48</td>\n",
              "      <td>1890</td>\n",
              "      <td>0</td>\n",
              "      <td>0</td>\n",
              "      <td>0</td>\n",
              "      <td>...</td>\n",
              "      <td>0</td>\n",
              "      <td>0</td>\n",
              "      <td>0</td>\n",
              "      <td>1</td>\n",
              "      <td>0</td>\n",
              "      <td>1</td>\n",
              "      <td>0</td>\n",
              "      <td>0</td>\n",
              "      <td>0</td>\n",
              "      <td>0</td>\n",
              "    </tr>\n",
              "    <tr>\n",
              "      <th>61408</th>\n",
              "      <td>4</td>\n",
              "      <td>1</td>\n",
              "      <td>6</td>\n",
              "      <td>1</td>\n",
              "      <td>8.08</td>\n",
              "      <td>49</td>\n",
              "      <td>2124</td>\n",
              "      <td>0</td>\n",
              "      <td>0</td>\n",
              "      <td>0</td>\n",
              "      <td>...</td>\n",
              "      <td>0</td>\n",
              "      <td>0</td>\n",
              "      <td>0</td>\n",
              "      <td>1</td>\n",
              "      <td>1</td>\n",
              "      <td>0</td>\n",
              "      <td>0</td>\n",
              "      <td>0</td>\n",
              "      <td>0</td>\n",
              "      <td>0</td>\n",
              "    </tr>\n",
              "    <tr>\n",
              "      <th>25662</th>\n",
              "      <td>5</td>\n",
              "      <td>1</td>\n",
              "      <td>2</td>\n",
              "      <td>1</td>\n",
              "      <td>12.25</td>\n",
              "      <td>33</td>\n",
              "      <td>2480</td>\n",
              "      <td>1</td>\n",
              "      <td>0</td>\n",
              "      <td>0</td>\n",
              "      <td>...</td>\n",
              "      <td>1</td>\n",
              "      <td>0</td>\n",
              "      <td>0</td>\n",
              "      <td>0</td>\n",
              "      <td>0</td>\n",
              "      <td>0</td>\n",
              "      <td>0</td>\n",
              "      <td>0</td>\n",
              "      <td>1</td>\n",
              "      <td>0</td>\n",
              "    </tr>\n",
              "  </tbody>\n",
              "</table>\n",
              "<p>5 rows × 93 columns</p>\n",
              "</div>\n",
              "      <button class=\"colab-df-convert\" onclick=\"convertToInteractive('df-a512a0cd-431c-4c9c-afb9-89f73b2a16ff')\"\n",
              "              title=\"Convert this dataframe to an interactive table.\"\n",
              "              style=\"display:none;\">\n",
              "        \n",
              "  <svg xmlns=\"http://www.w3.org/2000/svg\" height=\"24px\"viewBox=\"0 0 24 24\"\n",
              "       width=\"24px\">\n",
              "    <path d=\"M0 0h24v24H0V0z\" fill=\"none\"/>\n",
              "    <path d=\"M18.56 5.44l.94 2.06.94-2.06 2.06-.94-2.06-.94-.94-2.06-.94 2.06-2.06.94zm-11 1L8.5 8.5l.94-2.06 2.06-.94-2.06-.94L8.5 2.5l-.94 2.06-2.06.94zm10 10l.94 2.06.94-2.06 2.06-.94-2.06-.94-.94-2.06-.94 2.06-2.06.94z\"/><path d=\"M17.41 7.96l-1.37-1.37c-.4-.4-.92-.59-1.43-.59-.52 0-1.04.2-1.43.59L10.3 9.45l-7.72 7.72c-.78.78-.78 2.05 0 2.83L4 21.41c.39.39.9.59 1.41.59.51 0 1.02-.2 1.41-.59l7.78-7.78 2.81-2.81c.8-.78.8-2.07 0-2.86zM5.41 20L4 18.59l7.72-7.72 1.47 1.35L5.41 20z\"/>\n",
              "  </svg>\n",
              "      </button>\n",
              "      \n",
              "  <style>\n",
              "    .colab-df-container {\n",
              "      display:flex;\n",
              "      flex-wrap:wrap;\n",
              "      gap: 12px;\n",
              "    }\n",
              "\n",
              "    .colab-df-convert {\n",
              "      background-color: #E8F0FE;\n",
              "      border: none;\n",
              "      border-radius: 50%;\n",
              "      cursor: pointer;\n",
              "      display: none;\n",
              "      fill: #1967D2;\n",
              "      height: 32px;\n",
              "      padding: 0 0 0 0;\n",
              "      width: 32px;\n",
              "    }\n",
              "\n",
              "    .colab-df-convert:hover {\n",
              "      background-color: #E2EBFA;\n",
              "      box-shadow: 0px 1px 2px rgba(60, 64, 67, 0.3), 0px 1px 3px 1px rgba(60, 64, 67, 0.15);\n",
              "      fill: #174EA6;\n",
              "    }\n",
              "\n",
              "    [theme=dark] .colab-df-convert {\n",
              "      background-color: #3B4455;\n",
              "      fill: #D2E3FC;\n",
              "    }\n",
              "\n",
              "    [theme=dark] .colab-df-convert:hover {\n",
              "      background-color: #434B5C;\n",
              "      box-shadow: 0px 1px 3px 1px rgba(0, 0, 0, 0.15);\n",
              "      filter: drop-shadow(0px 1px 2px rgba(0, 0, 0, 0.3));\n",
              "      fill: #FFFFFF;\n",
              "    }\n",
              "  </style>\n",
              "\n",
              "      <script>\n",
              "        const buttonEl =\n",
              "          document.querySelector('#df-a512a0cd-431c-4c9c-afb9-89f73b2a16ff button.colab-df-convert');\n",
              "        buttonEl.style.display =\n",
              "          google.colab.kernel.accessAllowed ? 'block' : 'none';\n",
              "\n",
              "        async function convertToInteractive(key) {\n",
              "          const element = document.querySelector('#df-a512a0cd-431c-4c9c-afb9-89f73b2a16ff');\n",
              "          const dataTable =\n",
              "            await google.colab.kernel.invokeFunction('convertToInteractive',\n",
              "                                                     [key], {});\n",
              "          if (!dataTable) return;\n",
              "\n",
              "          const docLinkHtml = 'Like what you see? Visit the ' +\n",
              "            '<a target=\"_blank\" href=https://colab.research.google.com/notebooks/data_table.ipynb>data table notebook</a>'\n",
              "            + ' to learn more about interactive tables.';\n",
              "          element.innerHTML = '';\n",
              "          dataTable['output_type'] = 'display_data';\n",
              "          await google.colab.output.renderOutput(dataTable, element);\n",
              "          const docLink = document.createElement('div');\n",
              "          docLink.innerHTML = docLinkHtml;\n",
              "          element.appendChild(docLink);\n",
              "        }\n",
              "      </script>\n",
              "    </div>\n",
              "  </div>\n",
              "  "
            ]
          },
          "metadata": {},
          "execution_count": 20
        }
      ]
    },
    {
      "cell_type": "code",
      "source": [
        "# data.to_csv(\"cleaned_flights_data.csv\", index=True)"
      ],
      "metadata": {
        "id": "on58XSEIHvvJ"
      },
      "execution_count": 21,
      "outputs": []
    },
    {
      "cell_type": "markdown",
      "source": [
        "Let's divide our data into test and train set"
      ],
      "metadata": {
        "id": "FUme9C4aJ9Od"
      }
    },
    {
      "cell_type": "code",
      "source": [
        "from sklearn.model_selection import train_test_split\n",
        "\n",
        "X = data.loc[:, data.columns != \"price\"]\n",
        "y = data[\"price\"] # price is the feature we want to predict\n",
        "\n",
        "X_train, X_test, y_train, y_test = train_test_split(X, y, test_size=0.33, random_state=42)"
      ],
      "metadata": {
        "id": "0n_dfcP9J07m"
      },
      "execution_count": 22,
      "outputs": []
    },
    {
      "cell_type": "code",
      "source": [
        "X_train.head()"
      ],
      "metadata": {
        "colab": {
          "base_uri": "https://localhost:8080/",
          "height": 300
        },
        "id": "aRhH4dFYKZIw",
        "outputId": "62bc9601-ddf9-41cd-eaa6-d9e928ae6d64"
      },
      "execution_count": 23,
      "outputs": [
        {
          "output_type": "execute_result",
          "data": {
            "text/plain": [
              "        departure_time  stops  arrival_time  class  duration  days_left  \\\n",
              "31998                2      1             5      1     12.08         26   \n",
              "35324                1      1             5      1     14.92         49   \n",
              "239849               3      1             2      2     17.92         27   \n",
              "58673                5      1             2      1      9.25         34   \n",
              "265281               2      1             4      2      7.42         20   \n",
              "\n",
              "        airline_AirAsia  airline_Air_India  airline_GO_FIRST  airline_Indigo  \\\n",
              "31998                 0                  0                 0               0   \n",
              "35324                 0                  0                 1               0   \n",
              "239849                0                  0                 0               0   \n",
              "58673                 0                  0                 0               0   \n",
              "265281                0                  0                 0               0   \n",
              "\n",
              "        ...  source_city_Delhi  source_city_Hyderabad  source_city_Kolkata  \\\n",
              "31998   ...                  1                      0                    0   \n",
              "35324   ...                  1                      0                    0   \n",
              "239849  ...                  0                      0                    0   \n",
              "58673   ...                  0                      0                    0   \n",
              "265281  ...                  0                      0                    1   \n",
              "\n",
              "        source_city_Mumbai  destination_city_Bangalore  \\\n",
              "31998                    0                           0   \n",
              "35324                    0                           0   \n",
              "239849                   1                           0   \n",
              "58673                    1                           1   \n",
              "265281                   0                           0   \n",
              "\n",
              "        destination_city_Chennai  destination_city_Delhi  \\\n",
              "31998                          0                       0   \n",
              "35324                          0                       0   \n",
              "239849                         0                       0   \n",
              "58673                          0                       0   \n",
              "265281                         0                       0   \n",
              "\n",
              "        destination_city_Hyderabad  destination_city_Kolkata  \\\n",
              "31998                            1                         0   \n",
              "35324                            1                         0   \n",
              "239849                           1                         0   \n",
              "58673                            0                         0   \n",
              "265281                           0                         0   \n",
              "\n",
              "        destination_city_Mumbai  \n",
              "31998                         0  \n",
              "35324                         0  \n",
              "239849                        0  \n",
              "58673                         0  \n",
              "265281                        1  \n",
              "\n",
              "[5 rows x 92 columns]"
            ],
            "text/html": [
              "\n",
              "  <div id=\"df-54cafc73-e843-496f-b61e-d730e94758ad\">\n",
              "    <div class=\"colab-df-container\">\n",
              "      <div>\n",
              "<style scoped>\n",
              "    .dataframe tbody tr th:only-of-type {\n",
              "        vertical-align: middle;\n",
              "    }\n",
              "\n",
              "    .dataframe tbody tr th {\n",
              "        vertical-align: top;\n",
              "    }\n",
              "\n",
              "    .dataframe thead th {\n",
              "        text-align: right;\n",
              "    }\n",
              "</style>\n",
              "<table border=\"1\" class=\"dataframe\">\n",
              "  <thead>\n",
              "    <tr style=\"text-align: right;\">\n",
              "      <th></th>\n",
              "      <th>departure_time</th>\n",
              "      <th>stops</th>\n",
              "      <th>arrival_time</th>\n",
              "      <th>class</th>\n",
              "      <th>duration</th>\n",
              "      <th>days_left</th>\n",
              "      <th>airline_AirAsia</th>\n",
              "      <th>airline_Air_India</th>\n",
              "      <th>airline_GO_FIRST</th>\n",
              "      <th>airline_Indigo</th>\n",
              "      <th>...</th>\n",
              "      <th>source_city_Delhi</th>\n",
              "      <th>source_city_Hyderabad</th>\n",
              "      <th>source_city_Kolkata</th>\n",
              "      <th>source_city_Mumbai</th>\n",
              "      <th>destination_city_Bangalore</th>\n",
              "      <th>destination_city_Chennai</th>\n",
              "      <th>destination_city_Delhi</th>\n",
              "      <th>destination_city_Hyderabad</th>\n",
              "      <th>destination_city_Kolkata</th>\n",
              "      <th>destination_city_Mumbai</th>\n",
              "    </tr>\n",
              "  </thead>\n",
              "  <tbody>\n",
              "    <tr>\n",
              "      <th>31998</th>\n",
              "      <td>2</td>\n",
              "      <td>1</td>\n",
              "      <td>5</td>\n",
              "      <td>1</td>\n",
              "      <td>12.08</td>\n",
              "      <td>26</td>\n",
              "      <td>0</td>\n",
              "      <td>0</td>\n",
              "      <td>0</td>\n",
              "      <td>0</td>\n",
              "      <td>...</td>\n",
              "      <td>1</td>\n",
              "      <td>0</td>\n",
              "      <td>0</td>\n",
              "      <td>0</td>\n",
              "      <td>0</td>\n",
              "      <td>0</td>\n",
              "      <td>0</td>\n",
              "      <td>1</td>\n",
              "      <td>0</td>\n",
              "      <td>0</td>\n",
              "    </tr>\n",
              "    <tr>\n",
              "      <th>35324</th>\n",
              "      <td>1</td>\n",
              "      <td>1</td>\n",
              "      <td>5</td>\n",
              "      <td>1</td>\n",
              "      <td>14.92</td>\n",
              "      <td>49</td>\n",
              "      <td>0</td>\n",
              "      <td>0</td>\n",
              "      <td>1</td>\n",
              "      <td>0</td>\n",
              "      <td>...</td>\n",
              "      <td>1</td>\n",
              "      <td>0</td>\n",
              "      <td>0</td>\n",
              "      <td>0</td>\n",
              "      <td>0</td>\n",
              "      <td>0</td>\n",
              "      <td>0</td>\n",
              "      <td>1</td>\n",
              "      <td>0</td>\n",
              "      <td>0</td>\n",
              "    </tr>\n",
              "    <tr>\n",
              "      <th>239849</th>\n",
              "      <td>3</td>\n",
              "      <td>1</td>\n",
              "      <td>2</td>\n",
              "      <td>2</td>\n",
              "      <td>17.92</td>\n",
              "      <td>27</td>\n",
              "      <td>0</td>\n",
              "      <td>0</td>\n",
              "      <td>0</td>\n",
              "      <td>0</td>\n",
              "      <td>...</td>\n",
              "      <td>0</td>\n",
              "      <td>0</td>\n",
              "      <td>0</td>\n",
              "      <td>1</td>\n",
              "      <td>0</td>\n",
              "      <td>0</td>\n",
              "      <td>0</td>\n",
              "      <td>1</td>\n",
              "      <td>0</td>\n",
              "      <td>0</td>\n",
              "    </tr>\n",
              "    <tr>\n",
              "      <th>58673</th>\n",
              "      <td>5</td>\n",
              "      <td>1</td>\n",
              "      <td>2</td>\n",
              "      <td>1</td>\n",
              "      <td>9.25</td>\n",
              "      <td>34</td>\n",
              "      <td>0</td>\n",
              "      <td>0</td>\n",
              "      <td>0</td>\n",
              "      <td>0</td>\n",
              "      <td>...</td>\n",
              "      <td>0</td>\n",
              "      <td>0</td>\n",
              "      <td>0</td>\n",
              "      <td>1</td>\n",
              "      <td>1</td>\n",
              "      <td>0</td>\n",
              "      <td>0</td>\n",
              "      <td>0</td>\n",
              "      <td>0</td>\n",
              "      <td>0</td>\n",
              "    </tr>\n",
              "    <tr>\n",
              "      <th>265281</th>\n",
              "      <td>2</td>\n",
              "      <td>1</td>\n",
              "      <td>4</td>\n",
              "      <td>2</td>\n",
              "      <td>7.42</td>\n",
              "      <td>20</td>\n",
              "      <td>0</td>\n",
              "      <td>0</td>\n",
              "      <td>0</td>\n",
              "      <td>0</td>\n",
              "      <td>...</td>\n",
              "      <td>0</td>\n",
              "      <td>0</td>\n",
              "      <td>1</td>\n",
              "      <td>0</td>\n",
              "      <td>0</td>\n",
              "      <td>0</td>\n",
              "      <td>0</td>\n",
              "      <td>0</td>\n",
              "      <td>0</td>\n",
              "      <td>1</td>\n",
              "    </tr>\n",
              "  </tbody>\n",
              "</table>\n",
              "<p>5 rows × 92 columns</p>\n",
              "</div>\n",
              "      <button class=\"colab-df-convert\" onclick=\"convertToInteractive('df-54cafc73-e843-496f-b61e-d730e94758ad')\"\n",
              "              title=\"Convert this dataframe to an interactive table.\"\n",
              "              style=\"display:none;\">\n",
              "        \n",
              "  <svg xmlns=\"http://www.w3.org/2000/svg\" height=\"24px\"viewBox=\"0 0 24 24\"\n",
              "       width=\"24px\">\n",
              "    <path d=\"M0 0h24v24H0V0z\" fill=\"none\"/>\n",
              "    <path d=\"M18.56 5.44l.94 2.06.94-2.06 2.06-.94-2.06-.94-.94-2.06-.94 2.06-2.06.94zm-11 1L8.5 8.5l.94-2.06 2.06-.94-2.06-.94L8.5 2.5l-.94 2.06-2.06.94zm10 10l.94 2.06.94-2.06 2.06-.94-2.06-.94-.94-2.06-.94 2.06-2.06.94z\"/><path d=\"M17.41 7.96l-1.37-1.37c-.4-.4-.92-.59-1.43-.59-.52 0-1.04.2-1.43.59L10.3 9.45l-7.72 7.72c-.78.78-.78 2.05 0 2.83L4 21.41c.39.39.9.59 1.41.59.51 0 1.02-.2 1.41-.59l7.78-7.78 2.81-2.81c.8-.78.8-2.07 0-2.86zM5.41 20L4 18.59l7.72-7.72 1.47 1.35L5.41 20z\"/>\n",
              "  </svg>\n",
              "      </button>\n",
              "      \n",
              "  <style>\n",
              "    .colab-df-container {\n",
              "      display:flex;\n",
              "      flex-wrap:wrap;\n",
              "      gap: 12px;\n",
              "    }\n",
              "\n",
              "    .colab-df-convert {\n",
              "      background-color: #E8F0FE;\n",
              "      border: none;\n",
              "      border-radius: 50%;\n",
              "      cursor: pointer;\n",
              "      display: none;\n",
              "      fill: #1967D2;\n",
              "      height: 32px;\n",
              "      padding: 0 0 0 0;\n",
              "      width: 32px;\n",
              "    }\n",
              "\n",
              "    .colab-df-convert:hover {\n",
              "      background-color: #E2EBFA;\n",
              "      box-shadow: 0px 1px 2px rgba(60, 64, 67, 0.3), 0px 1px 3px 1px rgba(60, 64, 67, 0.15);\n",
              "      fill: #174EA6;\n",
              "    }\n",
              "\n",
              "    [theme=dark] .colab-df-convert {\n",
              "      background-color: #3B4455;\n",
              "      fill: #D2E3FC;\n",
              "    }\n",
              "\n",
              "    [theme=dark] .colab-df-convert:hover {\n",
              "      background-color: #434B5C;\n",
              "      box-shadow: 0px 1px 3px 1px rgba(0, 0, 0, 0.15);\n",
              "      filter: drop-shadow(0px 1px 2px rgba(0, 0, 0, 0.3));\n",
              "      fill: #FFFFFF;\n",
              "    }\n",
              "  </style>\n",
              "\n",
              "      <script>\n",
              "        const buttonEl =\n",
              "          document.querySelector('#df-54cafc73-e843-496f-b61e-d730e94758ad button.colab-df-convert');\n",
              "        buttonEl.style.display =\n",
              "          google.colab.kernel.accessAllowed ? 'block' : 'none';\n",
              "\n",
              "        async function convertToInteractive(key) {\n",
              "          const element = document.querySelector('#df-54cafc73-e843-496f-b61e-d730e94758ad');\n",
              "          const dataTable =\n",
              "            await google.colab.kernel.invokeFunction('convertToInteractive',\n",
              "                                                     [key], {});\n",
              "          if (!dataTable) return;\n",
              "\n",
              "          const docLinkHtml = 'Like what you see? Visit the ' +\n",
              "            '<a target=\"_blank\" href=https://colab.research.google.com/notebooks/data_table.ipynb>data table notebook</a>'\n",
              "            + ' to learn more about interactive tables.';\n",
              "          element.innerHTML = '';\n",
              "          dataTable['output_type'] = 'display_data';\n",
              "          await google.colab.output.renderOutput(dataTable, element);\n",
              "          const docLink = document.createElement('div');\n",
              "          docLink.innerHTML = docLinkHtml;\n",
              "          element.appendChild(docLink);\n",
              "        }\n",
              "      </script>\n",
              "    </div>\n",
              "  </div>\n",
              "  "
            ]
          },
          "metadata": {},
          "execution_count": 23
        }
      ]
    },
    {
      "cell_type": "code",
      "source": [
        "X_train.shape"
      ],
      "metadata": {
        "colab": {
          "base_uri": "https://localhost:8080/"
        },
        "id": "WyXTQ3pWuwWT",
        "outputId": "e0773876-51c7-432e-8ee3-af147197e541"
      },
      "execution_count": 24,
      "outputs": [
        {
          "output_type": "execute_result",
          "data": {
            "text/plain": [
              "(3350, 92)"
            ]
          },
          "metadata": {},
          "execution_count": 24
        }
      ]
    },
    {
      "cell_type": "code",
      "source": [
        "y_train.head()"
      ],
      "metadata": {
        "colab": {
          "base_uri": "https://localhost:8080/"
        },
        "id": "-e3E6VEsKc1t",
        "outputId": "773eae2c-a9b1-40a3-c631-2be930a83f90"
      },
      "execution_count": 25,
      "outputs": [
        {
          "output_type": "execute_result",
          "data": {
            "text/plain": [
              "31998      6172\n",
              "35324      5657\n",
              "239849    58125\n",
              "58673      3944\n",
              "265281    62591\n",
              "Name: price, dtype: int64"
            ]
          },
          "metadata": {},
          "execution_count": 25
        }
      ]
    },
    {
      "cell_type": "code",
      "source": [
        "y_train.shape"
      ],
      "metadata": {
        "colab": {
          "base_uri": "https://localhost:8080/"
        },
        "id": "De_c6JW8u0qp",
        "outputId": "4abed6e4-a76c-4f34-f576-711b6be98f11"
      },
      "execution_count": 26,
      "outputs": [
        {
          "output_type": "execute_result",
          "data": {
            "text/plain": [
              "(3350,)"
            ]
          },
          "metadata": {},
          "execution_count": 26
        }
      ]
    },
    {
      "cell_type": "code",
      "source": [
        "plt.hist(y_train, label=\"train\", bins=100)\n",
        "plt.hist(y_test, label=\"test\", bins=100)\n",
        "plt.legend()\n",
        "plt.show()"
      ],
      "metadata": {
        "colab": {
          "base_uri": "https://localhost:8080/",
          "height": 265
        },
        "id": "vHYu4g-OKxak",
        "outputId": "13643fe3-61c2-4726-dc32-e290d6296dd7"
      },
      "execution_count": 27,
      "outputs": [
        {
          "output_type": "display_data",
          "data": {
            "text/plain": [
              "<Figure size 432x288 with 1 Axes>"
            ],
            "image/png": "[encoded data removed]"
          },
          "metadata": {
            "needs_background": "light"
          }
        }
      ]
    },
    {
      "cell_type": "markdown",
      "source": [
        "# Models\n",
        "\n",
        "We will use these models to predict flight price:\n",
        "\n",
        "- `LinearRegression`\n",
        "- `Ridge`\n",
        "- `Lasso`\n",
        "- `ElasticNet`\n",
        "- `RandomForestRegressor`\n",
        "- `NeuralNet`\n",
        "\n",
        "For most of them we will run `GridSearch` with `StratifiedKFold` to find the best possible parameters and we will calculate metrics so we can select the best one for our purpose.\n",
        "\n"
      ],
      "metadata": {
        "id": "O83zAcz2fVNO"
      }
    },
    {
      "cell_type": "code",
      "source": [
        "from sklearn.model_selection import StratifiedKFold\n",
        "\n",
        "kfold = StratifiedKFold(n_splits=5, random_state=123, shuffle=True)"
      ],
      "metadata": {
        "id": "T5tl8uoJfXAd"
      },
      "execution_count": 28,
      "outputs": []
    },
    {
      "cell_type": "code",
      "source": [
        "from sklearn.linear_model import LinearRegression\n",
        "from sklearn.preprocessing import PolynomialFeatures\n",
        "from sklearn.pipeline import make_pipeline\n",
        "from sklearn.model_selection import GridSearchCV\n",
        "\n",
        "linear_regression_grid = GridSearchCV(\n",
        "    make_pipeline(PolynomialFeatures(degree=2), LinearRegression()),\n",
        "    param_grid={'polynomialfeatures__degree': [1, 2, 3]},\n",
        "    cv=kfold\n",
        ")\n",
        "\n",
        "linear_regression_grid.fit(X_train, y_train)\n",
        "print(linear_regression_grid.best_params_)\n",
        "print(linear_regression_grid.best_estimator_)"
      ],
      "metadata": {
        "colab": {
          "base_uri": "https://localhost:8080/"
        },
        "id": "DOa-ikDbfXxB",
        "outputId": "e1a40956-124c-40f9-b98b-39dc3fff316f"
      },
      "execution_count": 29,
      "outputs": [
        {
          "output_type": "stream",
          "name": "stderr",
          "text": [
            "/usr/local/lib/python3.7/dist-packages/sklearn/model_selection/_split.py:680: UserWarning: The least populated class in y has only 1 members, which is less than n_splits=5.\n",
            "  UserWarning,\n"
          ]
        },
        {
          "output_type": "stream",
          "name": "stdout",
          "text": [
            "{'polynomialfeatures__degree': 1}\n",
            "Pipeline(steps=[('polynomialfeatures', PolynomialFeatures(degree=1)),\n",
            "                ('linearregression', LinearRegression())])\n"
          ]
        }
      ]
    },
    {
      "cell_type": "code",
      "source": [
        "from sklearn import metrics\n",
        "\n",
        "linear_regression_metrics = {\n",
        "  \"model\": \"LinearRegression\",\n",
        "  \"r2\": metrics.r2_score(y_test, linear_regression_grid.best_estimator_.predict(X_test)),\n",
        "  \"explained_variance_score\": metrics.explained_variance_score(y_test, linear_regression_grid.best_estimator_.predict(X_test)),\n",
        "  \"median_absolute_error\": metrics.median_absolute_error(y_test, linear_regression_grid.best_estimator_.predict(X_test)),\n",
        "  \"mean_squared_error\": metrics.mean_squared_error(y_test, linear_regression_grid.best_estimator_.predict(X_test)),\n",
        "  \"mean_absolute_error\": metrics.mean_absolute_error(y_test, linear_regression_grid.best_estimator_.predict(X_test))\n",
        "}\n",
        "print(linear_regression_metrics)"
      ],
      "metadata": {
        "colab": {
          "base_uri": "https://localhost:8080/"
        },
        "id": "sxjK3IAp0IKK",
        "outputId": "4878f799-08f9-451c-b6e1-30552372eeeb"
      },
      "execution_count": 42,
      "outputs": [
        {
          "output_type": "stream",
          "name": "stdout",
          "text": [
            "{'model': 'LinearRegression', 'r2': 0.9160382147256467, 'explained_variance_score': 0.9160415811729246, 'median_absolute_error': 3085.459844134508, 'mean_squared_error': 44210534.54936843, 'mean_absolute_error': 4472.865541723537}\n"
          ]
        }
      ]
    },
    {
      "cell_type": "code",
      "source": [
        "from sklearn.linear_model import Ridge\n",
        "\n",
        "ridge_regression_grid = GridSearchCV(\n",
        "    make_pipeline(PolynomialFeatures(degree=2), Ridge(alpha=1)),\n",
        "    param_grid={\n",
        "        'polynomialfeatures__degree': [1, 2, 3],\n",
        "        'ridge__alpha': [0.01, 0.1, 1, 10]\n",
        "    },\n",
        "    cv=kfold\n",
        ")\n",
        "\n",
        "ridge_regression_grid.fit(X_train, y_train)\n",
        "print(ridge_regression_grid.best_params_)\n",
        "print(ridge_regression_grid.best_estimator_)"
      ],
      "metadata": {
        "colab": {
          "base_uri": "https://localhost:8080/"
        },
        "id": "iDmRTBeh_Kbf",
        "outputId": "f520ebce-1bec-42d1-a9a7-81906e1146d0"
      },
      "execution_count": 32,
      "outputs": [
        {
          "output_type": "stream",
          "name": "stderr",
          "text": [
            "/usr/local/lib/python3.7/dist-packages/sklearn/model_selection/_split.py:680: UserWarning: The least populated class in y has only 1 members, which is less than n_splits=5.\n",
            "  UserWarning,\n"
          ]
        },
        {
          "output_type": "stream",
          "name": "stdout",
          "text": [
            "{'polynomialfeatures__degree': 2, 'ridge__alpha': 10}\n",
            "Pipeline(steps=[('polynomialfeatures', PolynomialFeatures()),\n",
            "                ('ridge', Ridge(alpha=10))])\n"
          ]
        }
      ]
    },
    {
      "cell_type": "code",
      "source": [
        "ridge_regression_metrics = {\n",
        "  \"model\": \"Ridge\",\n",
        "  \"r2\": metrics.r2_score(y_test, ridge_regression_grid.best_estimator_.predict(X_test)),\n",
        "  \"explained_variance_score\": metrics.explained_variance_score(y_test, ridge_regression_grid.best_estimator_.predict(X_test)),\n",
        "  \"median_absolute_error\": metrics.median_absolute_error(y_test, ridge_regression_grid.best_estimator_.predict(X_test)),\n",
        "  \"mean_squared_error\": metrics.mean_squared_error(y_test, ridge_regression_grid.best_estimator_.predict(X_test)),\n",
        "  \"mean_absolute_error\": metrics.mean_absolute_error(y_test, ridge_regression_grid.best_estimator_.predict(X_test))\n",
        "}\n",
        "print(ridge_regression_metrics)"
      ],
      "metadata": {
        "colab": {
          "base_uri": "https://localhost:8080/"
        },
        "id": "f2lo30PlDHmj",
        "outputId": "61d3c57a-6ea6-4ba2-e15a-d4a2b53bb68b"
      },
      "execution_count": 43,
      "outputs": [
        {
          "output_type": "stream",
          "name": "stdout",
          "text": [
            "{'model': 'Ridge', 'r2': 0.9509416739954394, 'explained_variance_score': 0.9509442868767721, 'median_absolute_error': 2074.98135639712, 'mean_squared_error': 25831928.295375485, 'mean_absolute_error': 3340.4113236271337}\n"
          ]
        }
      ]
    },
    {
      "cell_type": "code",
      "source": [
        "from sklearn.linear_model import Lasso\n",
        "\n",
        "lasso_regression_grid = GridSearchCV(\n",
        "    make_pipeline(PolynomialFeatures(degree=2), Lasso(alpha=1)),\n",
        "    param_grid={\n",
        "        'polynomialfeatures__degree': [1, 2, 3],\n",
        "        'lasso__alpha': [0.01, 0.1, 1, 10]\n",
        "    },\n",
        "    cv=kfold\n",
        ")\n",
        "\n",
        "lasso_regression_grid.fit(X_train, y_train)\n",
        "print(lasso_regression_grid.best_params_)\n",
        "print(lasso_regression_grid.best_estimator_)"
      ],
      "metadata": {
        "colab": {
          "base_uri": "https://localhost:8080/"
        },
        "id": "X9FY3pP4Dsi-",
        "outputId": "66b2ad17-7fcf-4140-9cb9-f919d081ff8c"
      },
      "execution_count": 34,
      "outputs": [
        {
          "output_type": "stream",
          "name": "stderr",
          "text": [
            "/usr/local/lib/python3.7/dist-packages/sklearn/model_selection/_split.py:680: UserWarning: The least populated class in y has only 1 members, which is less than n_splits=5.\n",
            "  UserWarning,\n",
            "/usr/local/lib/python3.7/dist-packages/sklearn/linear_model/_coordinate_descent.py:648: ConvergenceWarning: Objective did not converge. You might want to increase the number of iterations, check the scale of the features or consider increasing regularisation. Duality gap: 4.202e+10, tolerance: 1.372e+08\n",
            "  coef_, l1_reg, l2_reg, X, y, max_iter, tol, rng, random, positive\n",
            "/usr/local/lib/python3.7/dist-packages/sklearn/linear_model/_coordinate_descent.py:648: ConvergenceWarning: Objective did not converge. You might want to increase the number of iterations, check the scale of the features or consider increasing regularisation. Duality gap: 4.129e+10, tolerance: 1.370e+08\n",
            "  coef_, l1_reg, l2_reg, X, y, max_iter, tol, rng, random, positive\n",
            "/usr/local/lib/python3.7/dist-packages/sklearn/linear_model/_coordinate_descent.py:648: ConvergenceWarning: Objective did not converge. You might want to increase the number of iterations, check the scale of the features or consider increasing regularisation. Duality gap: 4.026e+10, tolerance: 1.353e+08\n",
            "  coef_, l1_reg, l2_reg, X, y, max_iter, tol, rng, random, positive\n",
            "/usr/local/lib/python3.7/dist-packages/sklearn/linear_model/_coordinate_descent.py:648: ConvergenceWarning: Objective did not converge. You might want to increase the number of iterations, check the scale of the features or consider increasing regularisation. Duality gap: 4.039e+10, tolerance: 1.358e+08\n",
            "  coef_, l1_reg, l2_reg, X, y, max_iter, tol, rng, random, positive\n",
            "/usr/local/lib/python3.7/dist-packages/sklearn/linear_model/_coordinate_descent.py:648: ConvergenceWarning: Objective did not converge. You might want to increase the number of iterations, check the scale of the features or consider increasing regularisation. Duality gap: 4.539e+10, tolerance: 1.392e+08\n",
            "  coef_, l1_reg, l2_reg, X, y, max_iter, tol, rng, random, positive\n",
            "/usr/local/lib/python3.7/dist-packages/sklearn/linear_model/_coordinate_descent.py:648: ConvergenceWarning: Objective did not converge. You might want to increase the number of iterations, check the scale of the features or consider increasing regularisation. Duality gap: 1.878e+10, tolerance: 1.372e+08\n",
            "  coef_, l1_reg, l2_reg, X, y, max_iter, tol, rng, random, positive\n",
            "/usr/local/lib/python3.7/dist-packages/sklearn/linear_model/_coordinate_descent.py:648: ConvergenceWarning: Objective did not converge. You might want to increase the number of iterations, check the scale of the features or consider increasing regularisation. Duality gap: 1.854e+10, tolerance: 1.370e+08\n",
            "  coef_, l1_reg, l2_reg, X, y, max_iter, tol, rng, random, positive\n",
            "/usr/local/lib/python3.7/dist-packages/sklearn/linear_model/_coordinate_descent.py:648: ConvergenceWarning: Objective did not converge. You might want to increase the number of iterations, check the scale of the features or consider increasing regularisation. Duality gap: 1.857e+10, tolerance: 1.353e+08\n",
            "  coef_, l1_reg, l2_reg, X, y, max_iter, tol, rng, random, positive\n",
            "/usr/local/lib/python3.7/dist-packages/sklearn/linear_model/_coordinate_descent.py:648: ConvergenceWarning: Objective did not converge. You might want to increase the number of iterations, check the scale of the features or consider increasing regularisation. Duality gap: 1.865e+10, tolerance: 1.358e+08\n",
            "  coef_, l1_reg, l2_reg, X, y, max_iter, tol, rng, random, positive\n",
            "/usr/local/lib/python3.7/dist-packages/sklearn/linear_model/_coordinate_descent.py:648: ConvergenceWarning: Objective did not converge. You might want to increase the number of iterations, check the scale of the features or consider increasing regularisation. Duality gap: 1.980e+10, tolerance: 1.392e+08\n",
            "  coef_, l1_reg, l2_reg, X, y, max_iter, tol, rng, random, positive\n",
            "/usr/local/lib/python3.7/dist-packages/sklearn/linear_model/_coordinate_descent.py:648: ConvergenceWarning: Objective did not converge. You might want to increase the number of iterations, check the scale of the features or consider increasing regularisation. Duality gap: 6.565e+09, tolerance: 1.372e+08\n",
            "  coef_, l1_reg, l2_reg, X, y, max_iter, tol, rng, random, positive\n",
            "/usr/local/lib/python3.7/dist-packages/sklearn/linear_model/_coordinate_descent.py:648: ConvergenceWarning: Objective did not converge. You might want to increase the number of iterations, check the scale of the features or consider increasing regularisation. Duality gap: 5.819e+09, tolerance: 1.370e+08\n",
            "  coef_, l1_reg, l2_reg, X, y, max_iter, tol, rng, random, positive\n",
            "/usr/local/lib/python3.7/dist-packages/sklearn/linear_model/_coordinate_descent.py:648: ConvergenceWarning: Objective did not converge. You might want to increase the number of iterations, check the scale of the features or consider increasing regularisation. Duality gap: 6.508e+09, tolerance: 1.353e+08\n",
            "  coef_, l1_reg, l2_reg, X, y, max_iter, tol, rng, random, positive\n",
            "/usr/local/lib/python3.7/dist-packages/sklearn/linear_model/_coordinate_descent.py:648: ConvergenceWarning: Objective did not converge. You might want to increase the number of iterations, check the scale of the features or consider increasing regularisation. Duality gap: 6.382e+09, tolerance: 1.358e+08\n",
            "  coef_, l1_reg, l2_reg, X, y, max_iter, tol, rng, random, positive\n",
            "/usr/local/lib/python3.7/dist-packages/sklearn/linear_model/_coordinate_descent.py:648: ConvergenceWarning: Objective did not converge. You might want to increase the number of iterations, check the scale of the features or consider increasing regularisation. Duality gap: 6.583e+09, tolerance: 1.392e+08\n",
            "  coef_, l1_reg, l2_reg, X, y, max_iter, tol, rng, random, positive\n",
            "/usr/local/lib/python3.7/dist-packages/sklearn/linear_model/_coordinate_descent.py:648: ConvergenceWarning: Objective did not converge. You might want to increase the number of iterations, check the scale of the features or consider increasing regularisation. Duality gap: 3.774e+09, tolerance: 1.372e+08\n",
            "  coef_, l1_reg, l2_reg, X, y, max_iter, tol, rng, random, positive\n",
            "/usr/local/lib/python3.7/dist-packages/sklearn/linear_model/_coordinate_descent.py:648: ConvergenceWarning: Objective did not converge. You might want to increase the number of iterations, check the scale of the features or consider increasing regularisation. Duality gap: 3.904e+09, tolerance: 1.370e+08\n",
            "  coef_, l1_reg, l2_reg, X, y, max_iter, tol, rng, random, positive\n",
            "/usr/local/lib/python3.7/dist-packages/sklearn/linear_model/_coordinate_descent.py:648: ConvergenceWarning: Objective did not converge. You might want to increase the number of iterations, check the scale of the features or consider increasing regularisation. Duality gap: 3.820e+09, tolerance: 1.353e+08\n",
            "  coef_, l1_reg, l2_reg, X, y, max_iter, tol, rng, random, positive\n",
            "/usr/local/lib/python3.7/dist-packages/sklearn/linear_model/_coordinate_descent.py:648: ConvergenceWarning: Objective did not converge. You might want to increase the number of iterations, check the scale of the features or consider increasing regularisation. Duality gap: 3.713e+09, tolerance: 1.358e+08\n",
            "  coef_, l1_reg, l2_reg, X, y, max_iter, tol, rng, random, positive\n",
            "/usr/local/lib/python3.7/dist-packages/sklearn/linear_model/_coordinate_descent.py:648: ConvergenceWarning: Objective did not converge. You might want to increase the number of iterations, check the scale of the features or consider increasing regularisation. Duality gap: 1.935e+10, tolerance: 1.372e+08\n",
            "  coef_, l1_reg, l2_reg, X, y, max_iter, tol, rng, random, positive\n",
            "/usr/local/lib/python3.7/dist-packages/sklearn/linear_model/_coordinate_descent.py:648: ConvergenceWarning: Objective did not converge. You might want to increase the number of iterations, check the scale of the features or consider increasing regularisation. Duality gap: 1.903e+10, tolerance: 1.370e+08\n",
            "  coef_, l1_reg, l2_reg, X, y, max_iter, tol, rng, random, positive\n",
            "/usr/local/lib/python3.7/dist-packages/sklearn/linear_model/_coordinate_descent.py:648: ConvergenceWarning: Objective did not converge. You might want to increase the number of iterations, check the scale of the features or consider increasing regularisation. Duality gap: 1.906e+10, tolerance: 1.353e+08\n",
            "  coef_, l1_reg, l2_reg, X, y, max_iter, tol, rng, random, positive\n",
            "/usr/local/lib/python3.7/dist-packages/sklearn/linear_model/_coordinate_descent.py:648: ConvergenceWarning: Objective did not converge. You might want to increase the number of iterations, check the scale of the features or consider increasing regularisation. Duality gap: 1.917e+10, tolerance: 1.358e+08\n",
            "  coef_, l1_reg, l2_reg, X, y, max_iter, tol, rng, random, positive\n",
            "/usr/local/lib/python3.7/dist-packages/sklearn/linear_model/_coordinate_descent.py:648: ConvergenceWarning: Objective did not converge. You might want to increase the number of iterations, check the scale of the features or consider increasing regularisation. Duality gap: 2.038e+10, tolerance: 1.392e+08\n",
            "  coef_, l1_reg, l2_reg, X, y, max_iter, tol, rng, random, positive\n",
            "/usr/local/lib/python3.7/dist-packages/sklearn/linear_model/_coordinate_descent.py:648: ConvergenceWarning: Objective did not converge. You might want to increase the number of iterations, check the scale of the features or consider increasing regularisation. Duality gap: 7.326e+09, tolerance: 1.372e+08\n",
            "  coef_, l1_reg, l2_reg, X, y, max_iter, tol, rng, random, positive\n",
            "/usr/local/lib/python3.7/dist-packages/sklearn/linear_model/_coordinate_descent.py:648: ConvergenceWarning: Objective did not converge. You might want to increase the number of iterations, check the scale of the features or consider increasing regularisation. Duality gap: 6.587e+09, tolerance: 1.370e+08\n",
            "  coef_, l1_reg, l2_reg, X, y, max_iter, tol, rng, random, positive\n",
            "/usr/local/lib/python3.7/dist-packages/sklearn/linear_model/_coordinate_descent.py:648: ConvergenceWarning: Objective did not converge. You might want to increase the number of iterations, check the scale of the features or consider increasing regularisation. Duality gap: 7.237e+09, tolerance: 1.353e+08\n",
            "  coef_, l1_reg, l2_reg, X, y, max_iter, tol, rng, random, positive\n",
            "/usr/local/lib/python3.7/dist-packages/sklearn/linear_model/_coordinate_descent.py:648: ConvergenceWarning: Objective did not converge. You might want to increase the number of iterations, check the scale of the features or consider increasing regularisation. Duality gap: 7.111e+09, tolerance: 1.358e+08\n",
            "  coef_, l1_reg, l2_reg, X, y, max_iter, tol, rng, random, positive\n",
            "/usr/local/lib/python3.7/dist-packages/sklearn/linear_model/_coordinate_descent.py:648: ConvergenceWarning: Objective did not converge. You might want to increase the number of iterations, check the scale of the features or consider increasing regularisation. Duality gap: 7.361e+09, tolerance: 1.392e+08\n",
            "  coef_, l1_reg, l2_reg, X, y, max_iter, tol, rng, random, positive\n",
            "/usr/local/lib/python3.7/dist-packages/sklearn/linear_model/_coordinate_descent.py:648: ConvergenceWarning: Objective did not converge. You might want to increase the number of iterations, check the scale of the features or consider increasing regularisation. Duality gap: 2.251e+10, tolerance: 1.372e+08\n",
            "  coef_, l1_reg, l2_reg, X, y, max_iter, tol, rng, random, positive\n",
            "/usr/local/lib/python3.7/dist-packages/sklearn/linear_model/_coordinate_descent.py:648: ConvergenceWarning: Objective did not converge. You might want to increase the number of iterations, check the scale of the features or consider increasing regularisation. Duality gap: 2.212e+10, tolerance: 1.370e+08\n",
            "  coef_, l1_reg, l2_reg, X, y, max_iter, tol, rng, random, positive\n",
            "/usr/local/lib/python3.7/dist-packages/sklearn/linear_model/_coordinate_descent.py:648: ConvergenceWarning: Objective did not converge. You might want to increase the number of iterations, check the scale of the features or consider increasing regularisation. Duality gap: 2.185e+10, tolerance: 1.353e+08\n",
            "  coef_, l1_reg, l2_reg, X, y, max_iter, tol, rng, random, positive\n",
            "/usr/local/lib/python3.7/dist-packages/sklearn/linear_model/_coordinate_descent.py:648: ConvergenceWarning: Objective did not converge. You might want to increase the number of iterations, check the scale of the features or consider increasing regularisation. Duality gap: 2.238e+10, tolerance: 1.358e+08\n",
            "  coef_, l1_reg, l2_reg, X, y, max_iter, tol, rng, random, positive\n",
            "/usr/local/lib/python3.7/dist-packages/sklearn/linear_model/_coordinate_descent.py:648: ConvergenceWarning: Objective did not converge. You might want to increase the number of iterations, check the scale of the features or consider increasing regularisation. Duality gap: 2.374e+10, tolerance: 1.392e+08\n",
            "  coef_, l1_reg, l2_reg, X, y, max_iter, tol, rng, random, positive\n",
            "/usr/local/lib/python3.7/dist-packages/sklearn/linear_model/_coordinate_descent.py:648: ConvergenceWarning: Objective did not converge. You might want to increase the number of iterations, check the scale of the features or consider increasing regularisation. Duality gap: 9.867e+09, tolerance: 1.372e+08\n",
            "  coef_, l1_reg, l2_reg, X, y, max_iter, tol, rng, random, positive\n",
            "/usr/local/lib/python3.7/dist-packages/sklearn/linear_model/_coordinate_descent.py:648: ConvergenceWarning: Objective did not converge. You might want to increase the number of iterations, check the scale of the features or consider increasing regularisation. Duality gap: 9.065e+09, tolerance: 1.370e+08\n",
            "  coef_, l1_reg, l2_reg, X, y, max_iter, tol, rng, random, positive\n",
            "/usr/local/lib/python3.7/dist-packages/sklearn/linear_model/_coordinate_descent.py:648: ConvergenceWarning: Objective did not converge. You might want to increase the number of iterations, check the scale of the features or consider increasing regularisation. Duality gap: 9.716e+09, tolerance: 1.353e+08\n",
            "  coef_, l1_reg, l2_reg, X, y, max_iter, tol, rng, random, positive\n",
            "/usr/local/lib/python3.7/dist-packages/sklearn/linear_model/_coordinate_descent.py:648: ConvergenceWarning: Objective did not converge. You might want to increase the number of iterations, check the scale of the features or consider increasing regularisation. Duality gap: 9.689e+09, tolerance: 1.358e+08\n",
            "  coef_, l1_reg, l2_reg, X, y, max_iter, tol, rng, random, positive\n",
            "/usr/local/lib/python3.7/dist-packages/sklearn/linear_model/_coordinate_descent.py:648: ConvergenceWarning: Objective did not converge. You might want to increase the number of iterations, check the scale of the features or consider increasing regularisation. Duality gap: 9.942e+09, tolerance: 1.392e+08\n",
            "  coef_, l1_reg, l2_reg, X, y, max_iter, tol, rng, random, positive\n",
            "/usr/local/lib/python3.7/dist-packages/sklearn/linear_model/_coordinate_descent.py:648: ConvergenceWarning: Objective did not converge. You might want to increase the number of iterations, check the scale of the features or consider increasing regularisation. Duality gap: 3.079e+10, tolerance: 1.372e+08\n",
            "  coef_, l1_reg, l2_reg, X, y, max_iter, tol, rng, random, positive\n",
            "/usr/local/lib/python3.7/dist-packages/sklearn/linear_model/_coordinate_descent.py:648: ConvergenceWarning: Objective did not converge. You might want to increase the number of iterations, check the scale of the features or consider increasing regularisation. Duality gap: 3.047e+10, tolerance: 1.370e+08\n",
            "  coef_, l1_reg, l2_reg, X, y, max_iter, tol, rng, random, positive\n",
            "/usr/local/lib/python3.7/dist-packages/sklearn/linear_model/_coordinate_descent.py:648: ConvergenceWarning: Objective did not converge. You might want to increase the number of iterations, check the scale of the features or consider increasing regularisation. Duality gap: 2.990e+10, tolerance: 1.353e+08\n",
            "  coef_, l1_reg, l2_reg, X, y, max_iter, tol, rng, random, positive\n",
            "/usr/local/lib/python3.7/dist-packages/sklearn/linear_model/_coordinate_descent.py:648: ConvergenceWarning: Objective did not converge. You might want to increase the number of iterations, check the scale of the features or consider increasing regularisation. Duality gap: 3.028e+10, tolerance: 1.358e+08\n",
            "  coef_, l1_reg, l2_reg, X, y, max_iter, tol, rng, random, positive\n",
            "/usr/local/lib/python3.7/dist-packages/sklearn/linear_model/_coordinate_descent.py:648: ConvergenceWarning: Objective did not converge. You might want to increase the number of iterations, check the scale of the features or consider increasing regularisation. Duality gap: 3.184e+10, tolerance: 1.392e+08\n",
            "  coef_, l1_reg, l2_reg, X, y, max_iter, tol, rng, random, positive\n",
            "/usr/local/lib/python3.7/dist-packages/sklearn/linear_model/_coordinate_descent.py:648: ConvergenceWarning: Objective did not converge. You might want to increase the number of iterations, check the scale of the features or consider increasing regularisation. Duality gap: 1.583e+10, tolerance: 1.372e+08\n",
            "  coef_, l1_reg, l2_reg, X, y, max_iter, tol, rng, random, positive\n",
            "/usr/local/lib/python3.7/dist-packages/sklearn/linear_model/_coordinate_descent.py:648: ConvergenceWarning: Objective did not converge. You might want to increase the number of iterations, check the scale of the features or consider increasing regularisation. Duality gap: 1.478e+10, tolerance: 1.370e+08\n",
            "  coef_, l1_reg, l2_reg, X, y, max_iter, tol, rng, random, positive\n",
            "/usr/local/lib/python3.7/dist-packages/sklearn/linear_model/_coordinate_descent.py:648: ConvergenceWarning: Objective did not converge. You might want to increase the number of iterations, check the scale of the features or consider increasing regularisation. Duality gap: 1.554e+10, tolerance: 1.353e+08\n",
            "  coef_, l1_reg, l2_reg, X, y, max_iter, tol, rng, random, positive\n",
            "/usr/local/lib/python3.7/dist-packages/sklearn/linear_model/_coordinate_descent.py:648: ConvergenceWarning: Objective did not converge. You might want to increase the number of iterations, check the scale of the features or consider increasing regularisation. Duality gap: 1.575e+10, tolerance: 1.358e+08\n",
            "  coef_, l1_reg, l2_reg, X, y, max_iter, tol, rng, random, positive\n",
            "/usr/local/lib/python3.7/dist-packages/sklearn/linear_model/_coordinate_descent.py:648: ConvergenceWarning: Objective did not converge. You might want to increase the number of iterations, check the scale of the features or consider increasing regularisation. Duality gap: 1.593e+10, tolerance: 1.392e+08\n",
            "  coef_, l1_reg, l2_reg, X, y, max_iter, tol, rng, random, positive\n"
          ]
        },
        {
          "output_type": "stream",
          "name": "stdout",
          "text": [
            "{'lasso__alpha': 10, 'polynomialfeatures__degree': 2}\n",
            "Pipeline(steps=[('polynomialfeatures', PolynomialFeatures()),\n",
            "                ('lasso', Lasso(alpha=10))])\n"
          ]
        },
        {
          "output_type": "stream",
          "name": "stderr",
          "text": [
            "/usr/local/lib/python3.7/dist-packages/sklearn/linear_model/_coordinate_descent.py:648: ConvergenceWarning: Objective did not converge. You might want to increase the number of iterations, check the scale of the features or consider increasing regularisation. Duality gap: 3.938e+10, tolerance: 1.711e+08\n",
            "  coef_, l1_reg, l2_reg, X, y, max_iter, tol, rng, random, positive\n"
          ]
        }
      ]
    },
    {
      "cell_type": "code",
      "source": [
        "lasso_regression_metrics = {\n",
        "  \"model\": \"Lasso\",\n",
        "  \"r2\": metrics.r2_score(y_test, lasso_regression_grid.best_estimator_.predict(X_test)),\n",
        "  \"explained_variance_score\": metrics.explained_variance_score(y_test, lasso_regression_grid.best_estimator_.predict(X_test)),\n",
        "  \"median_absolute_error\": metrics.median_absolute_error(y_test, lasso_regression_grid.best_estimator_.predict(X_test)),\n",
        "  \"mean_squared_error\": metrics.mean_squared_error(y_test, lasso_regression_grid.best_estimator_.predict(X_test)),\n",
        "  \"mean_absolute_error\": metrics.mean_absolute_error(y_test, lasso_regression_grid.best_estimator_.predict(X_test))\n",
        "}\n",
        "print(lasso_regression_metrics)"
      ],
      "metadata": {
        "colab": {
          "base_uri": "https://localhost:8080/"
        },
        "id": "05xg1J4EG9Cl",
        "outputId": "1f95d39c-db80-4cad-9d1d-0dc5b4cedba3"
      },
      "execution_count": 44,
      "outputs": [
        {
          "output_type": "stream",
          "name": "stdout",
          "text": [
            "{'model': 'Lasso', 'r2': 0.9508543173595588, 'explained_variance_score': 0.9508569372789, 'median_absolute_error': 1968.0921339186807, 'mean_squared_error': 25877926.4069699, 'mean_absolute_error': 3288.615894755378}\n"
          ]
        }
      ]
    },
    {
      "cell_type": "code",
      "source": [
        "from sklearn.linear_model import ElasticNet\n",
        "\n",
        "elastic_net_regression_grid = GridSearchCV(\n",
        "    make_pipeline(PolynomialFeatures(degree=2), ElasticNet(alpha=1)),\n",
        "    param_grid={\n",
        "        'polynomialfeatures__degree': [1, 2, 3],\n",
        "        'elasticnet__alpha': [0.01, 0.1, 1, 10]\n",
        "    },\n",
        "    cv=kfold\n",
        ")\n",
        "\n",
        "elastic_net_regression_grid.fit(X_train, y_train)\n",
        "print(elastic_net_regression_grid.best_params_)\n",
        "print(elastic_net_regression_grid.best_estimator_)"
      ],
      "metadata": {
        "colab": {
          "base_uri": "https://localhost:8080/"
        },
        "id": "1he5XrB9HNIl",
        "outputId": "1d7de974-0020-4d8f-c47e-1bd8405f1f50"
      },
      "execution_count": 37,
      "outputs": [
        {
          "output_type": "stream",
          "name": "stderr",
          "text": [
            "/usr/local/lib/python3.7/dist-packages/sklearn/model_selection/_split.py:680: UserWarning: The least populated class in y has only 1 members, which is less than n_splits=5.\n",
            "  UserWarning,\n",
            "/usr/local/lib/python3.7/dist-packages/sklearn/linear_model/_coordinate_descent.py:648: ConvergenceWarning: Objective did not converge. You might want to increase the number of iterations, check the scale of the features or consider increasing regularisation. Duality gap: 2.861e+10, tolerance: 1.372e+08\n",
            "  coef_, l1_reg, l2_reg, X, y, max_iter, tol, rng, random, positive\n",
            "/usr/local/lib/python3.7/dist-packages/sklearn/linear_model/_coordinate_descent.py:648: ConvergenceWarning: Objective did not converge. You might want to increase the number of iterations, check the scale of the features or consider increasing regularisation. Duality gap: 2.811e+10, tolerance: 1.370e+08\n",
            "  coef_, l1_reg, l2_reg, X, y, max_iter, tol, rng, random, positive\n",
            "/usr/local/lib/python3.7/dist-packages/sklearn/linear_model/_coordinate_descent.py:648: ConvergenceWarning: Objective did not converge. You might want to increase the number of iterations, check the scale of the features or consider increasing regularisation. Duality gap: 2.783e+10, tolerance: 1.353e+08\n",
            "  coef_, l1_reg, l2_reg, X, y, max_iter, tol, rng, random, positive\n",
            "/usr/local/lib/python3.7/dist-packages/sklearn/linear_model/_coordinate_descent.py:648: ConvergenceWarning: Objective did not converge. You might want to increase the number of iterations, check the scale of the features or consider increasing regularisation. Duality gap: 2.834e+10, tolerance: 1.358e+08\n",
            "  coef_, l1_reg, l2_reg, X, y, max_iter, tol, rng, random, positive\n",
            "/usr/local/lib/python3.7/dist-packages/sklearn/linear_model/_coordinate_descent.py:648: ConvergenceWarning: Objective did not converge. You might want to increase the number of iterations, check the scale of the features or consider increasing regularisation. Duality gap: 2.943e+10, tolerance: 1.392e+08\n",
            "  coef_, l1_reg, l2_reg, X, y, max_iter, tol, rng, random, positive\n",
            "/usr/local/lib/python3.7/dist-packages/sklearn/linear_model/_coordinate_descent.py:648: ConvergenceWarning: Objective did not converge. You might want to increase the number of iterations, check the scale of the features or consider increasing regularisation. Duality gap: 1.044e+10, tolerance: 1.372e+08\n",
            "  coef_, l1_reg, l2_reg, X, y, max_iter, tol, rng, random, positive\n",
            "/usr/local/lib/python3.7/dist-packages/sklearn/linear_model/_coordinate_descent.py:648: ConvergenceWarning: Objective did not converge. You might want to increase the number of iterations, check the scale of the features or consider increasing regularisation. Duality gap: 9.544e+09, tolerance: 1.370e+08\n",
            "  coef_, l1_reg, l2_reg, X, y, max_iter, tol, rng, random, positive\n",
            "/usr/local/lib/python3.7/dist-packages/sklearn/linear_model/_coordinate_descent.py:648: ConvergenceWarning: Objective did not converge. You might want to increase the number of iterations, check the scale of the features or consider increasing regularisation. Duality gap: 1.025e+10, tolerance: 1.353e+08\n",
            "  coef_, l1_reg, l2_reg, X, y, max_iter, tol, rng, random, positive\n",
            "/usr/local/lib/python3.7/dist-packages/sklearn/linear_model/_coordinate_descent.py:648: ConvergenceWarning: Objective did not converge. You might want to increase the number of iterations, check the scale of the features or consider increasing regularisation. Duality gap: 1.027e+10, tolerance: 1.358e+08\n",
            "  coef_, l1_reg, l2_reg, X, y, max_iter, tol, rng, random, positive\n",
            "/usr/local/lib/python3.7/dist-packages/sklearn/linear_model/_coordinate_descent.py:648: ConvergenceWarning: Objective did not converge. You might want to increase the number of iterations, check the scale of the features or consider increasing regularisation. Duality gap: 1.052e+10, tolerance: 1.392e+08\n",
            "  coef_, l1_reg, l2_reg, X, y, max_iter, tol, rng, random, positive\n",
            "/usr/local/lib/python3.7/dist-packages/sklearn/linear_model/_coordinate_descent.py:648: ConvergenceWarning: Objective did not converge. You might want to increase the number of iterations, check the scale of the features or consider increasing regularisation. Duality gap: 4.178e+10, tolerance: 1.372e+08\n",
            "  coef_, l1_reg, l2_reg, X, y, max_iter, tol, rng, random, positive\n",
            "/usr/local/lib/python3.7/dist-packages/sklearn/linear_model/_coordinate_descent.py:648: ConvergenceWarning: Objective did not converge. You might want to increase the number of iterations, check the scale of the features or consider increasing regularisation. Duality gap: 4.080e+10, tolerance: 1.370e+08\n",
            "  coef_, l1_reg, l2_reg, X, y, max_iter, tol, rng, random, positive\n",
            "/usr/local/lib/python3.7/dist-packages/sklearn/linear_model/_coordinate_descent.py:648: ConvergenceWarning: Objective did not converge. You might want to increase the number of iterations, check the scale of the features or consider increasing regularisation. Duality gap: 4.074e+10, tolerance: 1.353e+08\n",
            "  coef_, l1_reg, l2_reg, X, y, max_iter, tol, rng, random, positive\n",
            "/usr/local/lib/python3.7/dist-packages/sklearn/linear_model/_coordinate_descent.py:648: ConvergenceWarning: Objective did not converge. You might want to increase the number of iterations, check the scale of the features or consider increasing regularisation. Duality gap: 4.082e+10, tolerance: 1.358e+08\n",
            "  coef_, l1_reg, l2_reg, X, y, max_iter, tol, rng, random, positive\n",
            "/usr/local/lib/python3.7/dist-packages/sklearn/linear_model/_coordinate_descent.py:648: ConvergenceWarning: Objective did not converge. You might want to increase the number of iterations, check the scale of the features or consider increasing regularisation. Duality gap: 4.244e+10, tolerance: 1.392e+08\n",
            "  coef_, l1_reg, l2_reg, X, y, max_iter, tol, rng, random, positive\n",
            "/usr/local/lib/python3.7/dist-packages/sklearn/linear_model/_coordinate_descent.py:648: ConvergenceWarning: Objective did not converge. You might want to increase the number of iterations, check the scale of the features or consider increasing regularisation. Duality gap: 1.430e+10, tolerance: 1.372e+08\n",
            "  coef_, l1_reg, l2_reg, X, y, max_iter, tol, rng, random, positive\n",
            "/usr/local/lib/python3.7/dist-packages/sklearn/linear_model/_coordinate_descent.py:648: ConvergenceWarning: Objective did not converge. You might want to increase the number of iterations, check the scale of the features or consider increasing regularisation. Duality gap: 1.332e+10, tolerance: 1.370e+08\n",
            "  coef_, l1_reg, l2_reg, X, y, max_iter, tol, rng, random, positive\n",
            "/usr/local/lib/python3.7/dist-packages/sklearn/linear_model/_coordinate_descent.py:648: ConvergenceWarning: Objective did not converge. You might want to increase the number of iterations, check the scale of the features or consider increasing regularisation. Duality gap: 1.403e+10, tolerance: 1.353e+08\n",
            "  coef_, l1_reg, l2_reg, X, y, max_iter, tol, rng, random, positive\n",
            "/usr/local/lib/python3.7/dist-packages/sklearn/linear_model/_coordinate_descent.py:648: ConvergenceWarning: Objective did not converge. You might want to increase the number of iterations, check the scale of the features or consider increasing regularisation. Duality gap: 1.415e+10, tolerance: 1.358e+08\n",
            "  coef_, l1_reg, l2_reg, X, y, max_iter, tol, rng, random, positive\n",
            "/usr/local/lib/python3.7/dist-packages/sklearn/linear_model/_coordinate_descent.py:648: ConvergenceWarning: Objective did not converge. You might want to increase the number of iterations, check the scale of the features or consider increasing regularisation. Duality gap: 1.440e+10, tolerance: 1.392e+08\n",
            "  coef_, l1_reg, l2_reg, X, y, max_iter, tol, rng, random, positive\n",
            "/usr/local/lib/python3.7/dist-packages/sklearn/linear_model/_coordinate_descent.py:648: ConvergenceWarning: Objective did not converge. You might want to increase the number of iterations, check the scale of the features or consider increasing regularisation. Duality gap: 3.621e+10, tolerance: 1.372e+08\n",
            "  coef_, l1_reg, l2_reg, X, y, max_iter, tol, rng, random, positive\n",
            "/usr/local/lib/python3.7/dist-packages/sklearn/linear_model/_coordinate_descent.py:648: ConvergenceWarning: Objective did not converge. You might want to increase the number of iterations, check the scale of the features or consider increasing regularisation. Duality gap: 4.808e+10, tolerance: 1.370e+08\n",
            "  coef_, l1_reg, l2_reg, X, y, max_iter, tol, rng, random, positive\n",
            "/usr/local/lib/python3.7/dist-packages/sklearn/linear_model/_coordinate_descent.py:648: ConvergenceWarning: Objective did not converge. You might want to increase the number of iterations, check the scale of the features or consider increasing regularisation. Duality gap: 4.189e+10, tolerance: 1.353e+08\n",
            "  coef_, l1_reg, l2_reg, X, y, max_iter, tol, rng, random, positive\n",
            "/usr/local/lib/python3.7/dist-packages/sklearn/linear_model/_coordinate_descent.py:648: ConvergenceWarning: Objective did not converge. You might want to increase the number of iterations, check the scale of the features or consider increasing regularisation. Duality gap: 4.291e+10, tolerance: 1.358e+08\n",
            "  coef_, l1_reg, l2_reg, X, y, max_iter, tol, rng, random, positive\n",
            "/usr/local/lib/python3.7/dist-packages/sklearn/linear_model/_coordinate_descent.py:648: ConvergenceWarning: Objective did not converge. You might want to increase the number of iterations, check the scale of the features or consider increasing regularisation. Duality gap: 5.647e+10, tolerance: 1.392e+08\n",
            "  coef_, l1_reg, l2_reg, X, y, max_iter, tol, rng, random, positive\n",
            "/usr/local/lib/python3.7/dist-packages/sklearn/linear_model/_coordinate_descent.py:648: ConvergenceWarning: Objective did not converge. You might want to increase the number of iterations, check the scale of the features or consider increasing regularisation. Duality gap: 2.098e+10, tolerance: 1.372e+08\n",
            "  coef_, l1_reg, l2_reg, X, y, max_iter, tol, rng, random, positive\n",
            "/usr/local/lib/python3.7/dist-packages/sklearn/linear_model/_coordinate_descent.py:648: ConvergenceWarning: Objective did not converge. You might want to increase the number of iterations, check the scale of the features or consider increasing regularisation. Duality gap: 2.000e+10, tolerance: 1.370e+08\n",
            "  coef_, l1_reg, l2_reg, X, y, max_iter, tol, rng, random, positive\n",
            "/usr/local/lib/python3.7/dist-packages/sklearn/linear_model/_coordinate_descent.py:648: ConvergenceWarning: Objective did not converge. You might want to increase the number of iterations, check the scale of the features or consider increasing regularisation. Duality gap: 2.049e+10, tolerance: 1.353e+08\n",
            "  coef_, l1_reg, l2_reg, X, y, max_iter, tol, rng, random, positive\n",
            "/usr/local/lib/python3.7/dist-packages/sklearn/linear_model/_coordinate_descent.py:648: ConvergenceWarning: Objective did not converge. You might want to increase the number of iterations, check the scale of the features or consider increasing regularisation. Duality gap: 2.072e+10, tolerance: 1.358e+08\n",
            "  coef_, l1_reg, l2_reg, X, y, max_iter, tol, rng, random, positive\n",
            "/usr/local/lib/python3.7/dist-packages/sklearn/linear_model/_coordinate_descent.py:648: ConvergenceWarning: Objective did not converge. You might want to increase the number of iterations, check the scale of the features or consider increasing regularisation. Duality gap: 2.094e+10, tolerance: 1.392e+08\n",
            "  coef_, l1_reg, l2_reg, X, y, max_iter, tol, rng, random, positive\n",
            "/usr/local/lib/python3.7/dist-packages/sklearn/linear_model/_coordinate_descent.py:648: ConvergenceWarning: Objective did not converge. You might want to increase the number of iterations, check the scale of the features or consider increasing regularisation. Duality gap: 3.452e+10, tolerance: 1.372e+08\n",
            "  coef_, l1_reg, l2_reg, X, y, max_iter, tol, rng, random, positive\n",
            "/usr/local/lib/python3.7/dist-packages/sklearn/linear_model/_coordinate_descent.py:648: ConvergenceWarning: Objective did not converge. You might want to increase the number of iterations, check the scale of the features or consider increasing regularisation. Duality gap: 3.370e+10, tolerance: 1.370e+08\n",
            "  coef_, l1_reg, l2_reg, X, y, max_iter, tol, rng, random, positive\n",
            "/usr/local/lib/python3.7/dist-packages/sklearn/linear_model/_coordinate_descent.py:648: ConvergenceWarning: Objective did not converge. You might want to increase the number of iterations, check the scale of the features or consider increasing regularisation. Duality gap: 3.362e+10, tolerance: 1.353e+08\n",
            "  coef_, l1_reg, l2_reg, X, y, max_iter, tol, rng, random, positive\n",
            "/usr/local/lib/python3.7/dist-packages/sklearn/linear_model/_coordinate_descent.py:648: ConvergenceWarning: Objective did not converge. You might want to increase the number of iterations, check the scale of the features or consider increasing regularisation. Duality gap: 3.355e+10, tolerance: 1.358e+08\n",
            "  coef_, l1_reg, l2_reg, X, y, max_iter, tol, rng, random, positive\n",
            "/usr/local/lib/python3.7/dist-packages/sklearn/linear_model/_coordinate_descent.py:648: ConvergenceWarning: Objective did not converge. You might want to increase the number of iterations, check the scale of the features or consider increasing regularisation. Duality gap: 3.444e+10, tolerance: 1.392e+08\n",
            "  coef_, l1_reg, l2_reg, X, y, max_iter, tol, rng, random, positive\n"
          ]
        },
        {
          "output_type": "stream",
          "name": "stdout",
          "text": [
            "{'elasticnet__alpha': 0.01, 'polynomialfeatures__degree': 2}\n",
            "Pipeline(steps=[('polynomialfeatures', PolynomialFeatures()),\n",
            "                ('elasticnet', ElasticNet(alpha=0.01))])\n"
          ]
        },
        {
          "output_type": "stream",
          "name": "stderr",
          "text": [
            "/usr/local/lib/python3.7/dist-packages/sklearn/linear_model/_coordinate_descent.py:648: ConvergenceWarning: Objective did not converge. You might want to increase the number of iterations, check the scale of the features or consider increasing regularisation. Duality gap: 3.677e+10, tolerance: 1.711e+08\n",
            "  coef_, l1_reg, l2_reg, X, y, max_iter, tol, rng, random, positive\n"
          ]
        }
      ]
    },
    {
      "cell_type": "code",
      "source": [
        "elastic_net_regression_metrics = {\n",
        "  \"model\": \"ElasticNet\",\n",
        "  \"r2\": metrics.r2_score(y_test, elastic_net_regression_grid.best_estimator_.predict(X_test)),\n",
        "  \"explained_variance_score\": metrics.explained_variance_score(y_test, elastic_net_regression_grid.best_estimator_.predict(X_test)),\n",
        "  \"median_absolute_error\": metrics.median_absolute_error(y_test, elastic_net_regression_grid.best_estimator_.predict(X_test)),\n",
        "  \"mean_squared_error\": metrics.mean_squared_error(y_test, elastic_net_regression_grid.best_estimator_.predict(X_test)),\n",
        "  \"mean_absolute_error\": metrics.mean_absolute_error(y_test, elastic_net_regression_grid.best_estimator_.predict(X_test))\n",
        "}\n",
        "print(elastic_net_regression_metrics)"
      ],
      "metadata": {
        "colab": {
          "base_uri": "https://localhost:8080/"
        },
        "id": "eJYRlLsVNBuI",
        "outputId": "01e0212b-30c7-4fb2-d40c-6fc1a4dd34c9"
      },
      "execution_count": 45,
      "outputs": [
        {
          "output_type": "stream",
          "name": "stdout",
          "text": [
            "{'model': 'ElasticNet', 'r2': 0.9501586239934668, 'explained_variance_score': 0.9501595318659996, 'median_absolute_error': 2081.7615508424105, 'mean_squared_error': 26244247.531477604, 'mean_absolute_error': 3376.7716184216824}\n"
          ]
        }
      ]
    },
    {
      "cell_type": "code",
      "source": [
        "from sklearn.ensemble import RandomForestRegressor\n",
        "\n",
        "random_forest_regression_grid = GridSearchCV(\n",
        "    RandomForestRegressor(),\n",
        "    param_grid={\n",
        "        'n_estimators': [100, 200, 300, 400],\n",
        "        'max_depth': [1, 10, 20, 30, 40]\n",
        "    },\n",
        "    cv=kfold\n",
        ")\n",
        "\n",
        "random_forest_regression_grid.fit(X_train, y_train)\n",
        "print(random_forest_regression_grid.best_params_)\n",
        "print(random_forest_regression_grid.best_estimator_)"
      ],
      "metadata": {
        "colab": {
          "base_uri": "https://localhost:8080/"
        },
        "id": "LEO1P1SLNYJ_",
        "outputId": "6c67ae0a-db6e-4eab-fc80-7a72bcf7586f"
      },
      "execution_count": 152,
      "outputs": [
        {
          "metadata": {
            "tags": null
          },
          "name": "stderr",
          "output_type": "stream",
          "text": [
            "/usr/local/lib/python3.7/dist-packages/sklearn/model_selection/_split.py:680: UserWarning: The least populated class in y has only 1 members, which is less than n_splits=5.\n",
            "  UserWarning,\n"
          ]
        },
        {
          "output_type": "stream",
          "name": "stdout",
          "text": [
            "{'max_depth': 40, 'n_estimators': 300}\n",
            "RandomForestRegressor(max_depth=40, n_estimators=300)\n"
          ]
        }
      ]
    },
    {
      "cell_type": "code",
      "source": [
        "random_forest_regression_metrics = {\n",
        "  \"model\": \"RandomForestRegressor\",\n",
        "  \"r2\": metrics.r2_score(y_test, random_forest_regression_grid.best_estimator_.predict(X_test)),\n",
        "  \"explained_variance_score\": metrics.explained_variance_score(y_test, random_forest_regression_grid.best_estimator_.predict(X_test)),\n",
        "  \"median_absolute_error\": metrics.median_absolute_error(y_test, random_forest_regression_grid.best_estimator_.predict(X_test)),\n",
        "  \"mean_squared_error\": metrics.mean_squared_error(y_test, random_forest_regression_grid.best_estimator_.predict(X_test)),\n",
        "  \"mean_absolute_error\": metrics.mean_absolute_error(y_test, random_forest_regression_grid.best_estimator_.predict(X_test))\n",
        "}\n",
        "print(random_forest_regression_metrics)"
      ],
      "metadata": {
        "colab": {
          "base_uri": "https://localhost:8080/"
        },
        "id": "F129WLhLPGIA",
        "outputId": "7ab7addf-12b9-45f5-8870-504433eb5825"
      },
      "execution_count": 153,
      "outputs": [
        {
          "output_type": "stream",
          "name": "stdout",
          "text": [
            "{'model': 'RandomForestRegressor', 'r2': 0.9619021271795319, 'explained_variance_score': 0.9619706781637782, 'median_absolute_error': 1106.025, 'mean_squared_error': 20060642.077619575, 'mean_absolute_error': 2539.973568116185}\n"
          ]
        }
      ]
    },
    {
      "cell_type": "code",
      "source": [
        "import tensorflow as tf\n",
        "from tensorflow import keras"
      ],
      "metadata": {
        "id": "hEmswG7nQUNJ"
      },
      "execution_count": 46,
      "outputs": []
    },
    {
      "cell_type": "code",
      "source": [
        "from keras.models import Sequential\n",
        "from keras.layers import Dense\n",
        "from keras.layers import Dropout\n",
        "\n",
        "from keras.callbacks import History\n",
        "\n",
        "history = History()\n",
        "neural_net = Sequential()\n",
        "neural_net.add(Dense(300,activation=\"relu\",input_shape=(X_train.shape[1],)))\n",
        "neural_net.add(Dropout(0.4))\n",
        "neural_net.add(Dense(150,activation=\"relu\"))\n",
        "neural_net.add(Dropout(0.4))\n",
        "neural_net.add(Dense(30,activation=\"relu\"))\n",
        "neural_net.add(Dropout(0.4))\n",
        "neural_net.add(Dense(1,activation=\"relu\"))\n",
        "neural_net.summary()"
      ],
      "metadata": {
        "colab": {
          "base_uri": "https://localhost:8080/"
        },
        "id": "rNzpZyOOQh77",
        "outputId": "5a1f46eb-f707-4f64-ad8a-c74e413fc325"
      },
      "execution_count": 109,
      "outputs": [
        {
          "output_type": "stream",
          "name": "stdout",
          "text": [
            "Model: \"sequential_19\"\n",
            "_________________________________________________________________\n",
            " Layer (type)                Output Shape              Param #   \n",
            "=================================================================\n",
            " dense_70 (Dense)            (None, 300)               27900     \n",
            "                                                                 \n",
            " dropout_33 (Dropout)        (None, 300)               0         \n",
            "                                                                 \n",
            " dense_71 (Dense)            (None, 150)               45150     \n",
            "                                                                 \n",
            " dropout_34 (Dropout)        (None, 150)               0         \n",
            "                                                                 \n",
            " dense_72 (Dense)            (None, 30)                4530      \n",
            "                                                                 \n",
            " dropout_35 (Dropout)        (None, 30)                0         \n",
            "                                                                 \n",
            " dense_73 (Dense)            (None, 1)                 31        \n",
            "                                                                 \n",
            "=================================================================\n",
            "Total params: 77,611\n",
            "Trainable params: 77,611\n",
            "Non-trainable params: 0\n",
            "_________________________________________________________________\n"
          ]
        }
      ]
    },
    {
      "cell_type": "code",
      "source": [
        "neural_net.compile(loss=\"mean_absolute_error\",optimizer=\"Adam\", metrics=[\"mean_absolute_error\"])"
      ],
      "metadata": {
        "id": "gM1X-Mi2Q5LE"
      },
      "execution_count": 110,
      "outputs": []
    },
    {
      "cell_type": "code",
      "source": [
        "history = neural_net.fit(X_train, y_train, epochs=150, validation_data=(X_test, y_test))"
      ],
      "metadata": {
        "colab": {
          "base_uri": "https://localhost:8080/"
        },
        "id": "lt-krrG7REFl",
        "outputId": "a6cd188b-fd6f-4ece-f84b-0c8f9bc608fe"
      },
      "execution_count": 111,
      "outputs": [
        {
          "output_type": "stream",
          "name": "stdout",
          "text": [
            "Epoch 1/150\n",
            "105/105 [==============================] - 1s 6ms/step - loss: 19170.3340 - mean_absolute_error: 19170.3340 - val_loss: 17207.8438 - val_mean_absolute_error: 17207.8438\n",
            "Epoch 2/150\n",
            "105/105 [==============================] - 0s 4ms/step - loss: 16353.0840 - mean_absolute_error: 16353.0840 - val_loss: 16386.8555 - val_mean_absolute_error: 16386.8555\n",
            "Epoch 3/150\n",
            "105/105 [==============================] - 1s 5ms/step - loss: 15524.4570 - mean_absolute_error: 15524.4570 - val_loss: 15780.8545 - val_mean_absolute_error: 15780.8545\n",
            "Epoch 4/150\n",
            "105/105 [==============================] - 0s 5ms/step - loss: 15187.3438 - mean_absolute_error: 15187.3438 - val_loss: 15484.5576 - val_mean_absolute_error: 15484.5576\n",
            "Epoch 5/150\n",
            "105/105 [==============================] - 0s 5ms/step - loss: 14904.6074 - mean_absolute_error: 14904.6074 - val_loss: 15227.3486 - val_mean_absolute_error: 15227.3486\n",
            "Epoch 6/150\n",
            "105/105 [==============================] - 1s 6ms/step - loss: 14619.7646 - mean_absolute_error: 14619.7646 - val_loss: 14872.1045 - val_mean_absolute_error: 14872.1045\n",
            "Epoch 7/150\n",
            "105/105 [==============================] - 1s 7ms/step - loss: 14201.3477 - mean_absolute_error: 14201.3477 - val_loss: 14282.8838 - val_mean_absolute_error: 14282.8838\n",
            "Epoch 8/150\n",
            "105/105 [==============================] - 1s 8ms/step - loss: 13651.5713 - mean_absolute_error: 13651.5713 - val_loss: 13487.2363 - val_mean_absolute_error: 13487.2363\n",
            "Epoch 9/150\n",
            "105/105 [==============================] - 1s 6ms/step - loss: 12754.6533 - mean_absolute_error: 12754.6533 - val_loss: 12133.7031 - val_mean_absolute_error: 12133.7031\n",
            "Epoch 10/150\n",
            "105/105 [==============================] - 1s 5ms/step - loss: 11462.4785 - mean_absolute_error: 11462.4785 - val_loss: 10185.3213 - val_mean_absolute_error: 10185.3213\n",
            "Epoch 11/150\n",
            "105/105 [==============================] - 1s 5ms/step - loss: 9441.8213 - mean_absolute_error: 9441.8213 - val_loss: 8318.9307 - val_mean_absolute_error: 8318.9307\n",
            "Epoch 12/150\n",
            "105/105 [==============================] - 1s 5ms/step - loss: 8446.2344 - mean_absolute_error: 8446.2344 - val_loss: 6977.2061 - val_mean_absolute_error: 6977.2061\n",
            "Epoch 13/150\n",
            "105/105 [==============================] - 1s 5ms/step - loss: 7501.2754 - mean_absolute_error: 7501.2754 - val_loss: 6263.7051 - val_mean_absolute_error: 6263.7051\n",
            "Epoch 14/150\n",
            "105/105 [==============================] - 0s 4ms/step - loss: 7217.6055 - mean_absolute_error: 7217.6055 - val_loss: 5837.7783 - val_mean_absolute_error: 5837.7783\n",
            "Epoch 15/150\n",
            "105/105 [==============================] - 1s 5ms/step - loss: 6456.5605 - mean_absolute_error: 6456.5605 - val_loss: 5574.8472 - val_mean_absolute_error: 5574.8472\n",
            "Epoch 16/150\n",
            "105/105 [==============================] - 1s 5ms/step - loss: 6517.1187 - mean_absolute_error: 6517.1187 - val_loss: 5431.5864 - val_mean_absolute_error: 5431.5864\n",
            "Epoch 17/150\n",
            "105/105 [==============================] - 1s 5ms/step - loss: 6353.0767 - mean_absolute_error: 6353.0767 - val_loss: 5232.1538 - val_mean_absolute_error: 5232.1538\n",
            "Epoch 18/150\n",
            "105/105 [==============================] - 0s 4ms/step - loss: 6400.0493 - mean_absolute_error: 6400.0493 - val_loss: 5010.7788 - val_mean_absolute_error: 5010.7788\n",
            "Epoch 19/150\n",
            "105/105 [==============================] - 1s 5ms/step - loss: 6187.6885 - mean_absolute_error: 6187.6885 - val_loss: 4939.2861 - val_mean_absolute_error: 4939.2861\n",
            "Epoch 20/150\n",
            "105/105 [==============================] - 1s 5ms/step - loss: 6335.3706 - mean_absolute_error: 6335.3706 - val_loss: 4813.9897 - val_mean_absolute_error: 4813.9897\n",
            "Epoch 21/150\n",
            "105/105 [==============================] - 1s 5ms/step - loss: 6040.4229 - mean_absolute_error: 6040.4229 - val_loss: 4694.2114 - val_mean_absolute_error: 4694.2114\n",
            "Epoch 22/150\n",
            "105/105 [==============================] - 0s 4ms/step - loss: 5964.2070 - mean_absolute_error: 5964.2070 - val_loss: 4604.3184 - val_mean_absolute_error: 4604.3184\n",
            "Epoch 23/150\n",
            "105/105 [==============================] - 1s 5ms/step - loss: 5904.4658 - mean_absolute_error: 5904.4658 - val_loss: 4694.4521 - val_mean_absolute_error: 4694.4521\n",
            "Epoch 24/150\n",
            "105/105 [==============================] - 0s 4ms/step - loss: 5833.5112 - mean_absolute_error: 5833.5112 - val_loss: 4653.6689 - val_mean_absolute_error: 4653.6689\n",
            "Epoch 25/150\n",
            "105/105 [==============================] - 1s 5ms/step - loss: 5832.3198 - mean_absolute_error: 5832.3198 - val_loss: 4395.9512 - val_mean_absolute_error: 4395.9512\n",
            "Epoch 26/150\n",
            "105/105 [==============================] - 0s 4ms/step - loss: 5834.6489 - mean_absolute_error: 5834.6489 - val_loss: 4960.5024 - val_mean_absolute_error: 4960.5024\n",
            "Epoch 27/150\n",
            "105/105 [==============================] - 1s 5ms/step - loss: 5898.2378 - mean_absolute_error: 5898.2378 - val_loss: 4331.1787 - val_mean_absolute_error: 4331.1787\n",
            "Epoch 28/150\n",
            "105/105 [==============================] - 1s 5ms/step - loss: 5743.1738 - mean_absolute_error: 5743.1738 - val_loss: 4288.4526 - val_mean_absolute_error: 4288.4526\n",
            "Epoch 29/150\n",
            "105/105 [==============================] - 0s 4ms/step - loss: 5603.3809 - mean_absolute_error: 5603.3809 - val_loss: 4319.6147 - val_mean_absolute_error: 4319.6147\n",
            "Epoch 30/150\n",
            "105/105 [==============================] - 0s 4ms/step - loss: 5708.6064 - mean_absolute_error: 5708.6064 - val_loss: 4127.7266 - val_mean_absolute_error: 4127.7266\n",
            "Epoch 31/150\n",
            "105/105 [==============================] - 1s 5ms/step - loss: 5817.1553 - mean_absolute_error: 5817.1553 - val_loss: 4137.7393 - val_mean_absolute_error: 4137.7393\n",
            "Epoch 32/150\n",
            "105/105 [==============================] - 1s 5ms/step - loss: 5518.2368 - mean_absolute_error: 5518.2368 - val_loss: 4282.8770 - val_mean_absolute_error: 4282.8770\n",
            "Epoch 33/150\n",
            "105/105 [==============================] - 1s 5ms/step - loss: 5709.4043 - mean_absolute_error: 5709.4043 - val_loss: 4003.5410 - val_mean_absolute_error: 4003.5410\n",
            "Epoch 34/150\n",
            "105/105 [==============================] - 1s 5ms/step - loss: 5620.9268 - mean_absolute_error: 5620.9268 - val_loss: 4106.2622 - val_mean_absolute_error: 4106.2622\n",
            "Epoch 35/150\n",
            "105/105 [==============================] - 0s 5ms/step - loss: 5630.9844 - mean_absolute_error: 5630.9844 - val_loss: 4084.5942 - val_mean_absolute_error: 4084.5942\n",
            "Epoch 36/150\n",
            "105/105 [==============================] - 1s 5ms/step - loss: 5538.6240 - mean_absolute_error: 5538.6240 - val_loss: 3940.4460 - val_mean_absolute_error: 3940.4460\n",
            "Epoch 37/150\n",
            "105/105 [==============================] - 1s 5ms/step - loss: 5579.2056 - mean_absolute_error: 5579.2056 - val_loss: 3899.6042 - val_mean_absolute_error: 3899.6042\n",
            "Epoch 38/150\n",
            "105/105 [==============================] - 0s 5ms/step - loss: 5478.9453 - mean_absolute_error: 5478.9453 - val_loss: 4252.1895 - val_mean_absolute_error: 4252.1895\n",
            "Epoch 39/150\n",
            "105/105 [==============================] - 1s 5ms/step - loss: 5445.0742 - mean_absolute_error: 5445.0742 - val_loss: 3934.1460 - val_mean_absolute_error: 3934.1460\n",
            "Epoch 40/150\n",
            "105/105 [==============================] - 1s 5ms/step - loss: 5483.1357 - mean_absolute_error: 5483.1357 - val_loss: 3851.4187 - val_mean_absolute_error: 3851.4187\n",
            "Epoch 41/150\n",
            "105/105 [==============================] - 0s 4ms/step - loss: 5363.5630 - mean_absolute_error: 5363.5630 - val_loss: 3862.8438 - val_mean_absolute_error: 3862.8438\n",
            "Epoch 42/150\n",
            "105/105 [==============================] - 1s 5ms/step - loss: 5450.2061 - mean_absolute_error: 5450.2061 - val_loss: 3857.6553 - val_mean_absolute_error: 3857.6553\n",
            "Epoch 43/150\n",
            "105/105 [==============================] - 1s 5ms/step - loss: 5362.7637 - mean_absolute_error: 5362.7637 - val_loss: 4193.6221 - val_mean_absolute_error: 4193.6221\n",
            "Epoch 44/150\n",
            "105/105 [==============================] - 1s 5ms/step - loss: 5372.6650 - mean_absolute_error: 5372.6650 - val_loss: 3732.7400 - val_mean_absolute_error: 3732.7400\n",
            "Epoch 45/150\n",
            "105/105 [==============================] - 0s 5ms/step - loss: 5564.3052 - mean_absolute_error: 5564.3052 - val_loss: 4363.5771 - val_mean_absolute_error: 4363.5771\n",
            "Epoch 46/150\n",
            "105/105 [==============================] - 0s 5ms/step - loss: 5413.1094 - mean_absolute_error: 5413.1094 - val_loss: 3865.2063 - val_mean_absolute_error: 3865.2063\n",
            "Epoch 47/150\n",
            "105/105 [==============================] - 1s 6ms/step - loss: 5366.4233 - mean_absolute_error: 5366.4233 - val_loss: 3761.8965 - val_mean_absolute_error: 3761.8965\n",
            "Epoch 48/150\n",
            "105/105 [==============================] - 1s 5ms/step - loss: 5411.7021 - mean_absolute_error: 5411.7021 - val_loss: 3682.1230 - val_mean_absolute_error: 3682.1230\n",
            "Epoch 49/150\n",
            "105/105 [==============================] - 1s 5ms/step - loss: 5408.9790 - mean_absolute_error: 5408.9790 - val_loss: 3663.6624 - val_mean_absolute_error: 3663.6624\n",
            "Epoch 50/150\n",
            "105/105 [==============================] - 0s 5ms/step - loss: 5364.8481 - mean_absolute_error: 5364.8481 - val_loss: 3852.7236 - val_mean_absolute_error: 3852.7236\n",
            "Epoch 51/150\n",
            "105/105 [==============================] - 1s 5ms/step - loss: 5354.7100 - mean_absolute_error: 5354.7100 - val_loss: 3725.2290 - val_mean_absolute_error: 3725.2290\n",
            "Epoch 52/150\n",
            "105/105 [==============================] - 1s 5ms/step - loss: 5367.1978 - mean_absolute_error: 5367.1978 - val_loss: 3838.2246 - val_mean_absolute_error: 3838.2246\n",
            "Epoch 53/150\n",
            "105/105 [==============================] - 1s 5ms/step - loss: 5400.1426 - mean_absolute_error: 5400.1426 - val_loss: 3669.4255 - val_mean_absolute_error: 3669.4255\n",
            "Epoch 54/150\n",
            "105/105 [==============================] - 0s 5ms/step - loss: 5407.6177 - mean_absolute_error: 5407.6177 - val_loss: 4020.5952 - val_mean_absolute_error: 4020.5952\n",
            "Epoch 55/150\n",
            "105/105 [==============================] - 0s 5ms/step - loss: 5283.1216 - mean_absolute_error: 5283.1216 - val_loss: 3813.9023 - val_mean_absolute_error: 3813.9023\n",
            "Epoch 56/150\n",
            "105/105 [==============================] - 1s 5ms/step - loss: 5539.8853 - mean_absolute_error: 5539.8853 - val_loss: 3666.6130 - val_mean_absolute_error: 3666.6130\n",
            "Epoch 57/150\n",
            "105/105 [==============================] - 0s 4ms/step - loss: 5162.1040 - mean_absolute_error: 5162.1040 - val_loss: 3601.9551 - val_mean_absolute_error: 3601.9551\n",
            "Epoch 58/150\n",
            "105/105 [==============================] - 0s 4ms/step - loss: 5397.8950 - mean_absolute_error: 5397.8950 - val_loss: 3626.4871 - val_mean_absolute_error: 3626.4871\n",
            "Epoch 59/150\n",
            "105/105 [==============================] - 0s 4ms/step - loss: 5319.8384 - mean_absolute_error: 5319.8384 - val_loss: 3587.8521 - val_mean_absolute_error: 3587.8521\n",
            "Epoch 60/150\n",
            "105/105 [==============================] - 1s 5ms/step - loss: 5470.4429 - mean_absolute_error: 5470.4429 - val_loss: 3686.0186 - val_mean_absolute_error: 3686.0186\n",
            "Epoch 61/150\n",
            "105/105 [==============================] - 0s 5ms/step - loss: 5302.4268 - mean_absolute_error: 5302.4268 - val_loss: 3635.9500 - val_mean_absolute_error: 3635.9500\n",
            "Epoch 62/150\n",
            "105/105 [==============================] - 0s 4ms/step - loss: 5235.7017 - mean_absolute_error: 5235.7017 - val_loss: 3789.5591 - val_mean_absolute_error: 3789.5591\n",
            "Epoch 63/150\n",
            "105/105 [==============================] - 1s 5ms/step - loss: 5108.4365 - mean_absolute_error: 5108.4365 - val_loss: 3596.9702 - val_mean_absolute_error: 3596.9702\n",
            "Epoch 64/150\n",
            "105/105 [==============================] - 1s 5ms/step - loss: 5288.5728 - mean_absolute_error: 5288.5728 - val_loss: 4015.9963 - val_mean_absolute_error: 4015.9963\n",
            "Epoch 65/150\n",
            "105/105 [==============================] - 1s 6ms/step - loss: 5209.2544 - mean_absolute_error: 5209.2544 - val_loss: 3540.4741 - val_mean_absolute_error: 3540.4741\n",
            "Epoch 66/150\n",
            "105/105 [==============================] - 0s 4ms/step - loss: 5128.6870 - mean_absolute_error: 5128.6870 - val_loss: 3681.8105 - val_mean_absolute_error: 3681.8105\n",
            "Epoch 67/150\n",
            "105/105 [==============================] - 0s 5ms/step - loss: 5286.2759 - mean_absolute_error: 5286.2759 - val_loss: 3517.4128 - val_mean_absolute_error: 3517.4128\n",
            "Epoch 68/150\n",
            "105/105 [==============================] - 0s 4ms/step - loss: 5320.6987 - mean_absolute_error: 5320.6987 - val_loss: 3690.7434 - val_mean_absolute_error: 3690.7434\n",
            "Epoch 69/150\n",
            "105/105 [==============================] - 0s 5ms/step - loss: 5277.8853 - mean_absolute_error: 5277.8853 - val_loss: 3511.1409 - val_mean_absolute_error: 3511.1409\n",
            "Epoch 70/150\n",
            "105/105 [==============================] - 1s 5ms/step - loss: 5137.6724 - mean_absolute_error: 5137.6724 - val_loss: 3581.3870 - val_mean_absolute_error: 3581.3870\n",
            "Epoch 71/150\n",
            "105/105 [==============================] - 1s 5ms/step - loss: 5231.8140 - mean_absolute_error: 5231.8140 - val_loss: 3813.7061 - val_mean_absolute_error: 3813.7061\n",
            "Epoch 72/150\n",
            "105/105 [==============================] - 1s 5ms/step - loss: 5193.5977 - mean_absolute_error: 5193.5977 - val_loss: 3815.2195 - val_mean_absolute_error: 3815.2195\n",
            "Epoch 73/150\n",
            "105/105 [==============================] - 1s 5ms/step - loss: 5123.3281 - mean_absolute_error: 5123.3281 - val_loss: 3436.1931 - val_mean_absolute_error: 3436.1931\n",
            "Epoch 74/150\n",
            "105/105 [==============================] - 1s 5ms/step - loss: 5141.3374 - mean_absolute_error: 5141.3374 - val_loss: 3812.5703 - val_mean_absolute_error: 3812.5703\n",
            "Epoch 75/150\n",
            "105/105 [==============================] - 1s 5ms/step - loss: 5203.4565 - mean_absolute_error: 5203.4565 - val_loss: 3622.6619 - val_mean_absolute_error: 3622.6619\n",
            "Epoch 76/150\n",
            "105/105 [==============================] - 1s 5ms/step - loss: 5184.1426 - mean_absolute_error: 5184.1426 - val_loss: 3568.4863 - val_mean_absolute_error: 3568.4863\n",
            "Epoch 77/150\n",
            "105/105 [==============================] - 0s 4ms/step - loss: 5188.0571 - mean_absolute_error: 5188.0571 - val_loss: 3480.5061 - val_mean_absolute_error: 3480.5061\n",
            "Epoch 78/150\n",
            "105/105 [==============================] - 0s 4ms/step - loss: 5146.0073 - mean_absolute_error: 5146.0073 - val_loss: 3586.6052 - val_mean_absolute_error: 3586.6052\n",
            "Epoch 79/150\n",
            "105/105 [==============================] - 0s 4ms/step - loss: 5181.3208 - mean_absolute_error: 5181.3208 - val_loss: 3821.7322 - val_mean_absolute_error: 3821.7322\n",
            "Epoch 80/150\n",
            "105/105 [==============================] - 1s 5ms/step - loss: 5176.8423 - mean_absolute_error: 5176.8423 - val_loss: 3504.6912 - val_mean_absolute_error: 3504.6912\n",
            "Epoch 81/150\n",
            "105/105 [==============================] - 0s 4ms/step - loss: 5165.4375 - mean_absolute_error: 5165.4375 - val_loss: 3434.5083 - val_mean_absolute_error: 3434.5083\n",
            "Epoch 82/150\n",
            "105/105 [==============================] - 0s 4ms/step - loss: 5049.8467 - mean_absolute_error: 5049.8467 - val_loss: 3599.5681 - val_mean_absolute_error: 3599.5681\n",
            "Epoch 83/150\n",
            "105/105 [==============================] - 1s 5ms/step - loss: 5201.2139 - mean_absolute_error: 5201.2139 - val_loss: 3365.6353 - val_mean_absolute_error: 3365.6353\n",
            "Epoch 84/150\n",
            "105/105 [==============================] - 0s 5ms/step - loss: 5265.1187 - mean_absolute_error: 5265.1187 - val_loss: 3362.0010 - val_mean_absolute_error: 3362.0010\n",
            "Epoch 85/150\n",
            "105/105 [==============================] - 1s 5ms/step - loss: 5120.2944 - mean_absolute_error: 5120.2944 - val_loss: 3317.5276 - val_mean_absolute_error: 3317.5276\n",
            "Epoch 86/150\n",
            "105/105 [==============================] - 0s 4ms/step - loss: 5023.2456 - mean_absolute_error: 5023.2456 - val_loss: 3385.1562 - val_mean_absolute_error: 3385.1562\n",
            "Epoch 87/150\n",
            "105/105 [==============================] - 0s 4ms/step - loss: 5313.4131 - mean_absolute_error: 5313.4131 - val_loss: 3410.7988 - val_mean_absolute_error: 3410.7988\n",
            "Epoch 88/150\n",
            "105/105 [==============================] - 1s 5ms/step - loss: 5178.2148 - mean_absolute_error: 5178.2148 - val_loss: 3356.6365 - val_mean_absolute_error: 3356.6365\n",
            "Epoch 89/150\n",
            "105/105 [==============================] - 1s 5ms/step - loss: 5040.9473 - mean_absolute_error: 5040.9473 - val_loss: 3446.6482 - val_mean_absolute_error: 3446.6482\n",
            "Epoch 90/150\n",
            "105/105 [==============================] - 1s 5ms/step - loss: 5099.7007 - mean_absolute_error: 5099.7007 - val_loss: 3659.9888 - val_mean_absolute_error: 3659.9888\n",
            "Epoch 91/150\n",
            "105/105 [==============================] - 1s 5ms/step - loss: 5235.2339 - mean_absolute_error: 5235.2339 - val_loss: 3507.2876 - val_mean_absolute_error: 3507.2876\n",
            "Epoch 92/150\n",
            "105/105 [==============================] - 1s 5ms/step - loss: 5117.6426 - mean_absolute_error: 5117.6426 - val_loss: 3653.5288 - val_mean_absolute_error: 3653.5288\n",
            "Epoch 93/150\n",
            "105/105 [==============================] - 1s 5ms/step - loss: 4954.0557 - mean_absolute_error: 4954.0557 - val_loss: 3346.1687 - val_mean_absolute_error: 3346.1687\n",
            "Epoch 94/150\n",
            "105/105 [==============================] - 1s 5ms/step - loss: 5123.5771 - mean_absolute_error: 5123.5771 - val_loss: 3437.4473 - val_mean_absolute_error: 3437.4473\n",
            "Epoch 95/150\n",
            "105/105 [==============================] - 0s 5ms/step - loss: 5115.7593 - mean_absolute_error: 5115.7593 - val_loss: 3464.8240 - val_mean_absolute_error: 3464.8240\n",
            "Epoch 96/150\n",
            "105/105 [==============================] - 0s 5ms/step - loss: 5116.9980 - mean_absolute_error: 5116.9980 - val_loss: 4270.2876 - val_mean_absolute_error: 4270.2876\n",
            "Epoch 97/150\n",
            "105/105 [==============================] - 1s 5ms/step - loss: 5013.4819 - mean_absolute_error: 5013.4819 - val_loss: 3596.3545 - val_mean_absolute_error: 3596.3545\n",
            "Epoch 98/150\n",
            "105/105 [==============================] - 1s 5ms/step - loss: 4975.8896 - mean_absolute_error: 4975.8896 - val_loss: 3297.6533 - val_mean_absolute_error: 3297.6533\n",
            "Epoch 99/150\n",
            "105/105 [==============================] - 1s 5ms/step - loss: 5076.2095 - mean_absolute_error: 5076.2095 - val_loss: 3347.3057 - val_mean_absolute_error: 3347.3057\n",
            "Epoch 100/150\n",
            "105/105 [==============================] - 1s 5ms/step - loss: 5082.6978 - mean_absolute_error: 5082.6978 - val_loss: 3460.0608 - val_mean_absolute_error: 3460.0608\n",
            "Epoch 101/150\n",
            "105/105 [==============================] - 0s 4ms/step - loss: 5245.8569 - mean_absolute_error: 5245.8569 - val_loss: 3445.9138 - val_mean_absolute_error: 3445.9138\n",
            "Epoch 102/150\n",
            "105/105 [==============================] - 0s 4ms/step - loss: 5145.5220 - mean_absolute_error: 5145.5220 - val_loss: 3280.8691 - val_mean_absolute_error: 3280.8691\n",
            "Epoch 103/150\n",
            "105/105 [==============================] - 0s 4ms/step - loss: 4956.5986 - mean_absolute_error: 4956.5986 - val_loss: 3371.8025 - val_mean_absolute_error: 3371.8025\n",
            "Epoch 104/150\n",
            "105/105 [==============================] - 1s 5ms/step - loss: 5040.9146 - mean_absolute_error: 5040.9146 - val_loss: 3297.8806 - val_mean_absolute_error: 3297.8806\n",
            "Epoch 105/150\n",
            "105/105 [==============================] - 1s 5ms/step - loss: 4953.3403 - mean_absolute_error: 4953.3403 - val_loss: 3283.2961 - val_mean_absolute_error: 3283.2961\n",
            "Epoch 106/150\n",
            "105/105 [==============================] - 0s 4ms/step - loss: 5135.6001 - mean_absolute_error: 5135.6001 - val_loss: 3299.4182 - val_mean_absolute_error: 3299.4182\n",
            "Epoch 107/150\n",
            "105/105 [==============================] - 0s 4ms/step - loss: 5085.6934 - mean_absolute_error: 5085.6934 - val_loss: 3308.3994 - val_mean_absolute_error: 3308.3994\n",
            "Epoch 108/150\n",
            "105/105 [==============================] - 0s 5ms/step - loss: 4931.9854 - mean_absolute_error: 4931.9854 - val_loss: 3225.6755 - val_mean_absolute_error: 3225.6755\n",
            "Epoch 109/150\n",
            "105/105 [==============================] - 1s 5ms/step - loss: 5067.9268 - mean_absolute_error: 5067.9268 - val_loss: 3513.0398 - val_mean_absolute_error: 3513.0398\n",
            "Epoch 110/150\n",
            "105/105 [==============================] - 1s 6ms/step - loss: 4931.8208 - mean_absolute_error: 4931.8208 - val_loss: 3357.5374 - val_mean_absolute_error: 3357.5374\n",
            "Epoch 111/150\n",
            "105/105 [==============================] - 0s 5ms/step - loss: 5106.6685 - mean_absolute_error: 5106.6685 - val_loss: 3509.3936 - val_mean_absolute_error: 3509.3936\n",
            "Epoch 112/150\n",
            "105/105 [==============================] - 0s 4ms/step - loss: 4998.0566 - mean_absolute_error: 4998.0566 - val_loss: 3255.4841 - val_mean_absolute_error: 3255.4841\n",
            "Epoch 113/150\n",
            "105/105 [==============================] - 1s 5ms/step - loss: 4912.7329 - mean_absolute_error: 4912.7329 - val_loss: 3453.4954 - val_mean_absolute_error: 3453.4954\n",
            "Epoch 114/150\n",
            "105/105 [==============================] - 1s 5ms/step - loss: 4979.7183 - mean_absolute_error: 4979.7183 - val_loss: 3300.3848 - val_mean_absolute_error: 3300.3848\n",
            "Epoch 115/150\n",
            "105/105 [==============================] - 0s 4ms/step - loss: 5046.6685 - mean_absolute_error: 5046.6685 - val_loss: 3509.7671 - val_mean_absolute_error: 3509.7671\n",
            "Epoch 116/150\n",
            "105/105 [==============================] - 0s 4ms/step - loss: 5070.7612 - mean_absolute_error: 5070.7612 - val_loss: 3404.8892 - val_mean_absolute_error: 3404.8892\n",
            "Epoch 117/150\n",
            "105/105 [==============================] - 0s 4ms/step - loss: 5165.8159 - mean_absolute_error: 5165.8159 - val_loss: 3224.7261 - val_mean_absolute_error: 3224.7261\n",
            "Epoch 118/150\n",
            "105/105 [==============================] - 1s 5ms/step - loss: 4938.4233 - mean_absolute_error: 4938.4233 - val_loss: 3273.8025 - val_mean_absolute_error: 3273.8025\n",
            "Epoch 119/150\n",
            "105/105 [==============================] - 1s 5ms/step - loss: 4936.7930 - mean_absolute_error: 4936.7930 - val_loss: 3470.7974 - val_mean_absolute_error: 3470.7974\n",
            "Epoch 120/150\n",
            "105/105 [==============================] - 1s 5ms/step - loss: 5123.7915 - mean_absolute_error: 5123.7915 - val_loss: 3310.9468 - val_mean_absolute_error: 3310.9468\n",
            "Epoch 121/150\n",
            "105/105 [==============================] - 0s 4ms/step - loss: 5110.5532 - mean_absolute_error: 5110.5532 - val_loss: 3310.5178 - val_mean_absolute_error: 3310.5178\n",
            "Epoch 122/150\n",
            "105/105 [==============================] - 1s 5ms/step - loss: 5082.8120 - mean_absolute_error: 5082.8120 - val_loss: 3187.1516 - val_mean_absolute_error: 3187.1516\n",
            "Epoch 123/150\n",
            "105/105 [==============================] - 0s 4ms/step - loss: 5013.1694 - mean_absolute_error: 5013.1694 - val_loss: 4058.6997 - val_mean_absolute_error: 4058.6997\n",
            "Epoch 124/150\n",
            "105/105 [==============================] - 1s 5ms/step - loss: 4985.4424 - mean_absolute_error: 4985.4424 - val_loss: 3619.8438 - val_mean_absolute_error: 3619.8438\n",
            "Epoch 125/150\n",
            "105/105 [==============================] - 0s 5ms/step - loss: 4904.9268 - mean_absolute_error: 4904.9268 - val_loss: 3186.6804 - val_mean_absolute_error: 3186.6804\n",
            "Epoch 126/150\n",
            "105/105 [==============================] - 0s 4ms/step - loss: 4931.4487 - mean_absolute_error: 4931.4487 - val_loss: 3311.1255 - val_mean_absolute_error: 3311.1255\n",
            "Epoch 127/150\n",
            "105/105 [==============================] - 0s 4ms/step - loss: 4892.7466 - mean_absolute_error: 4892.7466 - val_loss: 3344.9609 - val_mean_absolute_error: 3344.9609\n",
            "Epoch 128/150\n",
            "105/105 [==============================] - 0s 4ms/step - loss: 5045.7759 - mean_absolute_error: 5045.7759 - val_loss: 3540.1758 - val_mean_absolute_error: 3540.1758\n",
            "Epoch 129/150\n",
            "105/105 [==============================] - 0s 5ms/step - loss: 5023.2681 - mean_absolute_error: 5023.2681 - val_loss: 3501.9607 - val_mean_absolute_error: 3501.9607\n",
            "Epoch 130/150\n",
            "105/105 [==============================] - 0s 4ms/step - loss: 5033.7109 - mean_absolute_error: 5033.7109 - val_loss: 3472.4714 - val_mean_absolute_error: 3472.4714\n",
            "Epoch 131/150\n",
            "105/105 [==============================] - 0s 5ms/step - loss: 4991.2310 - mean_absolute_error: 4991.2310 - val_loss: 3310.6731 - val_mean_absolute_error: 3310.6731\n",
            "Epoch 132/150\n",
            "105/105 [==============================] - 1s 5ms/step - loss: 4919.3535 - mean_absolute_error: 4919.3535 - val_loss: 3554.1472 - val_mean_absolute_error: 3554.1472\n",
            "Epoch 133/150\n",
            "105/105 [==============================] - 0s 5ms/step - loss: 4926.5039 - mean_absolute_error: 4926.5039 - val_loss: 3181.3701 - val_mean_absolute_error: 3181.3701\n",
            "Epoch 134/150\n",
            "105/105 [==============================] - 0s 4ms/step - loss: 5082.2974 - mean_absolute_error: 5082.2974 - val_loss: 3379.8127 - val_mean_absolute_error: 3379.8127\n",
            "Epoch 135/150\n",
            "105/105 [==============================] - 0s 4ms/step - loss: 4995.3247 - mean_absolute_error: 4995.3247 - val_loss: 3550.4163 - val_mean_absolute_error: 3550.4163\n",
            "Epoch 136/150\n",
            "105/105 [==============================] - 1s 5ms/step - loss: 5013.1797 - mean_absolute_error: 5013.1797 - val_loss: 3215.6912 - val_mean_absolute_error: 3215.6912\n",
            "Epoch 137/150\n",
            "105/105 [==============================] - 1s 5ms/step - loss: 5135.6143 - mean_absolute_error: 5135.6143 - val_loss: 3395.8853 - val_mean_absolute_error: 3395.8853\n",
            "Epoch 138/150\n",
            "105/105 [==============================] - 0s 4ms/step - loss: 5040.8721 - mean_absolute_error: 5040.8721 - val_loss: 3150.7378 - val_mean_absolute_error: 3150.7378\n",
            "Epoch 139/150\n",
            "105/105 [==============================] - 0s 4ms/step - loss: 4910.4482 - mean_absolute_error: 4910.4482 - val_loss: 3364.1311 - val_mean_absolute_error: 3364.1311\n",
            "Epoch 140/150\n",
            "105/105 [==============================] - 1s 5ms/step - loss: 4980.5386 - mean_absolute_error: 4980.5386 - val_loss: 3160.4524 - val_mean_absolute_error: 3160.4524\n",
            "Epoch 141/150\n",
            "105/105 [==============================] - 1s 8ms/step - loss: 4976.7861 - mean_absolute_error: 4976.7861 - val_loss: 3313.8281 - val_mean_absolute_error: 3313.8281\n",
            "Epoch 142/150\n",
            "105/105 [==============================] - 1s 10ms/step - loss: 5143.4902 - mean_absolute_error: 5143.4902 - val_loss: 3294.4902 - val_mean_absolute_error: 3294.4902\n",
            "Epoch 143/150\n",
            "105/105 [==============================] - 1s 10ms/step - loss: 4886.7681 - mean_absolute_error: 4886.7681 - val_loss: 3210.1787 - val_mean_absolute_error: 3210.1787\n",
            "Epoch 144/150\n",
            "105/105 [==============================] - 1s 9ms/step - loss: 4974.2236 - mean_absolute_error: 4974.2236 - val_loss: 3488.2288 - val_mean_absolute_error: 3488.2288\n",
            "Epoch 145/150\n",
            "105/105 [==============================] - 1s 9ms/step - loss: 5017.2607 - mean_absolute_error: 5017.2607 - val_loss: 3168.0293 - val_mean_absolute_error: 3168.0293\n",
            "Epoch 146/150\n",
            "105/105 [==============================] - 1s 9ms/step - loss: 5089.8628 - mean_absolute_error: 5089.8628 - val_loss: 3637.2212 - val_mean_absolute_error: 3637.2212\n",
            "Epoch 147/150\n",
            "105/105 [==============================] - 1s 8ms/step - loss: 4985.4214 - mean_absolute_error: 4985.4214 - val_loss: 3175.2422 - val_mean_absolute_error: 3175.2422\n",
            "Epoch 148/150\n",
            "105/105 [==============================] - 1s 8ms/step - loss: 5024.3237 - mean_absolute_error: 5024.3237 - val_loss: 3208.4224 - val_mean_absolute_error: 3208.4224\n",
            "Epoch 149/150\n",
            "105/105 [==============================] - 1s 8ms/step - loss: 5005.2031 - mean_absolute_error: 5005.2031 - val_loss: 3776.2329 - val_mean_absolute_error: 3776.2329\n",
            "Epoch 150/150\n",
            "105/105 [==============================] - 1s 10ms/step - loss: 4947.9399 - mean_absolute_error: 4947.9399 - val_loss: 3189.5300 - val_mean_absolute_error: 3189.5300\n"
          ]
        }
      ]
    },
    {
      "cell_type": "code",
      "source": [
        "plt.plot(history.history['mean_absolute_error'], label = \"train\")\n",
        "plt.plot(history.history['val_mean_absolute_error'], label = \"test\")\n",
        "\n",
        "\n",
        "plt.legend()\n",
        "plt.show()"
      ],
      "metadata": {
        "colab": {
          "base_uri": "https://localhost:8080/",
          "height": 265
        },
        "id": "8ophUQ8iaRHB",
        "outputId": "40c66191-78f4-4a74-c7e5-ac9456be0534"
      },
      "execution_count": 134,
      "outputs": [
        {
          "output_type": "display_data",
          "data": {
            "text/plain": [
              "<Figure size 432x288 with 1 Axes>"
            ],
            "image/png": "[encoded data removed]"
          },
          "metadata": {
            "needs_background": "light"
          }
        }
      ]
    },
    {
      "cell_type": "code",
      "source": [
        "neural_net_regression_metrics = {\n",
        "  \"model\": \"NeuralNet\",\n",
        "  \"r2\": metrics.r2_score(y_test, neural_net.predict(X_test)),\n",
        "  \"explained_variance_score\": metrics.explained_variance_score(y_test, neural_net.predict(X_test)),\n",
        "  \"median_absolute_error\": metrics.median_absolute_error(y_test, neural_net.predict(X_test)),\n",
        "  \"mean_squared_error\": metrics.mean_squared_error(y_test, neural_net.predict(X_test)),\n",
        "  \"mean_absolute_error\": metrics.mean_absolute_error(y_test, neural_net.predict(X_test))\n",
        "}\n",
        "print(neural_net_regression_metrics)"
      ],
      "metadata": {
        "colab": {
          "base_uri": "https://localhost:8080/"
        },
        "id": "c6Qpkv9FScnb",
        "outputId": "0942bd29-7127-4673-8ee3-9a8c5340ca11"
      },
      "execution_count": 112,
      "outputs": [
        {
          "output_type": "stream",
          "name": "stdout",
          "text": [
            "{'model': 'NeuralNet', 'r2': 0.9451438637702384, 'explained_variance_score': 0.9473213669873712, 'median_absolute_error': 1476.568359375, 'mean_squared_error': 28884796.793042213, 'mean_absolute_error': 3189.5306321762546}\n"
          ]
        }
      ]
    },
    {
      "cell_type": "code",
      "source": [
        "model_metrics = pd.DataFrame(data=[linear_regression_metrics, lasso_regression_metrics, ridge_regression_metrics, elastic_net_regression_metrics, random_forest_regression_metrics, neural_net_regression_metrics])"
      ],
      "metadata": {
        "id": "OWHcR1inXRQK"
      },
      "execution_count": 154,
      "outputs": []
    },
    {
      "cell_type": "code",
      "source": [
        "model_metrics"
      ],
      "metadata": {
        "colab": {
          "base_uri": "https://localhost:8080/",
          "height": 238
        },
        "id": "-Ns--m_PXvrm",
        "outputId": "3baf87eb-3294-43e3-c440-d5fa54f5526e"
      },
      "execution_count": 155,
      "outputs": [
        {
          "output_type": "execute_result",
          "data": {
            "text/plain": [
              "                   model        r2  explained_variance_score  \\\n",
              "0       LinearRegression  0.916038                  0.916042   \n",
              "1                  Lasso  0.950854                  0.950857   \n",
              "2                  Ridge  0.950942                  0.950944   \n",
              "3             ElasticNet  0.950159                  0.950160   \n",
              "4  RandomForestRegressor  0.961902                  0.961971   \n",
              "5              NeuralNet  0.945144                  0.947321   \n",
              "\n",
              "   median_absolute_error  mean_squared_error  mean_absolute_error  \n",
              "0            3085.459844        4.421053e+07          4472.865542  \n",
              "1            1968.092134        2.587793e+07          3288.615895  \n",
              "2            2074.981356        2.583193e+07          3340.411324  \n",
              "3            2081.761551        2.624425e+07          3376.771618  \n",
              "4            1106.025000        2.006064e+07          2539.973568  \n",
              "5            1476.568359        2.888480e+07          3189.530632  "
            ],
            "text/html": [
              "\n",
              "  <div id=\"df-15edff16-b511-4301-9775-85095c808dd1\">\n",
              "    <div class=\"colab-df-container\">\n",
              "      <div>\n",
              "<style scoped>\n",
              "    .dataframe tbody tr th:only-of-type {\n",
              "        vertical-align: middle;\n",
              "    }\n",
              "\n",
              "    .dataframe tbody tr th {\n",
              "        vertical-align: top;\n",
              "    }\n",
              "\n",
              "    .dataframe thead th {\n",
              "        text-align: right;\n",
              "    }\n",
              "</style>\n",
              "<table border=\"1\" class=\"dataframe\">\n",
              "  <thead>\n",
              "    <tr style=\"text-align: right;\">\n",
              "      <th></th>\n",
              "      <th>model</th>\n",
              "      <th>r2</th>\n",
              "      <th>explained_variance_score</th>\n",
              "      <th>median_absolute_error</th>\n",
              "      <th>mean_squared_error</th>\n",
              "      <th>mean_absolute_error</th>\n",
              "    </tr>\n",
              "  </thead>\n",
              "  <tbody>\n",
              "    <tr>\n",
              "      <th>0</th>\n",
              "      <td>LinearRegression</td>\n",
              "      <td>0.916038</td>\n",
              "      <td>0.916042</td>\n",
              "      <td>3085.459844</td>\n",
              "      <td>4.421053e+07</td>\n",
              "      <td>4472.865542</td>\n",
              "    </tr>\n",
              "    <tr>\n",
              "      <th>1</th>\n",
              "      <td>Lasso</td>\n",
              "      <td>0.950854</td>\n",
              "      <td>0.950857</td>\n",
              "      <td>1968.092134</td>\n",
              "      <td>2.587793e+07</td>\n",
              "      <td>3288.615895</td>\n",
              "    </tr>\n",
              "    <tr>\n",
              "      <th>2</th>\n",
              "      <td>Ridge</td>\n",
              "      <td>0.950942</td>\n",
              "      <td>0.950944</td>\n",
              "      <td>2074.981356</td>\n",
              "      <td>2.583193e+07</td>\n",
              "      <td>3340.411324</td>\n",
              "    </tr>\n",
              "    <tr>\n",
              "      <th>3</th>\n",
              "      <td>ElasticNet</td>\n",
              "      <td>0.950159</td>\n",
              "      <td>0.950160</td>\n",
              "      <td>2081.761551</td>\n",
              "      <td>2.624425e+07</td>\n",
              "      <td>3376.771618</td>\n",
              "    </tr>\n",
              "    <tr>\n",
              "      <th>4</th>\n",
              "      <td>RandomForestRegressor</td>\n",
              "      <td>0.961902</td>\n",
              "      <td>0.961971</td>\n",
              "      <td>1106.025000</td>\n",
              "      <td>2.006064e+07</td>\n",
              "      <td>2539.973568</td>\n",
              "    </tr>\n",
              "    <tr>\n",
              "      <th>5</th>\n",
              "      <td>NeuralNet</td>\n",
              "      <td>0.945144</td>\n",
              "      <td>0.947321</td>\n",
              "      <td>1476.568359</td>\n",
              "      <td>2.888480e+07</td>\n",
              "      <td>3189.530632</td>\n",
              "    </tr>\n",
              "  </tbody>\n",
              "</table>\n",
              "</div>\n",
              "      <button class=\"colab-df-convert\" onclick=\"convertToInteractive('df-15edff16-b511-4301-9775-85095c808dd1')\"\n",
              "              title=\"Convert this dataframe to an interactive table.\"\n",
              "              style=\"display:none;\">\n",
              "        \n",
              "  <svg xmlns=\"http://www.w3.org/2000/svg\" height=\"24px\"viewBox=\"0 0 24 24\"\n",
              "       width=\"24px\">\n",
              "    <path d=\"M0 0h24v24H0V0z\" fill=\"none\"/>\n",
              "    <path d=\"M18.56 5.44l.94 2.06.94-2.06 2.06-.94-2.06-.94-.94-2.06-.94 2.06-2.06.94zm-11 1L8.5 8.5l.94-2.06 2.06-.94-2.06-.94L8.5 2.5l-.94 2.06-2.06.94zm10 10l.94 2.06.94-2.06 2.06-.94-2.06-.94-.94-2.06-.94 2.06-2.06.94z\"/><path d=\"M17.41 7.96l-1.37-1.37c-.4-.4-.92-.59-1.43-.59-.52 0-1.04.2-1.43.59L10.3 9.45l-7.72 7.72c-.78.78-.78 2.05 0 2.83L4 21.41c.39.39.9.59 1.41.59.51 0 1.02-.2 1.41-.59l7.78-7.78 2.81-2.81c.8-.78.8-2.07 0-2.86zM5.41 20L4 18.59l7.72-7.72 1.47 1.35L5.41 20z\"/>\n",
              "  </svg>\n",
              "      </button>\n",
              "      \n",
              "  <style>\n",
              "    .colab-df-container {\n",
              "      display:flex;\n",
              "      flex-wrap:wrap;\n",
              "      gap: 12px;\n",
              "    }\n",
              "\n",
              "    .colab-df-convert {\n",
              "      background-color: #E8F0FE;\n",
              "      border: none;\n",
              "      border-radius: 50%;\n",
              "      cursor: pointer;\n",
              "      display: none;\n",
              "      fill: #1967D2;\n",
              "      height: 32px;\n",
              "      padding: 0 0 0 0;\n",
              "      width: 32px;\n",
              "    }\n",
              "\n",
              "    .colab-df-convert:hover {\n",
              "      background-color: #E2EBFA;\n",
              "      box-shadow: 0px 1px 2px rgba(60, 64, 67, 0.3), 0px 1px 3px 1px rgba(60, 64, 67, 0.15);\n",
              "      fill: #174EA6;\n",
              "    }\n",
              "\n",
              "    [theme=dark] .colab-df-convert {\n",
              "      background-color: #3B4455;\n",
              "      fill: #D2E3FC;\n",
              "    }\n",
              "\n",
              "    [theme=dark] .colab-df-convert:hover {\n",
              "      background-color: #434B5C;\n",
              "      box-shadow: 0px 1px 3px 1px rgba(0, 0, 0, 0.15);\n",
              "      filter: drop-shadow(0px 1px 2px rgba(0, 0, 0, 0.3));\n",
              "      fill: #FFFFFF;\n",
              "    }\n",
              "  </style>\n",
              "\n",
              "      <script>\n",
              "        const buttonEl =\n",
              "          document.querySelector('#df-15edff16-b511-4301-9775-85095c808dd1 button.colab-df-convert');\n",
              "        buttonEl.style.display =\n",
              "          google.colab.kernel.accessAllowed ? 'block' : 'none';\n",
              "\n",
              "        async function convertToInteractive(key) {\n",
              "          const element = document.querySelector('#df-15edff16-b511-4301-9775-85095c808dd1');\n",
              "          const dataTable =\n",
              "            await google.colab.kernel.invokeFunction('convertToInteractive',\n",
              "                                                     [key], {});\n",
              "          if (!dataTable) return;\n",
              "\n",
              "          const docLinkHtml = 'Like what you see? Visit the ' +\n",
              "            '<a target=\"_blank\" href=https://colab.research.google.com/notebooks/data_table.ipynb>data table notebook</a>'\n",
              "            + ' to learn more about interactive tables.';\n",
              "          element.innerHTML = '';\n",
              "          dataTable['output_type'] = 'display_data';\n",
              "          await google.colab.output.renderOutput(dataTable, element);\n",
              "          const docLink = document.createElement('div');\n",
              "          docLink.innerHTML = docLinkHtml;\n",
              "          element.appendChild(docLink);\n",
              "        }\n",
              "      </script>\n",
              "    </div>\n",
              "  </div>\n",
              "  "
            ]
          },
          "metadata": {},
          "execution_count": 155
        }
      ]
    },
    {
      "cell_type": "code",
      "source": [
        "model_metrics.plot(kind=\"bar\", title=\"r2\", x=\"model\", y=\"r2\", figsize=(20, 10))"
      ],
      "metadata": {
        "colab": {
          "base_uri": "https://localhost:8080/",
          "height": 750
        },
        "id": "DtHUWiWQX4dh",
        "outputId": "a5750e43-5b1c-4b16-d065-48f68081eac7"
      },
      "execution_count": 156,
      "outputs": [
        {
          "output_type": "execute_result",
          "data": {
            "text/plain": [
              "<matplotlib.axes._subplots.AxesSubplot at 0x7fa970832a10>"
            ]
          },
          "metadata": {},
          "execution_count": 156
        },
        {
          "output_type": "display_data",
          "data": {
            "text/plain": [
              "<Figure size 1440x720 with 1 Axes>"
            ],
            "image/png": "[encoded data removed]"
          },
          "metadata": {
            "needs_background": "light"
          }
        }
      ]
    },
    {
      "cell_type": "code",
      "source": [
        "model_metrics.plot(kind=\"bar\", title=\"explained_variance_score\", x=\"model\", y=\"explained_variance_score\", figsize=(20, 10))"
      ],
      "metadata": {
        "colab": {
          "base_uri": "https://localhost:8080/",
          "height": 750
        },
        "id": "gKBfyeinZTHK",
        "outputId": "e45353eb-6be5-4bc2-dc00-0ecc5332ab0c"
      },
      "execution_count": 157,
      "outputs": [
        {
          "output_type": "execute_result",
          "data": {
            "text/plain": [
              "<matplotlib.axes._subplots.AxesSubplot at 0x7fa9dd260310>"
            ]
          },
          "metadata": {},
          "execution_count": 157
        },
        {
          "output_type": "display_data",
          "data": {
            "text/plain": [
              "<Figure size 1440x720 with 1 Axes>"
            ],
            "image/png": "[encoded data removed]"
          },
          "metadata": {
            "needs_background": "light"
          }
        }
      ]
    },
    {
      "cell_type": "code",
      "source": [
        "model_metrics.plot(kind=\"bar\", title=\"median_absolute_error\", x=\"model\", y=\"median_absolute_error\", figsize=(20, 10))"
      ],
      "metadata": {
        "colab": {
          "base_uri": "https://localhost:8080/",
          "height": 750
        },
        "id": "hcuR7392ZjSJ",
        "outputId": "3faea4cc-c331-4f6f-e080-158962fbcbe5"
      },
      "execution_count": 158,
      "outputs": [
        {
          "output_type": "execute_result",
          "data": {
            "text/plain": [
              "<matplotlib.axes._subplots.AxesSubplot at 0x7fa9650a8d10>"
            ]
          },
          "metadata": {},
          "execution_count": 158
        },
        {
          "output_type": "display_data",
          "data": {
            "text/plain": [
              "<Figure size 1440x720 with 1 Axes>"
            ],
            "image/png": "[encoded data removed]"
          },
          "metadata": {
            "needs_background": "light"
          }
        }
      ]
    },
    {
      "cell_type": "code",
      "source": [
        "model_metrics.plot(kind=\"bar\", title=\"mean_squared_error\", x=\"model\", y=\"mean_squared_error\", figsize=(20, 10))"
      ],
      "metadata": {
        "colab": {
          "base_uri": "https://localhost:8080/",
          "height": 750
        },
        "id": "gaK68JZtZtVo",
        "outputId": "49a0cb83-b0c0-4c36-a24f-00f92096c7a4"
      },
      "execution_count": 159,
      "outputs": [
        {
          "output_type": "execute_result",
          "data": {
            "text/plain": [
              "<matplotlib.axes._subplots.AxesSubplot at 0x7fa97014a590>"
            ]
          },
          "metadata": {},
          "execution_count": 159
        },
        {
          "output_type": "display_data",
          "data": {
            "text/plain": [
              "<Figure size 1440x720 with 1 Axes>"
            ],
            "image/png": "[encoded data removed]"
          },
          "metadata": {
            "needs_background": "light"
          }
        }
      ]
    },
    {
      "cell_type": "code",
      "source": [
        "model_metrics.plot(kind=\"bar\", title=\"mean_absolute_error\", x=\"model\", y=\"mean_absolute_error\", figsize=(20, 10))"
      ],
      "metadata": {
        "colab": {
          "base_uri": "https://localhost:8080/",
          "height": 750
        },
        "id": "-K1av0EUZ1a-",
        "outputId": "6ea4a388-add9-4b4f-fe44-577beacc901c"
      },
      "execution_count": 160,
      "outputs": [
        {
          "output_type": "execute_result",
          "data": {
            "text/plain": [
              "<matplotlib.axes._subplots.AxesSubplot at 0x7fa9654a12d0>"
            ]
          },
          "metadata": {},
          "execution_count": 160
        },
        {
          "output_type": "display_data",
          "data": {
            "text/plain": [
              "<Figure size 1440x720 with 1 Axes>"
            ],
            "image/png": "[encoded data removed]"
          },
          "metadata": {
            "needs_background": "light"
          }
        }
      ]
    },
    {
      "cell_type": "markdown",
      "source": [
        "# Summary\n",
        "\n",
        "As we can all of the models were able to achive really good results. Looking at the metrics I would say that `RandomForestRegressor` has got the best results out of all models."
      ],
      "metadata": {
        "id": "YwdxvCXsa5lK"
      }
    }
  ]
}