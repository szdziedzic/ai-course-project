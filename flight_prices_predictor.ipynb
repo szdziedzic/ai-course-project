{
  "nbformat": 4,
  "nbformat_minor": 0,
  "metadata": {
    "colab": {
      "name": "Untitled0.ipynb",
      "provenance": [],
      "authorship_tag": "ABX9TyPAiKQO3WVspQ2imAS54BDQ",
      "include_colab_link": true
    },
    "kernelspec": {
      "name": "python3",
      "display_name": "Python 3"
    },
    "language_info": {
      "name": "python"
    }
  },
  "cells": [
    {
      "cell_type": "markdown",
      "metadata": {
        "id": "view-in-github",
        "colab_type": "text"
      },
      "source": [
        "<a href=\"https://colab.research.google.com/github/szdziedzic/ai-course-project/blob/main/flight_prices_predictor.ipynb\" target=\"_parent\"><img src=\"https://colab.research.google.com/assets/colab-badge.svg\" alt=\"Open In Colab\"/></a>"
      ]
    },
    {
      "cell_type": "markdown",
      "source": [
        "# Flight prices predictor\n",
        "\n",
        "The goal of this project is to train couple of machine learning models to predict flight prices based on [this](https://www.kaggle.com/datasets/shubhambathwal/flight-price-prediction?resource=download) dataset and compare the results which they were able to achieve."
      ],
      "metadata": {
        "id": "y6yd5LOVy_gt"
      }
    },
    {
      "cell_type": "markdown",
      "source": [
        "First let's load and analyze the dataset"
      ],
      "metadata": {
        "id": "G14ZRfxvz3VQ"
      }
    },
    {
      "cell_type": "code",
      "source": [
        "import pandas as pd\n",
        "import numpy as np"
      ],
      "metadata": {
        "id": "rB5s-ikF0Fco"
      },
      "execution_count": 1,
      "outputs": []
    },
    {
      "cell_type": "code",
      "source": [
        "data = pd.read_csv('flights_data.csv', index_col=0).sample(5000)"
      ],
      "metadata": {
        "id": "KFr9Fmm60Ml6"
      },
      "execution_count": 2,
      "outputs": []
    },
    {
      "cell_type": "code",
      "source": [
        "data.head()"
      ],
      "metadata": {
        "colab": {
          "base_uri": "https://localhost:8080/",
          "height": 206
        },
        "id": "QsG1DYhI1Dpz",
        "outputId": "29d9a6f0-f3b8-4710-fbbc-5a847f31f020"
      },
      "execution_count": 3,
      "outputs": [
        {
          "output_type": "execute_result",
          "data": {
            "text/plain": [
              "        airline  flight source_city departure_time        stops  \\\n",
              "259119  Vistara  UK-867   Bangalore      Afternoon  two_or_more   \n",
              "196329  Vistara  UK-824     Chennai          Night          one   \n",
              "83816    Indigo  6E-434      Mumbai      Afternoon          one   \n",
              "61408    Indigo  6E-448      Mumbai        Evening          one   \n",
              "25662   AirAsia  I5-721       Delhi          Night          one   \n",
              "\n",
              "         arrival_time destination_city     class  duration  days_left  price  \n",
              "259119        Evening          Chennai  Business     31.17          5  59106  \n",
              "196329  Early_Morning        Bangalore   Economy     11.33         33   4755  \n",
              "83816           Night          Chennai   Economy      6.08         48   1890  \n",
              "61408      Late_Night        Bangalore   Economy      8.08         49   2124  \n",
              "25662         Morning          Kolkata   Economy     12.25         33   2480  "
            ],
            "text/html": [
              "\n",
              "  <div id=\"df-451895cf-b209-4a42-be3d-6dfc7d94c00f\">\n",
              "    <div class=\"colab-df-container\">\n",
              "      <div>\n",
              "<style scoped>\n",
              "    .dataframe tbody tr th:only-of-type {\n",
              "        vertical-align: middle;\n",
              "    }\n",
              "\n",
              "    .dataframe tbody tr th {\n",
              "        vertical-align: top;\n",
              "    }\n",
              "\n",
              "    .dataframe thead th {\n",
              "        text-align: right;\n",
              "    }\n",
              "</style>\n",
              "<table border=\"1\" class=\"dataframe\">\n",
              "  <thead>\n",
              "    <tr style=\"text-align: right;\">\n",
              "      <th></th>\n",
              "      <th>airline</th>\n",
              "      <th>flight</th>\n",
              "      <th>source_city</th>\n",
              "      <th>departure_time</th>\n",
              "      <th>stops</th>\n",
              "      <th>arrival_time</th>\n",
              "      <th>destination_city</th>\n",
              "      <th>class</th>\n",
              "      <th>duration</th>\n",
              "      <th>days_left</th>\n",
              "      <th>price</th>\n",
              "    </tr>\n",
              "  </thead>\n",
              "  <tbody>\n",
              "    <tr>\n",
              "      <th>259119</th>\n",
              "      <td>Vistara</td>\n",
              "      <td>UK-867</td>\n",
              "      <td>Bangalore</td>\n",
              "      <td>Afternoon</td>\n",
              "      <td>two_or_more</td>\n",
              "      <td>Evening</td>\n",
              "      <td>Chennai</td>\n",
              "      <td>Business</td>\n",
              "      <td>31.17</td>\n",
              "      <td>5</td>\n",
              "      <td>59106</td>\n",
              "    </tr>\n",
              "    <tr>\n",
              "      <th>196329</th>\n",
              "      <td>Vistara</td>\n",
              "      <td>UK-824</td>\n",
              "      <td>Chennai</td>\n",
              "      <td>Night</td>\n",
              "      <td>one</td>\n",
              "      <td>Early_Morning</td>\n",
              "      <td>Bangalore</td>\n",
              "      <td>Economy</td>\n",
              "      <td>11.33</td>\n",
              "      <td>33</td>\n",
              "      <td>4755</td>\n",
              "    </tr>\n",
              "    <tr>\n",
              "      <th>83816</th>\n",
              "      <td>Indigo</td>\n",
              "      <td>6E-434</td>\n",
              "      <td>Mumbai</td>\n",
              "      <td>Afternoon</td>\n",
              "      <td>one</td>\n",
              "      <td>Night</td>\n",
              "      <td>Chennai</td>\n",
              "      <td>Economy</td>\n",
              "      <td>6.08</td>\n",
              "      <td>48</td>\n",
              "      <td>1890</td>\n",
              "    </tr>\n",
              "    <tr>\n",
              "      <th>61408</th>\n",
              "      <td>Indigo</td>\n",
              "      <td>6E-448</td>\n",
              "      <td>Mumbai</td>\n",
              "      <td>Evening</td>\n",
              "      <td>one</td>\n",
              "      <td>Late_Night</td>\n",
              "      <td>Bangalore</td>\n",
              "      <td>Economy</td>\n",
              "      <td>8.08</td>\n",
              "      <td>49</td>\n",
              "      <td>2124</td>\n",
              "    </tr>\n",
              "    <tr>\n",
              "      <th>25662</th>\n",
              "      <td>AirAsia</td>\n",
              "      <td>I5-721</td>\n",
              "      <td>Delhi</td>\n",
              "      <td>Night</td>\n",
              "      <td>one</td>\n",
              "      <td>Morning</td>\n",
              "      <td>Kolkata</td>\n",
              "      <td>Economy</td>\n",
              "      <td>12.25</td>\n",
              "      <td>33</td>\n",
              "      <td>2480</td>\n",
              "    </tr>\n",
              "  </tbody>\n",
              "</table>\n",
              "</div>\n",
              "      <button class=\"colab-df-convert\" onclick=\"convertToInteractive('df-451895cf-b209-4a42-be3d-6dfc7d94c00f')\"\n",
              "              title=\"Convert this dataframe to an interactive table.\"\n",
              "              style=\"display:none;\">\n",
              "        \n",
              "  <svg xmlns=\"http://www.w3.org/2000/svg\" height=\"24px\"viewBox=\"0 0 24 24\"\n",
              "       width=\"24px\">\n",
              "    <path d=\"M0 0h24v24H0V0z\" fill=\"none\"/>\n",
              "    <path d=\"M18.56 5.44l.94 2.06.94-2.06 2.06-.94-2.06-.94-.94-2.06-.94 2.06-2.06.94zm-11 1L8.5 8.5l.94-2.06 2.06-.94-2.06-.94L8.5 2.5l-.94 2.06-2.06.94zm10 10l.94 2.06.94-2.06 2.06-.94-2.06-.94-.94-2.06-.94 2.06-2.06.94z\"/><path d=\"M17.41 7.96l-1.37-1.37c-.4-.4-.92-.59-1.43-.59-.52 0-1.04.2-1.43.59L10.3 9.45l-7.72 7.72c-.78.78-.78 2.05 0 2.83L4 21.41c.39.39.9.59 1.41.59.51 0 1.02-.2 1.41-.59l7.78-7.78 2.81-2.81c.8-.78.8-2.07 0-2.86zM5.41 20L4 18.59l7.72-7.72 1.47 1.35L5.41 20z\"/>\n",
              "  </svg>\n",
              "      </button>\n",
              "      \n",
              "  <style>\n",
              "    .colab-df-container {\n",
              "      display:flex;\n",
              "      flex-wrap:wrap;\n",
              "      gap: 12px;\n",
              "    }\n",
              "\n",
              "    .colab-df-convert {\n",
              "      background-color: #E8F0FE;\n",
              "      border: none;\n",
              "      border-radius: 50%;\n",
              "      cursor: pointer;\n",
              "      display: none;\n",
              "      fill: #1967D2;\n",
              "      height: 32px;\n",
              "      padding: 0 0 0 0;\n",
              "      width: 32px;\n",
              "    }\n",
              "\n",
              "    .colab-df-convert:hover {\n",
              "      background-color: #E2EBFA;\n",
              "      box-shadow: 0px 1px 2px rgba(60, 64, 67, 0.3), 0px 1px 3px 1px rgba(60, 64, 67, 0.15);\n",
              "      fill: #174EA6;\n",
              "    }\n",
              "\n",
              "    [theme=dark] .colab-df-convert {\n",
              "      background-color: #3B4455;\n",
              "      fill: #D2E3FC;\n",
              "    }\n",
              "\n",
              "    [theme=dark] .colab-df-convert:hover {\n",
              "      background-color: #434B5C;\n",
              "      box-shadow: 0px 1px 3px 1px rgba(0, 0, 0, 0.15);\n",
              "      filter: drop-shadow(0px 1px 2px rgba(0, 0, 0, 0.3));\n",
              "      fill: #FFFFFF;\n",
              "    }\n",
              "  </style>\n",
              "\n",
              "      <script>\n",
              "        const buttonEl =\n",
              "          document.querySelector('#df-451895cf-b209-4a42-be3d-6dfc7d94c00f button.colab-df-convert');\n",
              "        buttonEl.style.display =\n",
              "          google.colab.kernel.accessAllowed ? 'block' : 'none';\n",
              "\n",
              "        async function convertToInteractive(key) {\n",
              "          const element = document.querySelector('#df-451895cf-b209-4a42-be3d-6dfc7d94c00f');\n",
              "          const dataTable =\n",
              "            await google.colab.kernel.invokeFunction('convertToInteractive',\n",
              "                                                     [key], {});\n",
              "          if (!dataTable) return;\n",
              "\n",
              "          const docLinkHtml = 'Like what you see? Visit the ' +\n",
              "            '<a target=\"_blank\" href=https://colab.research.google.com/notebooks/data_table.ipynb>data table notebook</a>'\n",
              "            + ' to learn more about interactive tables.';\n",
              "          element.innerHTML = '';\n",
              "          dataTable['output_type'] = 'display_data';\n",
              "          await google.colab.output.renderOutput(dataTable, element);\n",
              "          const docLink = document.createElement('div');\n",
              "          docLink.innerHTML = docLinkHtml;\n",
              "          element.appendChild(docLink);\n",
              "        }\n",
              "      </script>\n",
              "    </div>\n",
              "  </div>\n",
              "  "
            ]
          },
          "metadata": {},
          "execution_count": 3
        }
      ]
    },
    {
      "cell_type": "code",
      "source": [
        "data.shape"
      ],
      "metadata": {
        "colab": {
          "base_uri": "https://localhost:8080/"
        },
        "id": "ZIHrXGyn2UJH",
        "outputId": "012679a0-ba68-42c4-abdf-75958609d51e"
      },
      "execution_count": 4,
      "outputs": [
        {
          "output_type": "execute_result",
          "data": {
            "text/plain": [
              "(5000, 11)"
            ]
          },
          "metadata": {},
          "execution_count": 4
        }
      ]
    },
    {
      "cell_type": "code",
      "source": [
        "data.info()"
      ],
      "metadata": {
        "colab": {
          "base_uri": "https://localhost:8080/"
        },
        "id": "Hjb8q_c42bq4",
        "outputId": "78a949ff-adfe-47f0-f471-445933d24298"
      },
      "execution_count": 5,
      "outputs": [
        {
          "output_type": "stream",
          "name": "stdout",
          "text": [
            "<class 'pandas.core.frame.DataFrame'>\n",
            "Int64Index: 5000 entries, 259119 to 114491\n",
            "Data columns (total 11 columns):\n",
            " #   Column            Non-Null Count  Dtype  \n",
            "---  ------            --------------  -----  \n",
            " 0   airline           5000 non-null   object \n",
            " 1   flight            5000 non-null   object \n",
            " 2   source_city       5000 non-null   object \n",
            " 3   departure_time    5000 non-null   object \n",
            " 4   stops             5000 non-null   object \n",
            " 5   arrival_time      5000 non-null   object \n",
            " 6   destination_city  5000 non-null   object \n",
            " 7   class             5000 non-null   object \n",
            " 8   duration          5000 non-null   float64\n",
            " 9   days_left         5000 non-null   int64  \n",
            " 10  price             5000 non-null   int64  \n",
            "dtypes: float64(1), int64(2), object(8)\n",
            "memory usage: 468.8+ KB\n"
          ]
        }
      ]
    },
    {
      "cell_type": "markdown",
      "source": [
        "According to kaggle website asociated with dataset linked above we can see what each of the columns mean:\n",
        "```\n",
        "1) Airline: The name of the airline company is stored in the airline column.\n",
        "2) Flight: Flight stores information regarding the plane's flight code.\n",
        "3) Source City: City from which the flight takes off.\n",
        "4) Departure Time: This is a derived categorical feature obtained created by grouping time periods into bins. It stores information about the departure time.\n",
        "5) Stops: Stores the number of stops between the source and destination cities.\n",
        "6) Arrival Time: This is a derived categorical feature created by grouping time intervals into bins. Keeps information about the arrival time.\n",
        "7) Destination City: City where the flight will land.\n",
        "8) Class: A categorical feature that contains information on seat class; it has two distinct values: Business and Economy.\n",
        "9) Duration: A continuous feature that displays the overall amount of time it takes to travel between cities in hours.\n",
        "10)Days Left: This is a derived characteristic that is calculated by subtracting the trip date by the booking date.\n",
        "11) Price: Target variable stores information of the ticket price.\n",
        "```"
      ],
      "metadata": {
        "id": "01ifblMZ1cxh"
      }
    },
    {
      "cell_type": "code",
      "source": [
        "for col in data.columns:\n",
        "  print(f\"Column: {col}\")\n",
        "  print(data[col].value_counts())\n",
        "  print(f\"Number of null values: {data[col].isnull().sum()}\")\n",
        "  print(f\"Number of unique values in column: {data[col].nunique()}\")\n",
        "  print()"
      ],
      "metadata": {
        "colab": {
          "base_uri": "https://localhost:8080/"
        },
        "id": "sHSMjbU31kzv",
        "outputId": "d5c40944-4459-41ec-c037-5bab15cf1169"
      },
      "execution_count": 6,
      "outputs": [
        {
          "output_type": "stream",
          "name": "stdout",
          "text": [
            "Column: airline\n",
            "Vistara      2122\n",
            "Air_India    1331\n",
            "Indigo        730\n",
            "GO_FIRST      380\n",
            "AirAsia       292\n",
            "SpiceJet      145\n",
            "Name: airline, dtype: int64\n",
            "Number of null values: 0\n",
            "Number of unique values in column: 6\n",
            "\n",
            "Column: flight\n",
            "UK-720     50\n",
            "UK-830     49\n",
            "UK-706     49\n",
            "UK-836     44\n",
            "UK-870     43\n",
            "           ..\n",
            "G8-2601     1\n",
            "6E-398      1\n",
            "6E-296      1\n",
            "6E-5376     1\n",
            "SG-3229     1\n",
            "Name: flight, Length: 928, dtype: int64\n",
            "Number of null values: 0\n",
            "Number of unique values in column: 928\n",
            "\n",
            "Column: source_city\n",
            "Mumbai       1046\n",
            "Delhi         985\n",
            "Bangalore     888\n",
            "Kolkata       746\n",
            "Hyderabad     719\n",
            "Chennai       616\n",
            "Name: source_city, dtype: int64\n",
            "Number of null values: 0\n",
            "Number of unique values in column: 6\n",
            "\n",
            "Column: departure_time\n",
            "Morning          1206\n",
            "Evening          1130\n",
            "Early_Morning    1082\n",
            "Afternoon         820\n",
            "Night             747\n",
            "Late_Night         15\n",
            "Name: departure_time, dtype: int64\n",
            "Number of null values: 0\n",
            "Number of unique values in column: 6\n",
            "\n",
            "Column: stops\n",
            "one            4206\n",
            "zero            568\n",
            "two_or_more     226\n",
            "Name: stops, dtype: int64\n",
            "Number of null values: 0\n",
            "Number of unique values in column: 3\n",
            "\n",
            "Column: arrival_time\n",
            "Night            1596\n",
            "Evening          1355\n",
            "Morning           996\n",
            "Afternoon         602\n",
            "Early_Morning     248\n",
            "Late_Night        203\n",
            "Name: arrival_time, dtype: int64\n",
            "Number of null values: 0\n",
            "Number of unique values in column: 6\n",
            "\n",
            "Column: destination_city\n",
            "Mumbai       993\n",
            "Delhi        937\n",
            "Kolkata      872\n",
            "Bangalore    849\n",
            "Hyderabad    685\n",
            "Chennai      664\n",
            "Name: destination_city, dtype: int64\n",
            "Number of null values: 0\n",
            "Number of unique values in column: 6\n",
            "\n",
            "Column: class\n",
            "Economy     3441\n",
            "Business    1559\n",
            "Name: class, dtype: int64\n",
            "Number of null values: 0\n",
            "Number of unique values in column: 2\n",
            "\n",
            "Column: duration\n",
            "2.17     74\n",
            "2.75     61\n",
            "2.25     56\n",
            "9.33     44\n",
            "8.08     41\n",
            "         ..\n",
            "3.25      1\n",
            "35.08     1\n",
            "34.75     1\n",
            "6.98      1\n",
            "34.17     1\n",
            "Name: duration, Length: 372, dtype: int64\n",
            "Number of null values: 0\n",
            "Number of unique values in column: 372\n",
            "\n",
            "Column: days_left\n",
            "5     133\n",
            "32    128\n",
            "30    128\n",
            "33    126\n",
            "14    120\n",
            "39    118\n",
            "42    118\n",
            "48    117\n",
            "43    116\n",
            "38    112\n",
            "37    112\n",
            "20    111\n",
            "18    111\n",
            "13    109\n",
            "23    109\n",
            "22    109\n",
            "28    109\n",
            "9     108\n",
            "41    106\n",
            "15    105\n",
            "31    105\n",
            "21    104\n",
            "27    104\n",
            "25    103\n",
            "46    103\n",
            "24    101\n",
            "40    101\n",
            "34    101\n",
            "16    101\n",
            "7     100\n",
            "49    100\n",
            "12    100\n",
            "44     99\n",
            "11     99\n",
            "19     97\n",
            "10     96\n",
            "8      96\n",
            "29     95\n",
            "4      95\n",
            "6      95\n",
            "17     94\n",
            "26     93\n",
            "45     92\n",
            "35     88\n",
            "36     86\n",
            "47     76\n",
            "2      69\n",
            "3      64\n",
            "1      38\n",
            "Name: days_left, dtype: int64\n",
            "Number of null values: 0\n",
            "Number of unique values in column: 49\n",
            "\n",
            "Column: price\n",
            "60978    31\n",
            "54684    25\n",
            "5949     24\n",
            "4111     24\n",
            "6578     23\n",
            "         ..\n",
            "5469      1\n",
            "49401     1\n",
            "3809      1\n",
            "6520      1\n",
            "10012     1\n",
            "Name: price, Length: 2062, dtype: int64\n",
            "Number of null values: 0\n",
            "Number of unique values in column: 2062\n",
            "\n"
          ]
        }
      ]
    },
    {
      "cell_type": "markdown",
      "source": [
        "As we can see non of the columns have any missing data so it looks like dataset is pretty clean.\n",
        "\n",
        "Let's analyze data in each column:\n",
        "- `airline`: this column contains categorical data with 6 unique values\n",
        "- `flight`:  this column contains categorical data with 1561 unique values\n",
        "- `source_city`: this column contains categorical data with 6 unique values\n",
        "- `departure_time`: this column contains categorical data with 6 unique values\n",
        "- `stops`: this column contains categorical data with 3 unique values\n",
        "- `arrival_time`: this column contains categorical data with 6 unique values\n",
        "- `destination_city`: this column contains categorical data with 6 unique values\n",
        "- `class`: this column contains categorical data with 2 unique values\n",
        "- `durration`: this is numerical feature\n",
        "- `price`: this is numerical feature\n",
        "- `days_left`: this is numerical feature"
      ],
      "metadata": {
        "id": "wjKg4qnn5SWc"
      }
    },
    {
      "cell_type": "code",
      "source": [
        "import matplotlib.pyplot as plt"
      ],
      "metadata": {
        "id": "4onIBfdq9Gyx"
      },
      "execution_count": 7,
      "outputs": []
    },
    {
      "cell_type": "code",
      "source": [
        "for col in [\"airline\", \"source_city\", \"departure_time\", \"stops\", \"arrival_time\", \"destination_city\", \"class\"]:\n",
        "  data[col].value_counts().plot(kind=\"bar\", title=col)\n",
        "  plt.show()\n",
        "  print()"
      ],
      "metadata": {
        "colab": {
          "base_uri": "https://localhost:8080/",
          "height": 1000
        },
        "id": "0mJYZVIf5UQz",
        "outputId": "1838ebfd-a1b3-4d69-e4f7-a28fdb9b4e5b"
      },
      "execution_count": 8,
      "outputs": [
        {
          "output_type": "display_data",
          "data": {
            "text/plain": [
              "<Figure size 432x288 with 1 Axes>"
            ],
            "image/png": "[encoded data removed]"
          },
          "metadata": {
            "needs_background": "light"
          }
        },
        {
          "output_type": "stream",
          "name": "stdout",
          "text": [
            "\n"
          ]
        },
        {
          "output_type": "display_data",
          "data": {
            "text/plain": [
              "<Figure size 432x288 with 1 Axes>"
            ],
            "image/png": "[encoded data removed]"
          },
          "metadata": {
            "needs_background": "light"
          }
        },
        {
          "output_type": "stream",
          "name": "stdout",
          "text": [
            "\n"
          ]
        },
        {
          "output_type": "display_data",
          "data": {
            "text/plain": [
              "<Figure size 432x288 with 1 Axes>"
            ],
            "image/png": "[encoded data removed]"
          },
          "metadata": {
            "needs_background": "light"
          }
        },
        {
          "output_type": "stream",
          "name": "stdout",
          "text": [
            "\n"
          ]
        },
        {
          "output_type": "display_data",
          "data": {
            "text/plain": [
              "<Figure size 432x288 with 1 Axes>"
            ],
            "image/png": "[encoded data removed]"
          },
          "metadata": {
            "needs_background": "light"
          }
        },
        {
          "output_type": "stream",
          "name": "stdout",
          "text": [
            "\n"
          ]
        },
        {
          "output_type": "display_data",
          "data": {
            "text/plain": [
              "<Figure size 432x288 with 1 Axes>"
            ],
            "image/png": "[encoded data removed]"
          },
          "metadata": {
            "needs_background": "light"
          }
        },
        {
          "output_type": "stream",
          "name": "stdout",
          "text": [
            "\n"
          ]
        },
        {
          "output_type": "display_data",
          "data": {
            "text/plain": [
              "<Figure size 432x288 with 1 Axes>"
            ],
            "image/png": "[encoded data removed]"
          },
          "metadata": {
            "needs_background": "light"
          }
        },
        {
          "output_type": "stream",
          "name": "stdout",
          "text": [
            "\n"
          ]
        },
        {
          "output_type": "display_data",
          "data": {
            "text/plain": [
              "<Figure size 432x288 with 1 Axes>"
            ],
            "image/png": "[encoded data removed]"
          },
          "metadata": {
            "needs_background": "light"
          }
        },
        {
          "output_type": "stream",
          "name": "stdout",
          "text": [
            "\n"
          ]
        }
      ]
    },
    {
      "cell_type": "code",
      "source": [
        "data[\"flight\"].value_counts().nlargest(60).plot(kind=\"bar\", title=\"flight\", figsize=(10, 10))\n",
        "plt.show()"
      ],
      "metadata": {
        "colab": {
          "base_uri": "https://localhost:8080/",
          "height": 633
        },
        "id": "vZZBldyX9tJB",
        "outputId": "610cc4db-a3e6-4066-c2c5-33fd2dac6ceb"
      },
      "execution_count": 9,
      "outputs": [
        {
          "output_type": "display_data",
          "data": {
            "text/plain": [
              "<Figure size 720x720 with 1 Axes>"
            ],
            "image/png": "[encoded data removed]"
          },
          "metadata": {
            "needs_background": "light"
          }
        }
      ]
    },
    {
      "cell_type": "markdown",
      "source": [
        "We have ton of categories in `flight` column. Let's try to limit this number"
      ],
      "metadata": {
        "id": "jgEnx1c1icVM"
      }
    },
    {
      "cell_type": "code",
      "source": [
        "flight_value_counts = data[\"flight\"].value_counts()\n",
        "values_to_be_squashed = []\n",
        "for value in flight_value_counts.keys():\n",
        "  # set flight category for those which occure less then 100 times to OTHER\n",
        "  # to limit number of categories\n",
        "  if flight_value_counts[value] < 20:\n",
        "    values_to_be_squashed.append(value)\n",
        "print(len(values_to_be_squashed))"
      ],
      "metadata": {
        "colab": {
          "base_uri": "https://localhost:8080/"
        },
        "id": "oZiigCjXjaW-",
        "outputId": "19c0c2aa-586f-4bcc-8815-9d7adc1067bf"
      },
      "execution_count": 10,
      "outputs": [
        {
          "output_type": "stream",
          "name": "stdout",
          "text": [
            "861\n"
          ]
        }
      ]
    },
    {
      "cell_type": "code",
      "source": [
        "data[\"flight\"] = data[\"flight\"].replace(values_to_be_squashed, \"OTHER\")\n",
        "\n",
        "print(data[\"flight\"].value_counts())"
      ],
      "metadata": {
        "colab": {
          "base_uri": "https://localhost:8080/"
        },
        "id": "ngw-G0__mEb2",
        "outputId": "53f10c21-af02-4e61-955f-ef08b515a4cf"
      },
      "execution_count": 11,
      "outputs": [
        {
          "output_type": "stream",
          "name": "stdout",
          "text": [
            "OTHER     3057\n",
            "UK-720      50\n",
            "UK-830      49\n",
            "UK-706      49\n",
            "UK-836      44\n",
            "          ... \n",
            "UK-776      20\n",
            "UK-988      20\n",
            "AI-698      20\n",
            "AI-503      20\n",
            "UK-970      20\n",
            "Name: flight, Length: 68, dtype: int64\n"
          ]
        }
      ]
    },
    {
      "cell_type": "markdown",
      "source": [
        "We don't have any missing data in columns and we don't have columns which only have one value, so fortunately we can skip step of fixing it."
      ],
      "metadata": {
        "id": "FCBvUBH5_UF-"
      }
    },
    {
      "cell_type": "markdown",
      "source": [
        "Let's make sure that all of the values in our columns are represented by numbers instead of the text"
      ],
      "metadata": {
        "id": "gDORvkOb_iTE"
      }
    },
    {
      "cell_type": "code",
      "source": [
        "print(\"Data types and their frequency:\")\n",
        "data.dtypes.value_counts()"
      ],
      "metadata": {
        "colab": {
          "base_uri": "https://localhost:8080/"
        },
        "id": "eBCc3P7Z_zLR",
        "outputId": "147bcdcc-a2e1-42a3-d04f-de79091ea83e"
      },
      "execution_count": 12,
      "outputs": [
        {
          "output_type": "stream",
          "name": "stdout",
          "text": [
            "Data types and their frequency:\n"
          ]
        },
        {
          "output_type": "execute_result",
          "data": {
            "text/plain": [
              "object     8\n",
              "int64      2\n",
              "float64    1\n",
              "dtype: int64"
            ]
          },
          "metadata": {},
          "execution_count": 12
        }
      ]
    },
    {
      "cell_type": "markdown",
      "source": [
        "We have 8 columns containing text values, let's change it"
      ],
      "metadata": {
        "id": "kd-l8TtdAISY"
      }
    },
    {
      "cell_type": "markdown",
      "source": [
        "Data in `airline`, `flight`, `source_city` and `destination_city` is unordered data, so let's use `get_dummies` method to create separate column for each of the values in these columns"
      ],
      "metadata": {
        "id": "07s5y8yYBJR8"
      }
    },
    {
      "cell_type": "code",
      "source": [
        "unordered_data_columns = [\"airline\", \"flight\", \"source_city\", \"destination_city\"]\n",
        "dummy_df = pd.get_dummies(data[unordered_data_columns])\n",
        "dummy_df.head()"
      ],
      "metadata": {
        "colab": {
          "base_uri": "https://localhost:8080/",
          "height": 317
        },
        "id": "Hj0Y1g7HAM6n",
        "outputId": "82dca550-bc3e-4464-9bf4-a1fa651335b7"
      },
      "execution_count": 13,
      "outputs": [
        {
          "output_type": "execute_result",
          "data": {
            "text/plain": [
              "        airline_AirAsia  airline_Air_India  airline_GO_FIRST  airline_Indigo  \\\n",
              "259119                0                  0                 0               0   \n",
              "196329                0                  0                 0               0   \n",
              "83816                 0                  0                 0               1   \n",
              "61408                 0                  0                 0               1   \n",
              "25662                 1                  0                 0               0   \n",
              "\n",
              "        airline_SpiceJet  airline_Vistara  flight_AI-430  flight_AI-440  \\\n",
              "259119                 0                1              0              0   \n",
              "196329                 0                1              0              0   \n",
              "83816                  0                0              0              0   \n",
              "61408                  0                0              0              0   \n",
              "25662                  0                0              0              0   \n",
              "\n",
              "        flight_AI-442  flight_AI-501  ...  source_city_Delhi  \\\n",
              "259119              0              0  ...                  0   \n",
              "196329              0              0  ...                  0   \n",
              "83816               0              0  ...                  0   \n",
              "61408               0              0  ...                  0   \n",
              "25662               0              0  ...                  1   \n",
              "\n",
              "        source_city_Hyderabad  source_city_Kolkata  source_city_Mumbai  \\\n",
              "259119                      0                    0                   0   \n",
              "196329                      0                    0                   0   \n",
              "83816                       0                    0                   1   \n",
              "61408                       0                    0                   1   \n",
              "25662                       0                    0                   0   \n",
              "\n",
              "        destination_city_Bangalore  destination_city_Chennai  \\\n",
              "259119                           0                         1   \n",
              "196329                           1                         0   \n",
              "83816                            0                         1   \n",
              "61408                            1                         0   \n",
              "25662                            0                         0   \n",
              "\n",
              "        destination_city_Delhi  destination_city_Hyderabad  \\\n",
              "259119                       0                           0   \n",
              "196329                       0                           0   \n",
              "83816                        0                           0   \n",
              "61408                        0                           0   \n",
              "25662                        0                           0   \n",
              "\n",
              "        destination_city_Kolkata  destination_city_Mumbai  \n",
              "259119                         0                        0  \n",
              "196329                         0                        0  \n",
              "83816                          0                        0  \n",
              "61408                          0                        0  \n",
              "25662                          1                        0  \n",
              "\n",
              "[5 rows x 86 columns]"
            ],
            "text/html": [
              "\n",
              "  <div id=\"df-d9084df6-2ca7-45c5-ab12-0822b41e7291\">\n",
              "    <div class=\"colab-df-container\">\n",
              "      <div>\n",
              "<style scoped>\n",
              "    .dataframe tbody tr th:only-of-type {\n",
              "        vertical-align: middle;\n",
              "    }\n",
              "\n",
              "    .dataframe tbody tr th {\n",
              "        vertical-align: top;\n",
              "    }\n",
              "\n",
              "    .dataframe thead th {\n",
              "        text-align: right;\n",
              "    }\n",
              "</style>\n",
              "<table border=\"1\" class=\"dataframe\">\n",
              "  <thead>\n",
              "    <tr style=\"text-align: right;\">\n",
              "      <th></th>\n",
              "      <th>airline_AirAsia</th>\n",
              "      <th>airline_Air_India</th>\n",
              "      <th>airline_GO_FIRST</th>\n",
              "      <th>airline_Indigo</th>\n",
              "      <th>airline_SpiceJet</th>\n",
              "      <th>airline_Vistara</th>\n",
              "      <th>flight_AI-430</th>\n",
              "      <th>flight_AI-440</th>\n",
              "      <th>flight_AI-442</th>\n",
              "      <th>flight_AI-501</th>\n",
              "      <th>...</th>\n",
              "      <th>source_city_Delhi</th>\n",
              "      <th>source_city_Hyderabad</th>\n",
              "      <th>source_city_Kolkata</th>\n",
              "      <th>source_city_Mumbai</th>\n",
              "      <th>destination_city_Bangalore</th>\n",
              "      <th>destination_city_Chennai</th>\n",
              "      <th>destination_city_Delhi</th>\n",
              "      <th>destination_city_Hyderabad</th>\n",
              "      <th>destination_city_Kolkata</th>\n",
              "      <th>destination_city_Mumbai</th>\n",
              "    </tr>\n",
              "  </thead>\n",
              "  <tbody>\n",
              "    <tr>\n",
              "      <th>259119</th>\n",
              "      <td>0</td>\n",
              "      <td>0</td>\n",
              "      <td>0</td>\n",
              "      <td>0</td>\n",
              "      <td>0</td>\n",
              "      <td>1</td>\n",
              "      <td>0</td>\n",
              "      <td>0</td>\n",
              "      <td>0</td>\n",
              "      <td>0</td>\n",
              "      <td>...</td>\n",
              "      <td>0</td>\n",
              "      <td>0</td>\n",
              "      <td>0</td>\n",
              "      <td>0</td>\n",
              "      <td>0</td>\n",
              "      <td>1</td>\n",
              "      <td>0</td>\n",
              "      <td>0</td>\n",
              "      <td>0</td>\n",
              "      <td>0</td>\n",
              "    </tr>\n",
              "    <tr>\n",
              "      <th>196329</th>\n",
              "      <td>0</td>\n",
              "      <td>0</td>\n",
              "      <td>0</td>\n",
              "      <td>0</td>\n",
              "      <td>0</td>\n",
              "      <td>1</td>\n",
              "      <td>0</td>\n",
              "      <td>0</td>\n",
              "      <td>0</td>\n",
              "      <td>0</td>\n",
              "      <td>...</td>\n",
              "      <td>0</td>\n",
              "      <td>0</td>\n",
              "      <td>0</td>\n",
              "      <td>0</td>\n",
              "      <td>1</td>\n",
              "      <td>0</td>\n",
              "      <td>0</td>\n",
              "      <td>0</td>\n",
              "      <td>0</td>\n",
              "      <td>0</td>\n",
              "    </tr>\n",
              "    <tr>\n",
              "      <th>83816</th>\n",
              "      <td>0</td>\n",
              "      <td>0</td>\n",
              "      <td>0</td>\n",
              "      <td>1</td>\n",
              "      <td>0</td>\n",
              "      <td>0</td>\n",
              "      <td>0</td>\n",
              "      <td>0</td>\n",
              "      <td>0</td>\n",
              "      <td>0</td>\n",
              "      <td>...</td>\n",
              "      <td>0</td>\n",
              "      <td>0</td>\n",
              "      <td>0</td>\n",
              "      <td>1</td>\n",
              "      <td>0</td>\n",
              "      <td>1</td>\n",
              "      <td>0</td>\n",
              "      <td>0</td>\n",
              "      <td>0</td>\n",
              "      <td>0</td>\n",
              "    </tr>\n",
              "    <tr>\n",
              "      <th>61408</th>\n",
              "      <td>0</td>\n",
              "      <td>0</td>\n",
              "      <td>0</td>\n",
              "      <td>1</td>\n",
              "      <td>0</td>\n",
              "      <td>0</td>\n",
              "      <td>0</td>\n",
              "      <td>0</td>\n",
              "      <td>0</td>\n",
              "      <td>0</td>\n",
              "      <td>...</td>\n",
              "      <td>0</td>\n",
              "      <td>0</td>\n",
              "      <td>0</td>\n",
              "      <td>1</td>\n",
              "      <td>1</td>\n",
              "      <td>0</td>\n",
              "      <td>0</td>\n",
              "      <td>0</td>\n",
              "      <td>0</td>\n",
              "      <td>0</td>\n",
              "    </tr>\n",
              "    <tr>\n",
              "      <th>25662</th>\n",
              "      <td>1</td>\n",
              "      <td>0</td>\n",
              "      <td>0</td>\n",
              "      <td>0</td>\n",
              "      <td>0</td>\n",
              "      <td>0</td>\n",
              "      <td>0</td>\n",
              "      <td>0</td>\n",
              "      <td>0</td>\n",
              "      <td>0</td>\n",
              "      <td>...</td>\n",
              "      <td>1</td>\n",
              "      <td>0</td>\n",
              "      <td>0</td>\n",
              "      <td>0</td>\n",
              "      <td>0</td>\n",
              "      <td>0</td>\n",
              "      <td>0</td>\n",
              "      <td>0</td>\n",
              "      <td>1</td>\n",
              "      <td>0</td>\n",
              "    </tr>\n",
              "  </tbody>\n",
              "</table>\n",
              "<p>5 rows × 86 columns</p>\n",
              "</div>\n",
              "      <button class=\"colab-df-convert\" onclick=\"convertToInteractive('df-d9084df6-2ca7-45c5-ab12-0822b41e7291')\"\n",
              "              title=\"Convert this dataframe to an interactive table.\"\n",
              "              style=\"display:none;\">\n",
              "        \n",
              "  <svg xmlns=\"http://www.w3.org/2000/svg\" height=\"24px\"viewBox=\"0 0 24 24\"\n",
              "       width=\"24px\">\n",
              "    <path d=\"M0 0h24v24H0V0z\" fill=\"none\"/>\n",
              "    <path d=\"M18.56 5.44l.94 2.06.94-2.06 2.06-.94-2.06-.94-.94-2.06-.94 2.06-2.06.94zm-11 1L8.5 8.5l.94-2.06 2.06-.94-2.06-.94L8.5 2.5l-.94 2.06-2.06.94zm10 10l.94 2.06.94-2.06 2.06-.94-2.06-.94-.94-2.06-.94 2.06-2.06.94z\"/><path d=\"M17.41 7.96l-1.37-1.37c-.4-.4-.92-.59-1.43-.59-.52 0-1.04.2-1.43.59L10.3 9.45l-7.72 7.72c-.78.78-.78 2.05 0 2.83L4 21.41c.39.39.9.59 1.41.59.51 0 1.02-.2 1.41-.59l7.78-7.78 2.81-2.81c.8-.78.8-2.07 0-2.86zM5.41 20L4 18.59l7.72-7.72 1.47 1.35L5.41 20z\"/>\n",
              "  </svg>\n",
              "      </button>\n",
              "      \n",
              "  <style>\n",
              "    .colab-df-container {\n",
              "      display:flex;\n",
              "      flex-wrap:wrap;\n",
              "      gap: 12px;\n",
              "    }\n",
              "\n",
              "    .colab-df-convert {\n",
              "      background-color: #E8F0FE;\n",
              "      border: none;\n",
              "      border-radius: 50%;\n",
              "      cursor: pointer;\n",
              "      display: none;\n",
              "      fill: #1967D2;\n",
              "      height: 32px;\n",
              "      padding: 0 0 0 0;\n",
              "      width: 32px;\n",
              "    }\n",
              "\n",
              "    .colab-df-convert:hover {\n",
              "      background-color: #E2EBFA;\n",
              "      box-shadow: 0px 1px 2px rgba(60, 64, 67, 0.3), 0px 1px 3px 1px rgba(60, 64, 67, 0.15);\n",
              "      fill: #174EA6;\n",
              "    }\n",
              "\n",
              "    [theme=dark] .colab-df-convert {\n",
              "      background-color: #3B4455;\n",
              "      fill: #D2E3FC;\n",
              "    }\n",
              "\n",
              "    [theme=dark] .colab-df-convert:hover {\n",
              "      background-color: #434B5C;\n",
              "      box-shadow: 0px 1px 3px 1px rgba(0, 0, 0, 0.15);\n",
              "      filter: drop-shadow(0px 1px 2px rgba(0, 0, 0, 0.3));\n",
              "      fill: #FFFFFF;\n",
              "    }\n",
              "  </style>\n",
              "\n",
              "      <script>\n",
              "        const buttonEl =\n",
              "          document.querySelector('#df-d9084df6-2ca7-45c5-ab12-0822b41e7291 button.colab-df-convert');\n",
              "        buttonEl.style.display =\n",
              "          google.colab.kernel.accessAllowed ? 'block' : 'none';\n",
              "\n",
              "        async function convertToInteractive(key) {\n",
              "          const element = document.querySelector('#df-d9084df6-2ca7-45c5-ab12-0822b41e7291');\n",
              "          const dataTable =\n",
              "            await google.colab.kernel.invokeFunction('convertToInteractive',\n",
              "                                                     [key], {});\n",
              "          if (!dataTable) return;\n",
              "\n",
              "          const docLinkHtml = 'Like what you see? Visit the ' +\n",
              "            '<a target=\"_blank\" href=https://colab.research.google.com/notebooks/data_table.ipynb>data table notebook</a>'\n",
              "            + ' to learn more about interactive tables.';\n",
              "          element.innerHTML = '';\n",
              "          dataTable['output_type'] = 'display_data';\n",
              "          await google.colab.output.renderOutput(dataTable, element);\n",
              "          const docLink = document.createElement('div');\n",
              "          docLink.innerHTML = docLinkHtml;\n",
              "          element.appendChild(docLink);\n",
              "        }\n",
              "      </script>\n",
              "    </div>\n",
              "  </div>\n",
              "  "
            ]
          },
          "metadata": {},
          "execution_count": 13
        }
      ]
    },
    {
      "cell_type": "code",
      "source": [
        "data = pd.concat([data, dummy_df], axis=1)\n",
        "data.head()"
      ],
      "metadata": {
        "colab": {
          "base_uri": "https://localhost:8080/",
          "height": 300
        },
        "id": "WU9ABMXaCv6D",
        "outputId": "f2097b3b-918f-4cbc-94ae-0442533981d1"
      },
      "execution_count": 14,
      "outputs": [
        {
          "output_type": "execute_result",
          "data": {
            "text/plain": [
              "        airline  flight source_city departure_time        stops  \\\n",
              "259119  Vistara   OTHER   Bangalore      Afternoon  two_or_more   \n",
              "196329  Vistara  UK-824     Chennai          Night          one   \n",
              "83816    Indigo   OTHER      Mumbai      Afternoon          one   \n",
              "61408    Indigo   OTHER      Mumbai        Evening          one   \n",
              "25662   AirAsia   OTHER       Delhi          Night          one   \n",
              "\n",
              "         arrival_time destination_city     class  duration  days_left  ...  \\\n",
              "259119        Evening          Chennai  Business     31.17          5  ...   \n",
              "196329  Early_Morning        Bangalore   Economy     11.33         33  ...   \n",
              "83816           Night          Chennai   Economy      6.08         48  ...   \n",
              "61408      Late_Night        Bangalore   Economy      8.08         49  ...   \n",
              "25662         Morning          Kolkata   Economy     12.25         33  ...   \n",
              "\n",
              "        source_city_Delhi  source_city_Hyderabad  source_city_Kolkata  \\\n",
              "259119                  0                      0                    0   \n",
              "196329                  0                      0                    0   \n",
              "83816                   0                      0                    0   \n",
              "61408                   0                      0                    0   \n",
              "25662                   1                      0                    0   \n",
              "\n",
              "        source_city_Mumbai  destination_city_Bangalore  \\\n",
              "259119                   0                           0   \n",
              "196329                   0                           1   \n",
              "83816                    1                           0   \n",
              "61408                    1                           1   \n",
              "25662                    0                           0   \n",
              "\n",
              "        destination_city_Chennai  destination_city_Delhi  \\\n",
              "259119                         1                       0   \n",
              "196329                         0                       0   \n",
              "83816                          1                       0   \n",
              "61408                          0                       0   \n",
              "25662                          0                       0   \n",
              "\n",
              "        destination_city_Hyderabad  destination_city_Kolkata  \\\n",
              "259119                           0                         0   \n",
              "196329                           0                         0   \n",
              "83816                            0                         0   \n",
              "61408                            0                         0   \n",
              "25662                            0                         1   \n",
              "\n",
              "        destination_city_Mumbai  \n",
              "259119                        0  \n",
              "196329                        0  \n",
              "83816                         0  \n",
              "61408                         0  \n",
              "25662                         0  \n",
              "\n",
              "[5 rows x 97 columns]"
            ],
            "text/html": [
              "\n",
              "  <div id=\"df-1b02e847-866e-4dc4-bdeb-6b96f541dc76\">\n",
              "    <div class=\"colab-df-container\">\n",
              "      <div>\n",
              "<style scoped>\n",
              "    .dataframe tbody tr th:only-of-type {\n",
              "        vertical-align: middle;\n",
              "    }\n",
              "\n",
              "    .dataframe tbody tr th {\n",
              "        vertical-align: top;\n",
              "    }\n",
              "\n",
              "    .dataframe thead th {\n",
              "        text-align: right;\n",
              "    }\n",
              "</style>\n",
              "<table border=\"1\" class=\"dataframe\">\n",
              "  <thead>\n",
              "    <tr style=\"text-align: right;\">\n",
              "      <th></th>\n",
              "      <th>airline</th>\n",
              "      <th>flight</th>\n",
              "      <th>source_city</th>\n",
              "      <th>departure_time</th>\n",
              "      <th>stops</th>\n",
              "      <th>arrival_time</th>\n",
              "      <th>destination_city</th>\n",
              "      <th>class</th>\n",
              "      <th>duration</th>\n",
              "      <th>days_left</th>\n",
              "      <th>...</th>\n",
              "      <th>source_city_Delhi</th>\n",
              "      <th>source_city_Hyderabad</th>\n",
              "      <th>source_city_Kolkata</th>\n",
              "      <th>source_city_Mumbai</th>\n",
              "      <th>destination_city_Bangalore</th>\n",
              "      <th>destination_city_Chennai</th>\n",
              "      <th>destination_city_Delhi</th>\n",
              "      <th>destination_city_Hyderabad</th>\n",
              "      <th>destination_city_Kolkata</th>\n",
              "      <th>destination_city_Mumbai</th>\n",
              "    </tr>\n",
              "  </thead>\n",
              "  <tbody>\n",
              "    <tr>\n",
              "      <th>259119</th>\n",
              "      <td>Vistara</td>\n",
              "      <td>OTHER</td>\n",
              "      <td>Bangalore</td>\n",
              "      <td>Afternoon</td>\n",
              "      <td>two_or_more</td>\n",
              "      <td>Evening</td>\n",
              "      <td>Chennai</td>\n",
              "      <td>Business</td>\n",
              "      <td>31.17</td>\n",
              "      <td>5</td>\n",
              "      <td>...</td>\n",
              "      <td>0</td>\n",
              "      <td>0</td>\n",
              "      <td>0</td>\n",
              "      <td>0</td>\n",
              "      <td>0</td>\n",
              "      <td>1</td>\n",
              "      <td>0</td>\n",
              "      <td>0</td>\n",
              "      <td>0</td>\n",
              "      <td>0</td>\n",
              "    </tr>\n",
              "    <tr>\n",
              "      <th>196329</th>\n",
              "      <td>Vistara</td>\n",
              "      <td>UK-824</td>\n",
              "      <td>Chennai</td>\n",
              "      <td>Night</td>\n",
              "      <td>one</td>\n",
              "      <td>Early_Morning</td>\n",
              "      <td>Bangalore</td>\n",
              "      <td>Economy</td>\n",
              "      <td>11.33</td>\n",
              "      <td>33</td>\n",
              "      <td>...</td>\n",
              "      <td>0</td>\n",
              "      <td>0</td>\n",
              "      <td>0</td>\n",
              "      <td>0</td>\n",
              "      <td>1</td>\n",
              "      <td>0</td>\n",
              "      <td>0</td>\n",
              "      <td>0</td>\n",
              "      <td>0</td>\n",
              "      <td>0</td>\n",
              "    </tr>\n",
              "    <tr>\n",
              "      <th>83816</th>\n",
              "      <td>Indigo</td>\n",
              "      <td>OTHER</td>\n",
              "      <td>Mumbai</td>\n",
              "      <td>Afternoon</td>\n",
              "      <td>one</td>\n",
              "      <td>Night</td>\n",
              "      <td>Chennai</td>\n",
              "      <td>Economy</td>\n",
              "      <td>6.08</td>\n",
              "      <td>48</td>\n",
              "      <td>...</td>\n",
              "      <td>0</td>\n",
              "      <td>0</td>\n",
              "      <td>0</td>\n",
              "      <td>1</td>\n",
              "      <td>0</td>\n",
              "      <td>1</td>\n",
              "      <td>0</td>\n",
              "      <td>0</td>\n",
              "      <td>0</td>\n",
              "      <td>0</td>\n",
              "    </tr>\n",
              "    <tr>\n",
              "      <th>61408</th>\n",
              "      <td>Indigo</td>\n",
              "      <td>OTHER</td>\n",
              "      <td>Mumbai</td>\n",
              "      <td>Evening</td>\n",
              "      <td>one</td>\n",
              "      <td>Late_Night</td>\n",
              "      <td>Bangalore</td>\n",
              "      <td>Economy</td>\n",
              "      <td>8.08</td>\n",
              "      <td>49</td>\n",
              "      <td>...</td>\n",
              "      <td>0</td>\n",
              "      <td>0</td>\n",
              "      <td>0</td>\n",
              "      <td>1</td>\n",
              "      <td>1</td>\n",
              "      <td>0</td>\n",
              "      <td>0</td>\n",
              "      <td>0</td>\n",
              "      <td>0</td>\n",
              "      <td>0</td>\n",
              "    </tr>\n",
              "    <tr>\n",
              "      <th>25662</th>\n",
              "      <td>AirAsia</td>\n",
              "      <td>OTHER</td>\n",
              "      <td>Delhi</td>\n",
              "      <td>Night</td>\n",
              "      <td>one</td>\n",
              "      <td>Morning</td>\n",
              "      <td>Kolkata</td>\n",
              "      <td>Economy</td>\n",
              "      <td>12.25</td>\n",
              "      <td>33</td>\n",
              "      <td>...</td>\n",
              "      <td>1</td>\n",
              "      <td>0</td>\n",
              "      <td>0</td>\n",
              "      <td>0</td>\n",
              "      <td>0</td>\n",
              "      <td>0</td>\n",
              "      <td>0</td>\n",
              "      <td>0</td>\n",
              "      <td>1</td>\n",
              "      <td>0</td>\n",
              "    </tr>\n",
              "  </tbody>\n",
              "</table>\n",
              "<p>5 rows × 97 columns</p>\n",
              "</div>\n",
              "      <button class=\"colab-df-convert\" onclick=\"convertToInteractive('df-1b02e847-866e-4dc4-bdeb-6b96f541dc76')\"\n",
              "              title=\"Convert this dataframe to an interactive table.\"\n",
              "              style=\"display:none;\">\n",
              "        \n",
              "  <svg xmlns=\"http://www.w3.org/2000/svg\" height=\"24px\"viewBox=\"0 0 24 24\"\n",
              "       width=\"24px\">\n",
              "    <path d=\"M0 0h24v24H0V0z\" fill=\"none\"/>\n",
              "    <path d=\"M18.56 5.44l.94 2.06.94-2.06 2.06-.94-2.06-.94-.94-2.06-.94 2.06-2.06.94zm-11 1L8.5 8.5l.94-2.06 2.06-.94-2.06-.94L8.5 2.5l-.94 2.06-2.06.94zm10 10l.94 2.06.94-2.06 2.06-.94-2.06-.94-.94-2.06-.94 2.06-2.06.94z\"/><path d=\"M17.41 7.96l-1.37-1.37c-.4-.4-.92-.59-1.43-.59-.52 0-1.04.2-1.43.59L10.3 9.45l-7.72 7.72c-.78.78-.78 2.05 0 2.83L4 21.41c.39.39.9.59 1.41.59.51 0 1.02-.2 1.41-.59l7.78-7.78 2.81-2.81c.8-.78.8-2.07 0-2.86zM5.41 20L4 18.59l7.72-7.72 1.47 1.35L5.41 20z\"/>\n",
              "  </svg>\n",
              "      </button>\n",
              "      \n",
              "  <style>\n",
              "    .colab-df-container {\n",
              "      display:flex;\n",
              "      flex-wrap:wrap;\n",
              "      gap: 12px;\n",
              "    }\n",
              "\n",
              "    .colab-df-convert {\n",
              "      background-color: #E8F0FE;\n",
              "      border: none;\n",
              "      border-radius: 50%;\n",
              "      cursor: pointer;\n",
              "      display: none;\n",
              "      fill: #1967D2;\n",
              "      height: 32px;\n",
              "      padding: 0 0 0 0;\n",
              "      width: 32px;\n",
              "    }\n",
              "\n",
              "    .colab-df-convert:hover {\n",
              "      background-color: #E2EBFA;\n",
              "      box-shadow: 0px 1px 2px rgba(60, 64, 67, 0.3), 0px 1px 3px 1px rgba(60, 64, 67, 0.15);\n",
              "      fill: #174EA6;\n",
              "    }\n",
              "\n",
              "    [theme=dark] .colab-df-convert {\n",
              "      background-color: #3B4455;\n",
              "      fill: #D2E3FC;\n",
              "    }\n",
              "\n",
              "    [theme=dark] .colab-df-convert:hover {\n",
              "      background-color: #434B5C;\n",
              "      box-shadow: 0px 1px 3px 1px rgba(0, 0, 0, 0.15);\n",
              "      filter: drop-shadow(0px 1px 2px rgba(0, 0, 0, 0.3));\n",
              "      fill: #FFFFFF;\n",
              "    }\n",
              "  </style>\n",
              "\n",
              "      <script>\n",
              "        const buttonEl =\n",
              "          document.querySelector('#df-1b02e847-866e-4dc4-bdeb-6b96f541dc76 button.colab-df-convert');\n",
              "        buttonEl.style.display =\n",
              "          google.colab.kernel.accessAllowed ? 'block' : 'none';\n",
              "\n",
              "        async function convertToInteractive(key) {\n",
              "          const element = document.querySelector('#df-1b02e847-866e-4dc4-bdeb-6b96f541dc76');\n",
              "          const dataTable =\n",
              "            await google.colab.kernel.invokeFunction('convertToInteractive',\n",
              "                                                     [key], {});\n",
              "          if (!dataTable) return;\n",
              "\n",
              "          const docLinkHtml = 'Like what you see? Visit the ' +\n",
              "            '<a target=\"_blank\" href=https://colab.research.google.com/notebooks/data_table.ipynb>data table notebook</a>'\n",
              "            + ' to learn more about interactive tables.';\n",
              "          element.innerHTML = '';\n",
              "          dataTable['output_type'] = 'display_data';\n",
              "          await google.colab.output.renderOutput(dataTable, element);\n",
              "          const docLink = document.createElement('div');\n",
              "          docLink.innerHTML = docLinkHtml;\n",
              "          element.appendChild(docLink);\n",
              "        }\n",
              "      </script>\n",
              "    </div>\n",
              "  </div>\n",
              "  "
            ]
          },
          "metadata": {},
          "execution_count": 14
        }
      ]
    },
    {
      "cell_type": "markdown",
      "source": [
        "Let's drop old columns"
      ],
      "metadata": {
        "id": "JpYhLViMC-qv"
      }
    },
    {
      "cell_type": "code",
      "source": [
        "data = data.drop(unordered_data_columns, axis=1)"
      ],
      "metadata": {
        "id": "ODD7k0fCDCZv"
      },
      "execution_count": 15,
      "outputs": []
    },
    {
      "cell_type": "code",
      "source": [
        "data.head()"
      ],
      "metadata": {
        "colab": {
          "base_uri": "https://localhost:8080/",
          "height": 300
        },
        "id": "TdkR7guYDJp6",
        "outputId": "0212700e-9314-43be-dab5-fc32d147251e"
      },
      "execution_count": 16,
      "outputs": [
        {
          "output_type": "execute_result",
          "data": {
            "text/plain": [
              "       departure_time        stops   arrival_time     class  duration  \\\n",
              "259119      Afternoon  two_or_more        Evening  Business     31.17   \n",
              "196329          Night          one  Early_Morning   Economy     11.33   \n",
              "83816       Afternoon          one          Night   Economy      6.08   \n",
              "61408         Evening          one     Late_Night   Economy      8.08   \n",
              "25662           Night          one        Morning   Economy     12.25   \n",
              "\n",
              "        days_left  price  airline_AirAsia  airline_Air_India  \\\n",
              "259119          5  59106                0                  0   \n",
              "196329         33   4755                0                  0   \n",
              "83816          48   1890                0                  0   \n",
              "61408          49   2124                0                  0   \n",
              "25662          33   2480                1                  0   \n",
              "\n",
              "        airline_GO_FIRST  ...  source_city_Delhi  source_city_Hyderabad  \\\n",
              "259119                 0  ...                  0                      0   \n",
              "196329                 0  ...                  0                      0   \n",
              "83816                  0  ...                  0                      0   \n",
              "61408                  0  ...                  0                      0   \n",
              "25662                  0  ...                  1                      0   \n",
              "\n",
              "        source_city_Kolkata  source_city_Mumbai  destination_city_Bangalore  \\\n",
              "259119                    0                   0                           0   \n",
              "196329                    0                   0                           1   \n",
              "83816                     0                   1                           0   \n",
              "61408                     0                   1                           1   \n",
              "25662                     0                   0                           0   \n",
              "\n",
              "        destination_city_Chennai  destination_city_Delhi  \\\n",
              "259119                         1                       0   \n",
              "196329                         0                       0   \n",
              "83816                          1                       0   \n",
              "61408                          0                       0   \n",
              "25662                          0                       0   \n",
              "\n",
              "        destination_city_Hyderabad  destination_city_Kolkata  \\\n",
              "259119                           0                         0   \n",
              "196329                           0                         0   \n",
              "83816                            0                         0   \n",
              "61408                            0                         0   \n",
              "25662                            0                         1   \n",
              "\n",
              "        destination_city_Mumbai  \n",
              "259119                        0  \n",
              "196329                        0  \n",
              "83816                         0  \n",
              "61408                         0  \n",
              "25662                         0  \n",
              "\n",
              "[5 rows x 93 columns]"
            ],
            "text/html": [
              "\n",
              "  <div id=\"df-e95b8bf9-1e5c-4dba-a716-345850c788a3\">\n",
              "    <div class=\"colab-df-container\">\n",
              "      <div>\n",
              "<style scoped>\n",
              "    .dataframe tbody tr th:only-of-type {\n",
              "        vertical-align: middle;\n",
              "    }\n",
              "\n",
              "    .dataframe tbody tr th {\n",
              "        vertical-align: top;\n",
              "    }\n",
              "\n",
              "    .dataframe thead th {\n",
              "        text-align: right;\n",
              "    }\n",
              "</style>\n",
              "<table border=\"1\" class=\"dataframe\">\n",
              "  <thead>\n",
              "    <tr style=\"text-align: right;\">\n",
              "      <th></th>\n",
              "      <th>departure_time</th>\n",
              "      <th>stops</th>\n",
              "      <th>arrival_time</th>\n",
              "      <th>class</th>\n",
              "      <th>duration</th>\n",
              "      <th>days_left</th>\n",
              "      <th>price</th>\n",
              "      <th>airline_AirAsia</th>\n",
              "      <th>airline_Air_India</th>\n",
              "      <th>airline_GO_FIRST</th>\n",
              "      <th>...</th>\n",
              "      <th>source_city_Delhi</th>\n",
              "      <th>source_city_Hyderabad</th>\n",
              "      <th>source_city_Kolkata</th>\n",
              "      <th>source_city_Mumbai</th>\n",
              "      <th>destination_city_Bangalore</th>\n",
              "      <th>destination_city_Chennai</th>\n",
              "      <th>destination_city_Delhi</th>\n",
              "      <th>destination_city_Hyderabad</th>\n",
              "      <th>destination_city_Kolkata</th>\n",
              "      <th>destination_city_Mumbai</th>\n",
              "    </tr>\n",
              "  </thead>\n",
              "  <tbody>\n",
              "    <tr>\n",
              "      <th>259119</th>\n",
              "      <td>Afternoon</td>\n",
              "      <td>two_or_more</td>\n",
              "      <td>Evening</td>\n",
              "      <td>Business</td>\n",
              "      <td>31.17</td>\n",
              "      <td>5</td>\n",
              "      <td>59106</td>\n",
              "      <td>0</td>\n",
              "      <td>0</td>\n",
              "      <td>0</td>\n",
              "      <td>...</td>\n",
              "      <td>0</td>\n",
              "      <td>0</td>\n",
              "      <td>0</td>\n",
              "      <td>0</td>\n",
              "      <td>0</td>\n",
              "      <td>1</td>\n",
              "      <td>0</td>\n",
              "      <td>0</td>\n",
              "      <td>0</td>\n",
              "      <td>0</td>\n",
              "    </tr>\n",
              "    <tr>\n",
              "      <th>196329</th>\n",
              "      <td>Night</td>\n",
              "      <td>one</td>\n",
              "      <td>Early_Morning</td>\n",
              "      <td>Economy</td>\n",
              "      <td>11.33</td>\n",
              "      <td>33</td>\n",
              "      <td>4755</td>\n",
              "      <td>0</td>\n",
              "      <td>0</td>\n",
              "      <td>0</td>\n",
              "      <td>...</td>\n",
              "      <td>0</td>\n",
              "      <td>0</td>\n",
              "      <td>0</td>\n",
              "      <td>0</td>\n",
              "      <td>1</td>\n",
              "      <td>0</td>\n",
              "      <td>0</td>\n",
              "      <td>0</td>\n",
              "      <td>0</td>\n",
              "      <td>0</td>\n",
              "    </tr>\n",
              "    <tr>\n",
              "      <th>83816</th>\n",
              "      <td>Afternoon</td>\n",
              "      <td>one</td>\n",
              "      <td>Night</td>\n",
              "      <td>Economy</td>\n",
              "      <td>6.08</td>\n",
              "      <td>48</td>\n",
              "      <td>1890</td>\n",
              "      <td>0</td>\n",
              "      <td>0</td>\n",
              "      <td>0</td>\n",
              "      <td>...</td>\n",
              "      <td>0</td>\n",
              "      <td>0</td>\n",
              "      <td>0</td>\n",
              "      <td>1</td>\n",
              "      <td>0</td>\n",
              "      <td>1</td>\n",
              "      <td>0</td>\n",
              "      <td>0</td>\n",
              "      <td>0</td>\n",
              "      <td>0</td>\n",
              "    </tr>\n",
              "    <tr>\n",
              "      <th>61408</th>\n",
              "      <td>Evening</td>\n",
              "      <td>one</td>\n",
              "      <td>Late_Night</td>\n",
              "      <td>Economy</td>\n",
              "      <td>8.08</td>\n",
              "      <td>49</td>\n",
              "      <td>2124</td>\n",
              "      <td>0</td>\n",
              "      <td>0</td>\n",
              "      <td>0</td>\n",
              "      <td>...</td>\n",
              "      <td>0</td>\n",
              "      <td>0</td>\n",
              "      <td>0</td>\n",
              "      <td>1</td>\n",
              "      <td>1</td>\n",
              "      <td>0</td>\n",
              "      <td>0</td>\n",
              "      <td>0</td>\n",
              "      <td>0</td>\n",
              "      <td>0</td>\n",
              "    </tr>\n",
              "    <tr>\n",
              "      <th>25662</th>\n",
              "      <td>Night</td>\n",
              "      <td>one</td>\n",
              "      <td>Morning</td>\n",
              "      <td>Economy</td>\n",
              "      <td>12.25</td>\n",
              "      <td>33</td>\n",
              "      <td>2480</td>\n",
              "      <td>1</td>\n",
              "      <td>0</td>\n",
              "      <td>0</td>\n",
              "      <td>...</td>\n",
              "      <td>1</td>\n",
              "      <td>0</td>\n",
              "      <td>0</td>\n",
              "      <td>0</td>\n",
              "      <td>0</td>\n",
              "      <td>0</td>\n",
              "      <td>0</td>\n",
              "      <td>0</td>\n",
              "      <td>1</td>\n",
              "      <td>0</td>\n",
              "    </tr>\n",
              "  </tbody>\n",
              "</table>\n",
              "<p>5 rows × 93 columns</p>\n",
              "</div>\n",
              "      <button class=\"colab-df-convert\" onclick=\"convertToInteractive('df-e95b8bf9-1e5c-4dba-a716-345850c788a3')\"\n",
              "              title=\"Convert this dataframe to an interactive table.\"\n",
              "              style=\"display:none;\">\n",
              "        \n",
              "  <svg xmlns=\"http://www.w3.org/2000/svg\" height=\"24px\"viewBox=\"0 0 24 24\"\n",
              "       width=\"24px\">\n",
              "    <path d=\"M0 0h24v24H0V0z\" fill=\"none\"/>\n",
              "    <path d=\"M18.56 5.44l.94 2.06.94-2.06 2.06-.94-2.06-.94-.94-2.06-.94 2.06-2.06.94zm-11 1L8.5 8.5l.94-2.06 2.06-.94-2.06-.94L8.5 2.5l-.94 2.06-2.06.94zm10 10l.94 2.06.94-2.06 2.06-.94-2.06-.94-.94-2.06-.94 2.06-2.06.94z\"/><path d=\"M17.41 7.96l-1.37-1.37c-.4-.4-.92-.59-1.43-.59-.52 0-1.04.2-1.43.59L10.3 9.45l-7.72 7.72c-.78.78-.78 2.05 0 2.83L4 21.41c.39.39.9.59 1.41.59.51 0 1.02-.2 1.41-.59l7.78-7.78 2.81-2.81c.8-.78.8-2.07 0-2.86zM5.41 20L4 18.59l7.72-7.72 1.47 1.35L5.41 20z\"/>\n",
              "  </svg>\n",
              "      </button>\n",
              "      \n",
              "  <style>\n",
              "    .colab-df-container {\n",
              "      display:flex;\n",
              "      flex-wrap:wrap;\n",
              "      gap: 12px;\n",
              "    }\n",
              "\n",
              "    .colab-df-convert {\n",
              "      background-color: #E8F0FE;\n",
              "      border: none;\n",
              "      border-radius: 50%;\n",
              "      cursor: pointer;\n",
              "      display: none;\n",
              "      fill: #1967D2;\n",
              "      height: 32px;\n",
              "      padding: 0 0 0 0;\n",
              "      width: 32px;\n",
              "    }\n",
              "\n",
              "    .colab-df-convert:hover {\n",
              "      background-color: #E2EBFA;\n",
              "      box-shadow: 0px 1px 2px rgba(60, 64, 67, 0.3), 0px 1px 3px 1px rgba(60, 64, 67, 0.15);\n",
              "      fill: #174EA6;\n",
              "    }\n",
              "\n",
              "    [theme=dark] .colab-df-convert {\n",
              "      background-color: #3B4455;\n",
              "      fill: #D2E3FC;\n",
              "    }\n",
              "\n",
              "    [theme=dark] .colab-df-convert:hover {\n",
              "      background-color: #434B5C;\n",
              "      box-shadow: 0px 1px 3px 1px rgba(0, 0, 0, 0.15);\n",
              "      filter: drop-shadow(0px 1px 2px rgba(0, 0, 0, 0.3));\n",
              "      fill: #FFFFFF;\n",
              "    }\n",
              "  </style>\n",
              "\n",
              "      <script>\n",
              "        const buttonEl =\n",
              "          document.querySelector('#df-e95b8bf9-1e5c-4dba-a716-345850c788a3 button.colab-df-convert');\n",
              "        buttonEl.style.display =\n",
              "          google.colab.kernel.accessAllowed ? 'block' : 'none';\n",
              "\n",
              "        async function convertToInteractive(key) {\n",
              "          const element = document.querySelector('#df-e95b8bf9-1e5c-4dba-a716-345850c788a3');\n",
              "          const dataTable =\n",
              "            await google.colab.kernel.invokeFunction('convertToInteractive',\n",
              "                                                     [key], {});\n",
              "          if (!dataTable) return;\n",
              "\n",
              "          const docLinkHtml = 'Like what you see? Visit the ' +\n",
              "            '<a target=\"_blank\" href=https://colab.research.google.com/notebooks/data_table.ipynb>data table notebook</a>'\n",
              "            + ' to learn more about interactive tables.';\n",
              "          element.innerHTML = '';\n",
              "          dataTable['output_type'] = 'display_data';\n",
              "          await google.colab.output.renderOutput(dataTable, element);\n",
              "          const docLink = document.createElement('div');\n",
              "          docLink.innerHTML = docLinkHtml;\n",
              "          element.appendChild(docLink);\n",
              "        }\n",
              "      </script>\n",
              "    </div>\n",
              "  </div>\n",
              "  "
            ]
          },
          "metadata": {},
          "execution_count": 16
        }
      ]
    },
    {
      "cell_type": "markdown",
      "source": [
        "Now let's focus on categorical columns with ordered data like `departure_time`, `stops`, `arrival_time` and `class`. We can change data in these columns into numerical type using the data's order."
      ],
      "metadata": {
        "id": "BY6PeSLtDWai"
      }
    },
    {
      "cell_type": "code",
      "source": [
        "mapping_dict = {\n",
        "    \"departure_time\": {\n",
        "        \"Early_Morning\": 1,\n",
        "        \"Morning\": 2,\n",
        "        \"Afternoon\": 3,\n",
        "        \"Evening\": 4,\n",
        "        \"Night\": 5,\n",
        "        \"Late_Night\": 6,\n",
        "    },\n",
        "    \"stops\": {\n",
        "        \"zero\": 0,\n",
        "        \"one\": 1,\n",
        "        \"two_or_more\": 2\n",
        "    },\n",
        "    \"arrival_time\": {\n",
        "        \"Early_Morning\": 1,\n",
        "        \"Morning\": 2,\n",
        "        \"Afternoon\": 3,\n",
        "        \"Evening\": 4,\n",
        "        \"Night\": 5,\n",
        "        \"Late_Night\": 6,\n",
        "    },\n",
        "    \"class\": {\n",
        "         \"Economy\": 1,\n",
        "         \"Business\": 2\n",
        "    }\n",
        "}\n",
        "data = data.replace(mapping_dict)\n",
        "data[[\"departure_time\",\"stops\", \"arrival_time\", \"class\"]].head()"
      ],
      "metadata": {
        "colab": {
          "base_uri": "https://localhost:8080/",
          "height": 206
        },
        "id": "6aGXDfm6ERIL",
        "outputId": "59950958-0b22-46f6-9ad2-ece48e2f4892"
      },
      "execution_count": 17,
      "outputs": [
        {
          "output_type": "execute_result",
          "data": {
            "text/plain": [
              "        departure_time  stops  arrival_time  class\n",
              "259119               3      2             4      2\n",
              "196329               5      1             1      1\n",
              "83816                3      1             5      1\n",
              "61408                4      1             6      1\n",
              "25662                5      1             2      1"
            ],
            "text/html": [
              "\n",
              "  <div id=\"df-f498ba8e-29cb-4c60-b56f-d25a94bfc7b6\">\n",
              "    <div class=\"colab-df-container\">\n",
              "      <div>\n",
              "<style scoped>\n",
              "    .dataframe tbody tr th:only-of-type {\n",
              "        vertical-align: middle;\n",
              "    }\n",
              "\n",
              "    .dataframe tbody tr th {\n",
              "        vertical-align: top;\n",
              "    }\n",
              "\n",
              "    .dataframe thead th {\n",
              "        text-align: right;\n",
              "    }\n",
              "</style>\n",
              "<table border=\"1\" class=\"dataframe\">\n",
              "  <thead>\n",
              "    <tr style=\"text-align: right;\">\n",
              "      <th></th>\n",
              "      <th>departure_time</th>\n",
              "      <th>stops</th>\n",
              "      <th>arrival_time</th>\n",
              "      <th>class</th>\n",
              "    </tr>\n",
              "  </thead>\n",
              "  <tbody>\n",
              "    <tr>\n",
              "      <th>259119</th>\n",
              "      <td>3</td>\n",
              "      <td>2</td>\n",
              "      <td>4</td>\n",
              "      <td>2</td>\n",
              "    </tr>\n",
              "    <tr>\n",
              "      <th>196329</th>\n",
              "      <td>5</td>\n",
              "      <td>1</td>\n",
              "      <td>1</td>\n",
              "      <td>1</td>\n",
              "    </tr>\n",
              "    <tr>\n",
              "      <th>83816</th>\n",
              "      <td>3</td>\n",
              "      <td>1</td>\n",
              "      <td>5</td>\n",
              "      <td>1</td>\n",
              "    </tr>\n",
              "    <tr>\n",
              "      <th>61408</th>\n",
              "      <td>4</td>\n",
              "      <td>1</td>\n",
              "      <td>6</td>\n",
              "      <td>1</td>\n",
              "    </tr>\n",
              "    <tr>\n",
              "      <th>25662</th>\n",
              "      <td>5</td>\n",
              "      <td>1</td>\n",
              "      <td>2</td>\n",
              "      <td>1</td>\n",
              "    </tr>\n",
              "  </tbody>\n",
              "</table>\n",
              "</div>\n",
              "      <button class=\"colab-df-convert\" onclick=\"convertToInteractive('df-f498ba8e-29cb-4c60-b56f-d25a94bfc7b6')\"\n",
              "              title=\"Convert this dataframe to an interactive table.\"\n",
              "              style=\"display:none;\">\n",
              "        \n",
              "  <svg xmlns=\"http://www.w3.org/2000/svg\" height=\"24px\"viewBox=\"0 0 24 24\"\n",
              "       width=\"24px\">\n",
              "    <path d=\"M0 0h24v24H0V0z\" fill=\"none\"/>\n",
              "    <path d=\"M18.56 5.44l.94 2.06.94-2.06 2.06-.94-2.06-.94-.94-2.06-.94 2.06-2.06.94zm-11 1L8.5 8.5l.94-2.06 2.06-.94-2.06-.94L8.5 2.5l-.94 2.06-2.06.94zm10 10l.94 2.06.94-2.06 2.06-.94-2.06-.94-.94-2.06-.94 2.06-2.06.94z\"/><path d=\"M17.41 7.96l-1.37-1.37c-.4-.4-.92-.59-1.43-.59-.52 0-1.04.2-1.43.59L10.3 9.45l-7.72 7.72c-.78.78-.78 2.05 0 2.83L4 21.41c.39.39.9.59 1.41.59.51 0 1.02-.2 1.41-.59l7.78-7.78 2.81-2.81c.8-.78.8-2.07 0-2.86zM5.41 20L4 18.59l7.72-7.72 1.47 1.35L5.41 20z\"/>\n",
              "  </svg>\n",
              "      </button>\n",
              "      \n",
              "  <style>\n",
              "    .colab-df-container {\n",
              "      display:flex;\n",
              "      flex-wrap:wrap;\n",
              "      gap: 12px;\n",
              "    }\n",
              "\n",
              "    .colab-df-convert {\n",
              "      background-color: #E8F0FE;\n",
              "      border: none;\n",
              "      border-radius: 50%;\n",
              "      cursor: pointer;\n",
              "      display: none;\n",
              "      fill: #1967D2;\n",
              "      height: 32px;\n",
              "      padding: 0 0 0 0;\n",
              "      width: 32px;\n",
              "    }\n",
              "\n",
              "    .colab-df-convert:hover {\n",
              "      background-color: #E2EBFA;\n",
              "      box-shadow: 0px 1px 2px rgba(60, 64, 67, 0.3), 0px 1px 3px 1px rgba(60, 64, 67, 0.15);\n",
              "      fill: #174EA6;\n",
              "    }\n",
              "\n",
              "    [theme=dark] .colab-df-convert {\n",
              "      background-color: #3B4455;\n",
              "      fill: #D2E3FC;\n",
              "    }\n",
              "\n",
              "    [theme=dark] .colab-df-convert:hover {\n",
              "      background-color: #434B5C;\n",
              "      box-shadow: 0px 1px 3px 1px rgba(0, 0, 0, 0.15);\n",
              "      filter: drop-shadow(0px 1px 2px rgba(0, 0, 0, 0.3));\n",
              "      fill: #FFFFFF;\n",
              "    }\n",
              "  </style>\n",
              "\n",
              "      <script>\n",
              "        const buttonEl =\n",
              "          document.querySelector('#df-f498ba8e-29cb-4c60-b56f-d25a94bfc7b6 button.colab-df-convert');\n",
              "        buttonEl.style.display =\n",
              "          google.colab.kernel.accessAllowed ? 'block' : 'none';\n",
              "\n",
              "        async function convertToInteractive(key) {\n",
              "          const element = document.querySelector('#df-f498ba8e-29cb-4c60-b56f-d25a94bfc7b6');\n",
              "          const dataTable =\n",
              "            await google.colab.kernel.invokeFunction('convertToInteractive',\n",
              "                                                     [key], {});\n",
              "          if (!dataTable) return;\n",
              "\n",
              "          const docLinkHtml = 'Like what you see? Visit the ' +\n",
              "            '<a target=\"_blank\" href=https://colab.research.google.com/notebooks/data_table.ipynb>data table notebook</a>'\n",
              "            + ' to learn more about interactive tables.';\n",
              "          element.innerHTML = '';\n",
              "          dataTable['output_type'] = 'display_data';\n",
              "          await google.colab.output.renderOutput(dataTable, element);\n",
              "          const docLink = document.createElement('div');\n",
              "          docLink.innerHTML = docLinkHtml;\n",
              "          element.appendChild(docLink);\n",
              "        }\n",
              "      </script>\n",
              "    </div>\n",
              "  </div>\n",
              "  "
            ]
          },
          "metadata": {},
          "execution_count": 17
        }
      ]
    },
    {
      "cell_type": "code",
      "source": [
        "print(\"Data types and their frequency:\")\n",
        "data.dtypes.value_counts()"
      ],
      "metadata": {
        "colab": {
          "base_uri": "https://localhost:8080/"
        },
        "id": "PUgcH2BHF_G-",
        "outputId": "6ee18133-8d41-4ebb-8179-3db780ca27a8"
      },
      "execution_count": 18,
      "outputs": [
        {
          "output_type": "stream",
          "name": "stdout",
          "text": [
            "Data types and their frequency:\n"
          ]
        },
        {
          "output_type": "execute_result",
          "data": {
            "text/plain": [
              "uint8      86\n",
              "int64       6\n",
              "float64     1\n",
              "dtype: int64"
            ]
          },
          "metadata": {},
          "execution_count": 18
        }
      ]
    },
    {
      "cell_type": "code",
      "source": [
        "for col in [\"departure_time\", \"stops\", \"arrival_time\", \"class\"]:\n",
        "  print(f\"Column: {col}\")\n",
        "  print(data[col].value_counts())\n",
        "  data[col].value_counts().plot(kind=\"bar\", title=col)\n",
        "  plt.show()\n",
        "  print()"
      ],
      "metadata": {
        "colab": {
          "base_uri": "https://localhost:8080/",
          "height": 1000
        },
        "id": "-1SRWuQbG07q",
        "outputId": "c822c096-50e6-437d-d430-eaeafe0e1acc"
      },
      "execution_count": 19,
      "outputs": [
        {
          "output_type": "stream",
          "name": "stdout",
          "text": [
            "Column: departure_time\n",
            "2    1206\n",
            "4    1130\n",
            "1    1082\n",
            "3     820\n",
            "5     747\n",
            "6      15\n",
            "Name: departure_time, dtype: int64\n"
          ]
        },
        {
          "output_type": "display_data",
          "data": {
            "text/plain": [
              "<Figure size 432x288 with 1 Axes>"
            ],
            "image/png": "[encoded data removed]"
          },
          "metadata": {
            "needs_background": "light"
          }
        },
        {
          "output_type": "stream",
          "name": "stdout",
          "text": [
            "\n",
            "Column: stops\n",
            "1    4206\n",
            "0     568\n",
            "2     226\n",
            "Name: stops, dtype: int64\n"
          ]
        },
        {
          "output_type": "display_data",
          "data": {
            "text/plain": [
              "<Figure size 432x288 with 1 Axes>"
            ],
            "image/png": "[encoded data removed]"
          },
          "metadata": {
            "needs_background": "light"
          }
        },
        {
          "output_type": "stream",
          "name": "stdout",
          "text": [
            "\n",
            "Column: arrival_time\n",
            "5    1596\n",
            "4    1355\n",
            "2     996\n",
            "3     602\n",
            "1     248\n",
            "6     203\n",
            "Name: arrival_time, dtype: int64\n"
          ]
        },
        {
          "output_type": "display_data",
          "data": {
            "text/plain": [
              "<Figure size 432x288 with 1 Axes>"
            ],
            "image/png": "[encoded data removed]"
          },
          "metadata": {
            "needs_background": "light"
          }
        },
        {
          "output_type": "stream",
          "name": "stdout",
          "text": [
            "\n",
            "Column: class\n",
            "1    3441\n",
            "2    1559\n",
            "Name: class, dtype: int64\n"
          ]
        },
        {
          "output_type": "display_data",
          "data": {
            "text/plain": [
              "<Figure size 432x288 with 1 Axes>"
            ],
            "image/png": "[encoded data removed]"
          },
          "metadata": {
            "needs_background": "light"
          }
        },
        {
          "output_type": "stream",
          "name": "stdout",
          "text": [
            "\n"
          ]
        }
      ]
    },
    {
      "cell_type": "markdown",
      "source": [
        "Now we have successfully converted all of the columns into numerical type data. Let's save the data."
      ],
      "metadata": {
        "id": "JjRYDIhOHaWL"
      }
    },
    {
      "cell_type": "code",
      "source": [
        "data.head()"
      ],
      "metadata": {
        "colab": {
          "base_uri": "https://localhost:8080/",
          "height": 300
        },
        "id": "fM14E8iuHm9M",
        "outputId": "9f0ffc36-9436-40ac-8d10-5daafa772861"
      },
      "execution_count": 20,
      "outputs": [
        {
          "output_type": "execute_result",
          "data": {
            "text/plain": [
              "        departure_time  stops  arrival_time  class  duration  days_left  \\\n",
              "259119               3      2             4      2     31.17          5   \n",
              "196329               5      1             1      1     11.33         33   \n",
              "83816                3      1             5      1      6.08         48   \n",
              "61408                4      1             6      1      8.08         49   \n",
              "25662                5      1             2      1     12.25         33   \n",
              "\n",
              "        price  airline_AirAsia  airline_Air_India  airline_GO_FIRST  ...  \\\n",
              "259119  59106                0                  0                 0  ...   \n",
              "196329   4755                0                  0                 0  ...   \n",
              "83816    1890                0                  0                 0  ...   \n",
              "61408    2124                0                  0                 0  ...   \n",
              "25662    2480                1                  0                 0  ...   \n",
              "\n",
              "        source_city_Delhi  source_city_Hyderabad  source_city_Kolkata  \\\n",
              "259119                  0                      0                    0   \n",
              "196329                  0                      0                    0   \n",
              "83816                   0                      0                    0   \n",
              "61408                   0                      0                    0   \n",
              "25662                   1                      0                    0   \n",
              "\n",
              "        source_city_Mumbai  destination_city_Bangalore  \\\n",
              "259119                   0                           0   \n",
              "196329                   0                           1   \n",
              "83816                    1                           0   \n",
              "61408                    1                           1   \n",
              "25662                    0                           0   \n",
              "\n",
              "        destination_city_Chennai  destination_city_Delhi  \\\n",
              "259119                         1                       0   \n",
              "196329                         0                       0   \n",
              "83816                          1                       0   \n",
              "61408                          0                       0   \n",
              "25662                          0                       0   \n",
              "\n",
              "        destination_city_Hyderabad  destination_city_Kolkata  \\\n",
              "259119                           0                         0   \n",
              "196329                           0                         0   \n",
              "83816                            0                         0   \n",
              "61408                            0                         0   \n",
              "25662                            0                         1   \n",
              "\n",
              "        destination_city_Mumbai  \n",
              "259119                        0  \n",
              "196329                        0  \n",
              "83816                         0  \n",
              "61408                         0  \n",
              "25662                         0  \n",
              "\n",
              "[5 rows x 93 columns]"
            ],
            "text/html": [
              "\n",
              "  <div id=\"df-a512a0cd-431c-4c9c-afb9-89f73b2a16ff\">\n",
              "    <div class=\"colab-df-container\">\n",
              "      <div>\n",
              "<style scoped>\n",
              "    .dataframe tbody tr th:only-of-type {\n",
              "        vertical-align: middle;\n",
              "    }\n",
              "\n",
              "    .dataframe tbody tr th {\n",
              "        vertical-align: top;\n",
              "    }\n",
              "\n",
              "    .dataframe thead th {\n",
              "        text-align: right;\n",
              "    }\n",
              "</style>\n",
              "<table border=\"1\" class=\"dataframe\">\n",
              "  <thead>\n",
              "    <tr style=\"text-align: right;\">\n",
              "      <th></th>\n",
              "      <th>departure_time</th>\n",
              "      <th>stops</th>\n",
              "      <th>arrival_time</th>\n",
              "      <th>class</th>\n",
              "      <th>duration</th>\n",
              "      <th>days_left</th>\n",
              "      <th>price</th>\n",
              "      <th>airline_AirAsia</th>\n",
              "      <th>airline_Air_India</th>\n",
              "      <th>airline_GO_FIRST</th>\n",
              "      <th>...</th>\n",
              "      <th>source_city_Delhi</th>\n",
              "      <th>source_city_Hyderabad</th>\n",
              "      <th>source_city_Kolkata</th>\n",
              "      <th>source_city_Mumbai</th>\n",
              "      <th>destination_city_Bangalore</th>\n",
              "      <th>destination_city_Chennai</th>\n",
              "      <th>destination_city_Delhi</th>\n",
              "      <th>destination_city_Hyderabad</th>\n",
              "      <th>destination_city_Kolkata</th>\n",
              "      <th>destination_city_Mumbai</th>\n",
              "    </tr>\n",
              "  </thead>\n",
              "  <tbody>\n",
              "    <tr>\n",
              "      <th>259119</th>\n",
              "      <td>3</td>\n",
              "      <td>2</td>\n",
              "      <td>4</td>\n",
              "      <td>2</td>\n",
              "      <td>31.17</td>\n",
              "      <td>5</td>\n",
              "      <td>59106</td>\n",
              "      <td>0</td>\n",
              "      <td>0</td>\n",
              "      <td>0</td>\n",
              "      <td>...</td>\n",
              "      <td>0</td>\n",
              "      <td>0</td>\n",
              "      <td>0</td>\n",
              "      <td>0</td>\n",
              "      <td>0</td>\n",
              "      <td>1</td>\n",
              "      <td>0</td>\n",
              "      <td>0</td>\n",
              "      <td>0</td>\n",
              "      <td>0</td>\n",
              "    </tr>\n",
              "    <tr>\n",
              "      <th>196329</th>\n",
              "      <td>5</td>\n",
              "      <td>1</td>\n",
              "      <td>1</td>\n",
              "      <td>1</td>\n",
              "      <td>11.33</td>\n",
              "      <td>33</td>\n",
              "      <td>4755</td>\n",
              "      <td>0</td>\n",
              "      <td>0</td>\n",
              "      <td>0</td>\n",
              "      <td>...</td>\n",
              "      <td>0</td>\n",
              "      <td>0</td>\n",
              "      <td>0</td>\n",
              "      <td>0</td>\n",
              "      <td>1</td>\n",
              "      <td>0</td>\n",
              "      <td>0</td>\n",
              "      <td>0</td>\n",
              "      <td>0</td>\n",
              "      <td>0</td>\n",
              "    </tr>\n",
              "    <tr>\n",
              "      <th>83816</th>\n",
              "      <td>3</td>\n",
              "      <td>1</td>\n",
              "      <td>5</td>\n",
              "      <td>1</td>\n",
              "      <td>6.08</td>\n",
              "      <td>48</td>\n",
              "      <td>1890</td>\n",
              "      <td>0</td>\n",
              "      <td>0</td>\n",
              "      <td>0</td>\n",
              "      <td>...</td>\n",
              "      <td>0</td>\n",
              "      <td>0</td>\n",
              "      <td>0</td>\n",
              "      <td>1</td>\n",
              "      <td>0</td>\n",
              "      <td>1</td>\n",
              "      <td>0</td>\n",
              "      <td>0</td>\n",
              "      <td>0</td>\n",
              "      <td>0</td>\n",
              "    </tr>\n",
              "    <tr>\n",
              "      <th>61408</th>\n",
              "      <td>4</td>\n",
              "      <td>1</td>\n",
              "      <td>6</td>\n",
              "      <td>1</td>\n",
              "      <td>8.08</td>\n",
              "      <td>49</td>\n",
              "      <td>2124</td>\n",
              "      <td>0</td>\n",
              "      <td>0</td>\n",
              "      <td>0</td>\n",
              "      <td>...</td>\n",
              "      <td>0</td>\n",
              "      <td>0</td>\n",
              "      <td>0</td>\n",
              "      <td>1</td>\n",
              "      <td>1</td>\n",
              "      <td>0</td>\n",
              "      <td>0</td>\n",
              "      <td>0</td>\n",
              "      <td>0</td>\n",
              "      <td>0</td>\n",
              "    </tr>\n",
              "    <tr>\n",
              "      <th>25662</th>\n",
              "      <td>5</td>\n",
              "      <td>1</td>\n",
              "      <td>2</td>\n",
              "      <td>1</td>\n",
              "      <td>12.25</td>\n",
              "      <td>33</td>\n",
              "      <td>2480</td>\n",
              "      <td>1</td>\n",
              "      <td>0</td>\n",
              "      <td>0</td>\n",
              "      <td>...</td>\n",
              "      <td>1</td>\n",
              "      <td>0</td>\n",
              "      <td>0</td>\n",
              "      <td>0</td>\n",
              "      <td>0</td>\n",
              "      <td>0</td>\n",
              "      <td>0</td>\n",
              "      <td>0</td>\n",
              "      <td>1</td>\n",
              "      <td>0</td>\n",
              "    </tr>\n",
              "  </tbody>\n",
              "</table>\n",
              "<p>5 rows × 93 columns</p>\n",
              "</div>\n",
              "      <button class=\"colab-df-convert\" onclick=\"convertToInteractive('df-a512a0cd-431c-4c9c-afb9-89f73b2a16ff')\"\n",
              "              title=\"Convert this dataframe to an interactive table.\"\n",
              "              style=\"display:none;\">\n",
              "        \n",
              "  <svg xmlns=\"http://www.w3.org/2000/svg\" height=\"24px\"viewBox=\"0 0 24 24\"\n",
              "       width=\"24px\">\n",
              "    <path d=\"M0 0h24v24H0V0z\" fill=\"none\"/>\n",
              "    <path d=\"M18.56 5.44l.94 2.06.94-2.06 2.06-.94-2.06-.94-.94-2.06-.94 2.06-2.06.94zm-11 1L8.5 8.5l.94-2.06 2.06-.94-2.06-.94L8.5 2.5l-.94 2.06-2.06.94zm10 10l.94 2.06.94-2.06 2.06-.94-2.06-.94-.94-2.06-.94 2.06-2.06.94z\"/><path d=\"M17.41 7.96l-1.37-1.37c-.4-.4-.92-.59-1.43-.59-.52 0-1.04.2-1.43.59L10.3 9.45l-7.72 7.72c-.78.78-.78 2.05 0 2.83L4 21.41c.39.39.9.59 1.41.59.51 0 1.02-.2 1.41-.59l7.78-7.78 2.81-2.81c.8-.78.8-2.07 0-2.86zM5.41 20L4 18.59l7.72-7.72 1.47 1.35L5.41 20z\"/>\n",
              "  </svg>\n",
              "      </button>\n",
              "      \n",
              "  <style>\n",
              "    .colab-df-container {\n",
              "      display:flex;\n",
              "      flex-wrap:wrap;\n",
              "      gap: 12px;\n",
              "    }\n",
              "\n",
              "    .colab-df-convert {\n",
              "      background-color: #E8F0FE;\n",
              "      border: none;\n",
              "      border-radius: 50%;\n",
              "      cursor: pointer;\n",
              "      display: none;\n",
              "      fill: #1967D2;\n",
              "      height: 32px;\n",
              "      padding: 0 0 0 0;\n",
              "      width: 32px;\n",
              "    }\n",
              "\n",
              "    .colab-df-convert:hover {\n",
              "      background-color: #E2EBFA;\n",
              "      box-shadow: 0px 1px 2px rgba(60, 64, 67, 0.3), 0px 1px 3px 1px rgba(60, 64, 67, 0.15);\n",
              "      fill: #174EA6;\n",
              "    }\n",
              "\n",
              "    [theme=dark] .colab-df-convert {\n",
              "      background-color: #3B4455;\n",
              "      fill: #D2E3FC;\n",
              "    }\n",
              "\n",
              "    [theme=dark] .colab-df-convert:hover {\n",
              "      background-color: #434B5C;\n",
              "      box-shadow: 0px 1px 3px 1px rgba(0, 0, 0, 0.15);\n",
              "      filter: drop-shadow(0px 1px 2px rgba(0, 0, 0, 0.3));\n",
              "      fill: #FFFFFF;\n",
              "    }\n",
              "  </style>\n",
              "\n",
              "      <script>\n",
              "        const buttonEl =\n",
              "          document.querySelector('#df-a512a0cd-431c-4c9c-afb9-89f73b2a16ff button.colab-df-convert');\n",
              "        buttonEl.style.display =\n",
              "          google.colab.kernel.accessAllowed ? 'block' : 'none';\n",
              "\n",
              "        async function convertToInteractive(key) {\n",
              "          const element = document.querySelector('#df-a512a0cd-431c-4c9c-afb9-89f73b2a16ff');\n",
              "          const dataTable =\n",
              "            await google.colab.kernel.invokeFunction('convertToInteractive',\n",
              "                                                     [key], {});\n",
              "          if (!dataTable) return;\n",
              "\n",
              "          const docLinkHtml = 'Like what you see? Visit the ' +\n",
              "            '<a target=\"_blank\" href=https://colab.research.google.com/notebooks/data_table.ipynb>data table notebook</a>'\n",
              "            + ' to learn more about interactive tables.';\n",
              "          element.innerHTML = '';\n",
              "          dataTable['output_type'] = 'display_data';\n",
              "          await google.colab.output.renderOutput(dataTable, element);\n",
              "          const docLink = document.createElement('div');\n",
              "          docLink.innerHTML = docLinkHtml;\n",
              "          element.appendChild(docLink);\n",
              "        }\n",
              "      </script>\n",
              "    </div>\n",
              "  </div>\n",
              "  "
            ]
          },
          "metadata": {},
          "execution_count": 20
        }
      ]
    },
    {
      "cell_type": "code",
      "source": [
        "# data.to_csv(\"cleaned_flights_data.csv\", index=True)"
      ],
      "metadata": {
        "id": "on58XSEIHvvJ"
      },
      "execution_count": 21,
      "outputs": []
    },
    {
      "cell_type": "markdown",
      "source": [
        "Let's divide our data into test and train set"
      ],
      "metadata": {
        "id": "FUme9C4aJ9Od"
      }
    },
    {
      "cell_type": "code",
      "source": [
        "from sklearn.model_selection import train_test_split\n",
        "\n",
        "X = data.loc[:, data.columns != \"price\"]\n",
        "y = data[\"price\"] # price is the feature we want to predict\n",
        "\n",
        "X_train, X_test, y_train, y_test = train_test_split(X, y, test_size=0.33, random_state=42)"
      ],
      "metadata": {
        "id": "0n_dfcP9J07m"
      },
      "execution_count": 22,
      "outputs": []
    },
    {
      "cell_type": "code",
      "source": [
        "X_train.head()"
      ],
      "metadata": {
        "colab": {
          "base_uri": "https://localhost:8080/",
          "height": 300
        },
        "id": "aRhH4dFYKZIw",
        "outputId": "62bc9601-ddf9-41cd-eaa6-d9e928ae6d64"
      },
      "execution_count": 23,
      "outputs": [
        {
          "output_type": "execute_result",
          "data": {
            "text/plain": [
              "        departure_time  stops  arrival_time  class  duration  days_left  \\\n",
              "31998                2      1             5      1     12.08         26   \n",
              "35324                1      1             5      1     14.92         49   \n",
              "239849               3      1             2      2     17.92         27   \n",
              "58673                5      1             2      1      9.25         34   \n",
              "265281               2      1             4      2      7.42         20   \n",
              "\n",
              "        airline_AirAsia  airline_Air_India  airline_GO_FIRST  airline_Indigo  \\\n",
              "31998                 0                  0                 0               0   \n",
              "35324                 0                  0                 1               0   \n",
              "239849                0                  0                 0               0   \n",
              "58673                 0                  0                 0               0   \n",
              "265281                0                  0                 0               0   \n",
              "\n",
              "        ...  source_city_Delhi  source_city_Hyderabad  source_city_Kolkata  \\\n",
              "31998   ...                  1                      0                    0   \n",
              "35324   ...                  1                      0                    0   \n",
              "239849  ...                  0                      0                    0   \n",
              "58673   ...                  0                      0                    0   \n",
              "265281  ...                  0                      0                    1   \n",
              "\n",
              "        source_city_Mumbai  destination_city_Bangalore  \\\n",
              "31998                    0                           0   \n",
              "35324                    0                           0   \n",
              "239849                   1                           0   \n",
              "58673                    1                           1   \n",
              "265281                   0                           0   \n",
              "\n",
              "        destination_city_Chennai  destination_city_Delhi  \\\n",
              "31998                          0                       0   \n",
              "35324                          0                       0   \n",
              "239849                         0                       0   \n",
              "58673                          0                       0   \n",
              "265281                         0                       0   \n",
              "\n",
              "        destination_city_Hyderabad  destination_city_Kolkata  \\\n",
              "31998                            1                         0   \n",
              "35324                            1                         0   \n",
              "239849                           1                         0   \n",
              "58673                            0                         0   \n",
              "265281                           0                         0   \n",
              "\n",
              "        destination_city_Mumbai  \n",
              "31998                         0  \n",
              "35324                         0  \n",
              "239849                        0  \n",
              "58673                         0  \n",
              "265281                        1  \n",
              "\n",
              "[5 rows x 92 columns]"
            ],
            "text/html": [
              "\n",
              "  <div id=\"df-54cafc73-e843-496f-b61e-d730e94758ad\">\n",
              "    <div class=\"colab-df-container\">\n",
              "      <div>\n",
              "<style scoped>\n",
              "    .dataframe tbody tr th:only-of-type {\n",
              "        vertical-align: middle;\n",
              "    }\n",
              "\n",
              "    .dataframe tbody tr th {\n",
              "        vertical-align: top;\n",
              "    }\n",
              "\n",
              "    .dataframe thead th {\n",
              "        text-align: right;\n",
              "    }\n",
              "</style>\n",
              "<table border=\"1\" class=\"dataframe\">\n",
              "  <thead>\n",
              "    <tr style=\"text-align: right;\">\n",
              "      <th></th>\n",
              "      <th>departure_time</th>\n",
              "      <th>stops</th>\n",
              "      <th>arrival_time</th>\n",
              "      <th>class</th>\n",
              "      <th>duration</th>\n",
              "      <th>days_left</th>\n",
              "      <th>airline_AirAsia</th>\n",
              "      <th>airline_Air_India</th>\n",
              "      <th>airline_GO_FIRST</th>\n",
              "      <th>airline_Indigo</th>\n",
              "      <th>...</th>\n",
              "      <th>source_city_Delhi</th>\n",
              "      <th>source_city_Hyderabad</th>\n",
              "      <th>source_city_Kolkata</th>\n",
              "      <th>source_city_Mumbai</th>\n",
              "      <th>destination_city_Bangalore</th>\n",
              "      <th>destination_city_Chennai</th>\n",
              "      <th>destination_city_Delhi</th>\n",
              "      <th>destination_city_Hyderabad</th>\n",
              "      <th>destination_city_Kolkata</th>\n",
              "      <th>destination_city_Mumbai</th>\n",
              "    </tr>\n",
              "  </thead>\n",
              "  <tbody>\n",
              "    <tr>\n",
              "      <th>31998</th>\n",
              "      <td>2</td>\n",
              "      <td>1</td>\n",
              "      <td>5</td>\n",
              "      <td>1</td>\n",
              "      <td>12.08</td>\n",
              "      <td>26</td>\n",
              "      <td>0</td>\n",
              "      <td>0</td>\n",
              "      <td>0</td>\n",
              "      <td>0</td>\n",
              "      <td>...</td>\n",
              "      <td>1</td>\n",
              "      <td>0</td>\n",
              "      <td>0</td>\n",
              "      <td>0</td>\n",
              "      <td>0</td>\n",
              "      <td>0</td>\n",
              "      <td>0</td>\n",
              "      <td>1</td>\n",
              "      <td>0</td>\n",
              "      <td>0</td>\n",
              "    </tr>\n",
              "    <tr>\n",
              "      <th>35324</th>\n",
              "      <td>1</td>\n",
              "      <td>1</td>\n",
              "      <td>5</td>\n",
              "      <td>1</td>\n",
              "      <td>14.92</td>\n",
              "      <td>49</td>\n",
              "      <td>0</td>\n",
              "      <td>0</td>\n",
              "      <td>1</td>\n",
              "      <td>0</td>\n",
              "      <td>...</td>\n",
              "      <td>1</td>\n",
              "      <td>0</td>\n",
              "      <td>0</td>\n",
              "      <td>0</td>\n",
              "      <td>0</td>\n",
              "      <td>0</td>\n",
              "      <td>0</td>\n",
              "      <td>1</td>\n",
              "      <td>0</td>\n",
              "      <td>0</td>\n",
              "    </tr>\n",
              "    <tr>\n",
              "      <th>239849</th>\n",
              "      <td>3</td>\n",
              "      <td>1</td>\n",
              "      <td>2</td>\n",
              "      <td>2</td>\n",
              "      <td>17.92</td>\n",
              "      <td>27</td>\n",
              "      <td>0</td>\n",
              "      <td>0</td>\n",
              "      <td>0</td>\n",
              "      <td>0</td>\n",
              "      <td>...</td>\n",
              "      <td>0</td>\n",
              "      <td>0</td>\n",
              "      <td>0</td>\n",
              "      <td>1</td>\n",
              "      <td>0</td>\n",
              "      <td>0</td>\n",
              "      <td>0</td>\n",
              "      <td>1</td>\n",
              "      <td>0</td>\n",
              "      <td>0</td>\n",
              "    </tr>\n",
              "    <tr>\n",
              "      <th>58673</th>\n",
              "      <td>5</td>\n",
              "      <td>1</td>\n",
              "      <td>2</td>\n",
              "      <td>1</td>\n",
              "      <td>9.25</td>\n",
              "      <td>34</td>\n",
              "      <td>0</td>\n",
              "      <td>0</td>\n",
              "      <td>0</td>\n",
              "      <td>0</td>\n",
              "      <td>...</td>\n",
              "      <td>0</td>\n",
              "      <td>0</td>\n",
              "      <td>0</td>\n",
              "      <td>1</td>\n",
              "      <td>1</td>\n",
              "      <td>0</td>\n",
              "      <td>0</td>\n",
              "      <td>0</td>\n",
              "      <td>0</td>\n",
              "      <td>0</td>\n",
              "    </tr>\n",
              "    <tr>\n",
              "      <th>265281</th>\n",
              "      <td>2</td>\n",
              "      <td>1</td>\n",
              "      <td>4</td>\n",
              "      <td>2</td>\n",
              "      <td>7.42</td>\n",
              "      <td>20</td>\n",
              "      <td>0</td>\n",
              "      <td>0</td>\n",
              "      <td>0</td>\n",
              "      <td>0</td>\n",
              "      <td>...</td>\n",
              "      <td>0</td>\n",
              "      <td>0</td>\n",
              "      <td>1</td>\n",
              "      <td>0</td>\n",
              "      <td>0</td>\n",
              "      <td>0</td>\n",
              "      <td>0</td>\n",
              "      <td>0</td>\n",
              "      <td>0</td>\n",
              "      <td>1</td>\n",
              "    </tr>\n",
              "  </tbody>\n",
              "</table>\n",
              "<p>5 rows × 92 columns</p>\n",
              "</div>\n",
              "      <button class=\"colab-df-convert\" onclick=\"convertToInteractive('df-54cafc73-e843-496f-b61e-d730e94758ad')\"\n",
              "              title=\"Convert this dataframe to an interactive table.\"\n",
              "              style=\"display:none;\">\n",
              "        \n",
              "  <svg xmlns=\"http://www.w3.org/2000/svg\" height=\"24px\"viewBox=\"0 0 24 24\"\n",
              "       width=\"24px\">\n",
              "    <path d=\"M0 0h24v24H0V0z\" fill=\"none\"/>\n",
              "    <path d=\"M18.56 5.44l.94 2.06.94-2.06 2.06-.94-2.06-.94-.94-2.06-.94 2.06-2.06.94zm-11 1L8.5 8.5l.94-2.06 2.06-.94-2.06-.94L8.5 2.5l-.94 2.06-2.06.94zm10 10l.94 2.06.94-2.06 2.06-.94-2.06-.94-.94-2.06-.94 2.06-2.06.94z\"/><path d=\"M17.41 7.96l-1.37-1.37c-.4-.4-.92-.59-1.43-.59-.52 0-1.04.2-1.43.59L10.3 9.45l-7.72 7.72c-.78.78-.78 2.05 0 2.83L4 21.41c.39.39.9.59 1.41.59.51 0 1.02-.2 1.41-.59l7.78-7.78 2.81-2.81c.8-.78.8-2.07 0-2.86zM5.41 20L4 18.59l7.72-7.72 1.47 1.35L5.41 20z\"/>\n",
              "  </svg>\n",
              "      </button>\n",
              "      \n",
              "  <style>\n",
              "    .colab-df-container {\n",
              "      display:flex;\n",
              "      flex-wrap:wrap;\n",
              "      gap: 12px;\n",
              "    }\n",
              "\n",
              "    .colab-df-convert {\n",
              "      background-color: #E8F0FE;\n",
              "      border: none;\n",
              "      border-radius: 50%;\n",
              "      cursor: pointer;\n",
              "      display: none;\n",
              "      fill: #1967D2;\n",
              "      height: 32px;\n",
              "      padding: 0 0 0 0;\n",
              "      width: 32px;\n",
              "    }\n",
              "\n",
              "    .colab-df-convert:hover {\n",
              "      background-color: #E2EBFA;\n",
              "      box-shadow: 0px 1px 2px rgba(60, 64, 67, 0.3), 0px 1px 3px 1px rgba(60, 64, 67, 0.15);\n",
              "      fill: #174EA6;\n",
              "    }\n",
              "\n",
              "    [theme=dark] .colab-df-convert {\n",
              "      background-color: #3B4455;\n",
              "      fill: #D2E3FC;\n",
              "    }\n",
              "\n",
              "    [theme=dark] .colab-df-convert:hover {\n",
              "      background-color: #434B5C;\n",
              "      box-shadow: 0px 1px 3px 1px rgba(0, 0, 0, 0.15);\n",
              "      filter: drop-shadow(0px 1px 2px rgba(0, 0, 0, 0.3));\n",
              "      fill: #FFFFFF;\n",
              "    }\n",
              "  </style>\n",
              "\n",
              "      <script>\n",
              "        const buttonEl =\n",
              "          document.querySelector('#df-54cafc73-e843-496f-b61e-d730e94758ad button.colab-df-convert');\n",
              "        buttonEl.style.display =\n",
              "          google.colab.kernel.accessAllowed ? 'block' : 'none';\n",
              "\n",
              "        async function convertToInteractive(key) {\n",
              "          const element = document.querySelector('#df-54cafc73-e843-496f-b61e-d730e94758ad');\n",
              "          const dataTable =\n",
              "            await google.colab.kernel.invokeFunction('convertToInteractive',\n",
              "                                                     [key], {});\n",
              "          if (!dataTable) return;\n",
              "\n",
              "          const docLinkHtml = 'Like what you see? Visit the ' +\n",
              "            '<a target=\"_blank\" href=https://colab.research.google.com/notebooks/data_table.ipynb>data table notebook</a>'\n",
              "            + ' to learn more about interactive tables.';\n",
              "          element.innerHTML = '';\n",
              "          dataTable['output_type'] = 'display_data';\n",
              "          await google.colab.output.renderOutput(dataTable, element);\n",
              "          const docLink = document.createElement('div');\n",
              "          docLink.innerHTML = docLinkHtml;\n",
              "          element.appendChild(docLink);\n",
              "        }\n",
              "      </script>\n",
              "    </div>\n",
              "  </div>\n",
              "  "
            ]
          },
          "metadata": {},
          "execution_count": 23
        }
      ]
    },
    {
      "cell_type": "code",
      "source": [
        "X_train.shape"
      ],
      "metadata": {
        "colab": {
          "base_uri": "https://localhost:8080/"
        },
        "id": "WyXTQ3pWuwWT",
        "outputId": "e0773876-51c7-432e-8ee3-af147197e541"
      },
      "execution_count": 24,
      "outputs": [
        {
          "output_type": "execute_result",
          "data": {
            "text/plain": [
              "(3350, 92)"
            ]
          },
          "metadata": {},
          "execution_count": 24
        }
      ]
    },
    {
      "cell_type": "code",
      "source": [
        "y_train.head()"
      ],
      "metadata": {
        "colab": {
          "base_uri": "https://localhost:8080/"
        },
        "id": "-e3E6VEsKc1t",
        "outputId": "773eae2c-a9b1-40a3-c631-2be930a83f90"
      },
      "execution_count": 25,
      "outputs": [
        {
          "output_type": "execute_result",
          "data": {
            "text/plain": [
              "31998      6172\n",
              "35324      5657\n",
              "239849    58125\n",
              "58673      3944\n",
              "265281    62591\n",
              "Name: price, dtype: int64"
            ]
          },
          "metadata": {},
          "execution_count": 25
        }
      ]
    },
    {
      "cell_type": "code",
      "source": [
        "y_train.shape"
      ],
      "metadata": {
        "colab": {
          "base_uri": "https://localhost:8080/"
        },
        "id": "De_c6JW8u0qp",
        "outputId": "4abed6e4-a76c-4f34-f576-711b6be98f11"
      },
      "execution_count": 26,
      "outputs": [
        {
          "output_type": "execute_result",
          "data": {
            "text/plain": [
              "(3350,)"
            ]
          },
          "metadata": {},
          "execution_count": 26
        }
      ]
    },
    {
      "cell_type": "code",
      "source": [
        "plt.hist(y_train, label=\"train\", bins=100)\n",
        "plt.hist(y_test, label=\"test\", bins=100)\n",
        "plt.legend()\n",
        "plt.show()"
      ],
      "metadata": {
        "colab": {
          "base_uri": "https://localhost:8080/",
          "height": 265
        },
        "id": "vHYu4g-OKxak",
        "outputId": "13643fe3-61c2-4726-dc32-e290d6296dd7"
      },
      "execution_count": 27,
      "outputs": [
        {
          "output_type": "display_data",
          "data": {
            "text/plain": [
              "<Figure size 432x288 with 1 Axes>"
            ],
            "image/png": "[encoded data removed]"
          },
          "metadata": {
            "needs_background": "light"
          }
        }
      ]
    },
    {
      "cell_type": "markdown",
      "source": [
        "# Models\n",
        "\n",
        "At the beggining we will use these simple models to predict flight price.\n",
        "\n",
        "- `LinearRegression`\n",
        "- `Ridge`\n",
        "- `Lasso`\n",
        "- `ElasticNet`\n",
        "\n",
        "For each of them we will run `GridSearch` with `StratifiedKFold` to find the best possible parameters and we will calculate metrics so we can select the best one for our purpose.\n",
        "\n"
      ],
      "metadata": {
        "id": "O83zAcz2fVNO"
      }
    },
    {
      "cell_type": "code",
      "source": [
        "from sklearn.model_selection import StratifiedKFold\n",
        "\n",
        "kfold = StratifiedKFold(n_splits=5, random_state=123, shuffle=True)"
      ],
      "metadata": {
        "id": "T5tl8uoJfXAd"
      },
      "execution_count": 28,
      "outputs": []
    },
    {
      "cell_type": "code",
      "source": [
        "from sklearn.linear_model import LinearRegression\n",
        "from sklearn.preprocessing import PolynomialFeatures\n",
        "from sklearn.pipeline import make_pipeline\n",
        "from sklearn.model_selection import GridSearchCV\n",
        "\n",
        "linear_regression_grid = GridSearchCV(\n",
        "    make_pipeline(PolynomialFeatures(degree=2), LinearRegression()),\n",
        "    param_grid={'polynomialfeatures__degree': [1, 2, 3]},\n",
        "    cv=kfold\n",
        ")\n",
        "\n",
        "linear_regression_grid.fit(X_train, y_train)\n",
        "print(linear_regression_grid.best_params_)\n",
        "print(linear_regression_grid.best_estimator_)"
      ],
      "metadata": {
        "colab": {
          "base_uri": "https://localhost:8080/"
        },
        "id": "DOa-ikDbfXxB",
        "outputId": "e1a40956-124c-40f9-b98b-39dc3fff316f"
      },
      "execution_count": 29,
      "outputs": [
        {
          "output_type": "stream",
          "name": "stderr",
          "text": [
            "/usr/local/lib/python3.7/dist-packages/sklearn/model_selection/_split.py:680: UserWarning: The least populated class in y has only 1 members, which is less than n_splits=5.\n",
            "  UserWarning,\n"
          ]
        },
        {
          "output_type": "stream",
          "name": "stdout",
          "text": [
            "{'polynomialfeatures__degree': 1}\n",
            "Pipeline(steps=[('polynomialfeatures', PolynomialFeatures(degree=1)),\n",
            "                ('linearregression', LinearRegression())])\n"
          ]
        }
      ]
    },
    {
      "cell_type": "code",
      "source": [
        "from sklearn import metrics\n",
        "\n",
        "linear_regression_metrics = {\n",
        "  \"r2\": metrics.r2_score(y_test, linear_regression_grid.best_estimator_.predict(X_test)),\n",
        "  \"explained_variance_score\": metrics.explained_variance_score(y_test, linear_regression_grid.best_estimator_.predict(X_test)),\n",
        "  \"median_absolute_error\": metrics.median_absolute_error(y_test, linear_regression_grid.best_estimator_.predict(X_test)),\n",
        "  \"mean_squared_error\": metrics.mean_squared_error(y_test, linear_regression_grid.best_estimator_.predict(X_test)),\n",
        "  \"mean_absolute_error\": metrics.mean_absolute_error(y_test, linear_regression_grid.best_estimator_.predict(X_test))\n",
        "}\n",
        "print(linear_regression_metrics)"
      ],
      "metadata": {
        "colab": {
          "base_uri": "https://localhost:8080/"
        },
        "id": "sxjK3IAp0IKK",
        "outputId": "7be3f49a-415b-4e1f-9de3-af22f49dd35c"
      },
      "execution_count": 31,
      "outputs": [
        {
          "output_type": "stream",
          "name": "stdout",
          "text": [
            "{'r2': 0.9160382147256467, 'explained_variance_score': 0.9160415811729246, 'median_absolute_error': 3085.459844134508, 'mean_squared_error': 44210534.54936843, 'mean_absolute_error': 4472.865541723537}\n"
          ]
        }
      ]
    },
    {
      "cell_type": "code",
      "source": [
        "from sklearn.linear_model import Ridge\n",
        "\n",
        "ridge_regression_grid = GridSearchCV(\n",
        "    make_pipeline(PolynomialFeatures(degree=2), Ridge(alpha=1)),\n",
        "    param_grid={\n",
        "        'polynomialfeatures__degree': [1, 2, 3],\n",
        "        'ridge__alpha': [0.01, 0.1, 1, 10]\n",
        "    },\n",
        "    cv=kfold\n",
        ")\n",
        "\n",
        "ridge_regression_grid.fit(X_train, y_train)\n",
        "print(ridge_regression_grid.best_params_)\n",
        "print(ridge_regression_grid.best_estimator_)"
      ],
      "metadata": {
        "id": "iDmRTBeh_Kbf",
        "outputId": "f520ebce-1bec-42d1-a9a7-81906e1146d0",
        "colab": {
          "base_uri": "https://localhost:8080/"
        }
      },
      "execution_count": 32,
      "outputs": [
        {
          "output_type": "stream",
          "name": "stderr",
          "text": [
            "/usr/local/lib/python3.7/dist-packages/sklearn/model_selection/_split.py:680: UserWarning: The least populated class in y has only 1 members, which is less than n_splits=5.\n",
            "  UserWarning,\n"
          ]
        },
        {
          "output_type": "stream",
          "name": "stdout",
          "text": [
            "{'polynomialfeatures__degree': 2, 'ridge__alpha': 10}\n",
            "Pipeline(steps=[('polynomialfeatures', PolynomialFeatures()),\n",
            "                ('ridge', Ridge(alpha=10))])\n"
          ]
        }
      ]
    },
    {
      "cell_type": "code",
      "source": [
        "ridge_regression_metrics = {\n",
        "  \"r2\": metrics.r2_score(y_test, ridge_regression_grid.best_estimator_.predict(X_test)),\n",
        "  \"explained_variance_score\": metrics.explained_variance_score(y_test, ridge_regression_grid.best_estimator_.predict(X_test)),\n",
        "  \"median_absolute_error\": metrics.median_absolute_error(y_test, ridge_regression_grid.best_estimator_.predict(X_test)),\n",
        "  \"mean_squared_error\": metrics.mean_squared_error(y_test, ridge_regression_grid.best_estimator_.predict(X_test)),\n",
        "  \"mean_absolute_error\": metrics.mean_absolute_error(y_test, ridge_regression_grid.best_estimator_.predict(X_test))\n",
        "}\n",
        "print(ridge_regression_metrics)"
      ],
      "metadata": {
        "id": "f2lo30PlDHmj",
        "outputId": "4d2fa298-4441-4f3b-db0c-a270886bd616",
        "colab": {
          "base_uri": "https://localhost:8080/"
        }
      },
      "execution_count": 33,
      "outputs": [
        {
          "output_type": "stream",
          "name": "stdout",
          "text": [
            "{'r2': 0.9509416739954394, 'explained_variance_score': 0.9509442868767721, 'median_absolute_error': 2074.98135639712, 'mean_squared_error': 25831928.295375485, 'mean_absolute_error': 3340.4113236271337}\n"
          ]
        }
      ]
    }
  ]
}